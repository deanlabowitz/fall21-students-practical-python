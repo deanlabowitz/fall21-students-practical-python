{
 "cells": [
  {
   "cell_type": "markdown",
   "metadata": {
    "id": "TG0YzMY9Dt8w"
   },
   "source": [
    "You will scrape this <a href=\"https://sandeepmj.github.io/scrape-example-page/homework-site.html\">mockup site</a> that lists a few data points for addiction centers."
   ]
  },
  {
   "cell_type": "code",
   "execution_count": null,
   "metadata": {
    "id": "cXQW0IJoDt8x"
   },
   "outputs": [],
   "source": [
    "## import library(ies)\n"
   ]
  },
  {
   "cell_type": "code",
   "execution_count": null,
   "metadata": {},
   "outputs": [],
   "source": [
    "## capture the contents of the site in a response object"
   ]
  },
  {
   "cell_type": "code",
   "execution_count": null,
   "metadata": {
    "id": "cgMlKxSADt8x"
   },
   "outputs": [],
   "source": [
    "## generate and print soup\n"
   ]
  },
  {
   "cell_type": "code",
   "execution_count": null,
   "metadata": {
    "id": "RLW9lFCyDt8x"
   },
   "outputs": [],
   "source": [
    "## check data type of soup\n"
   ]
  },
  {
   "cell_type": "code",
   "execution_count": null,
   "metadata": {
    "id": "H8nE6kaADt8x"
   },
   "outputs": [],
   "source": [
    "### Return the name of the first center (including the html)\n"
   ]
  },
  {
   "cell_type": "code",
   "execution_count": null,
   "metadata": {
    "id": "yuyqylpRDt8x"
   },
   "outputs": [],
   "source": [
    "### Return only the name of the first center (remove all the html)\n"
   ]
  },
  {
   "cell_type": "code",
   "execution_count": null,
   "metadata": {
    "id": "KeXhNlUxDt8x"
   },
   "outputs": [],
   "source": [
    "### Return only the URL of the first center\n"
   ]
  },
  {
   "cell_type": "code",
   "execution_count": null,
   "metadata": {
    "id": "A5Z8R5DLDt8x"
   },
   "outputs": [],
   "source": [
    "### Find first instance of ALL a center's data\n",
    "### Think of this as the first group of data associated with a company\n"
   ]
  },
  {
   "cell_type": "code",
   "execution_count": null,
   "metadata": {
    "id": "mf9-Io-ODt8x"
   },
   "outputs": [],
   "source": [
    "#### Find all the instances of every centers' data points.\n"
   ]
  },
  {
   "cell_type": "code",
   "execution_count": null,
   "metadata": {
    "id": "PFHFs6v1Dt8x"
   },
   "outputs": [],
   "source": [
    "### Find all the registration data\n"
   ]
  },
  {
   "cell_type": "markdown",
   "metadata": {
    "id": "DtuuSUA5Dt8x"
   },
   "source": [
    "### Place all the registration data into a list with only the numbers in the format.\n",
    "It should look like this:\n",
    "\n",
    "```['4235', '4234', '4231']```"
   ]
  },
  {
   "cell_type": "code",
   "execution_count": null,
   "metadata": {
    "id": "5cDY4G7tDt8x"
   },
   "outputs": [],
   "source": [
    "## do it here (create more cells if you need them)\n"
   ]
  },
  {
   "cell_type": "markdown",
   "metadata": {
    "id": "D2nbZQEWDt8x"
   },
   "source": [
    "### Place all the company names into a list.\n",
    "It should look like this:\n",
    "\n",
    "```['Recovery Foundation','New Horizons','Renewable Light']```"
   ]
  },
  {
   "cell_type": "code",
   "execution_count": null,
   "metadata": {
    "id": "9l8Hru7SDt8x"
   },
   "outputs": [],
   "source": [
    "## do it here (create more cells if you need them)\n"
   ]
  },
  {
   "cell_type": "code",
   "execution_count": null,
   "metadata": {
    "id": "DVdyGc5xDt8x"
   },
   "outputs": [],
   "source": [
    "### lc\n"
   ]
  },
  {
   "cell_type": "markdown",
   "metadata": {
    "id": "-34M-wKGDt8x"
   },
   "source": [
    "### Place all the URLS into a list.\n"
   ]
  },
  {
   "cell_type": "code",
   "execution_count": 1,
   "metadata": {
    "id": "ENfvN2DFDt8x"
   },
   "outputs": [],
   "source": [
    "## do it here (create more cells if you need them)\n"
   ]
  },
  {
   "cell_type": "markdown",
   "metadata": {
    "id": "UDg9QjNPDt8x"
   },
   "source": [
    "### Place all the status into a list.\n",
    "It should look like this:\n",
    "\n",
    "```['Active', 'Inactive', 'Active']```"
   ]
  },
  {
   "cell_type": "code",
   "execution_count": null,
   "metadata": {
    "id": "n8HN_649Dt8x"
   },
   "outputs": [],
   "source": [
    "## do it here (create more cells if you need them)\n"
   ]
  },
  {
   "cell_type": "code",
   "execution_count": null,
   "metadata": {
    "id": "d6uTdY9FDt8x"
   },
   "outputs": [],
   "source": []
  },
  {
   "cell_type": "markdown",
   "metadata": {
    "id": "mjfohXEFDt8x"
   },
   "source": [
    "### Turn these lists into dataframes and export to a csv"
   ]
  },
  {
   "cell_type": "code",
   "execution_count": null,
   "metadata": {
    "id": "zc_fxl_sDt8x"
   },
   "outputs": [],
   "source": [
    "## import pandas\n"
   ]
  },
  {
   "cell_type": "code",
   "execution_count": null,
   "metadata": {
    "id": "1QhFU-AyDt8x"
   },
   "outputs": [],
   "source": [
    "### use pandas DataFrame method to zip files into a dataframe\n"
   ]
  },
  {
   "cell_type": "code",
   "execution_count": null,
   "metadata": {
    "id": "_kGECyfbDt8x"
   },
   "outputs": [],
   "source": [
    "## export to csv\n"
   ]
  },
  {
   "cell_type": "code",
   "execution_count": null,
   "metadata": {
    "id": "R64FKfZADt8x"
   },
   "outputs": [],
   "source": []
  }
 ],
 "metadata": {
  "colab": {
   "collapsed_sections": [],
   "name": "homework-for-week-5_BLANKS.ipynb",
   "provenance": []
  },
  "kernelspec": {
   "display_name": "Python 3",
   "language": "python",
   "name": "python3"
  },
  "language_info": {
   "codemirror_mode": {
    "name": "ipython",
    "version": 3
   },
   "file_extension": ".py",
   "mimetype": "text/x-python",
   "name": "python",
   "nbconvert_exporter": "python",
   "pygments_lexer": "ipython3",
   "version": "3.8.8"
  }
 },
 "nbformat": 4,
 "nbformat_minor": 1
}

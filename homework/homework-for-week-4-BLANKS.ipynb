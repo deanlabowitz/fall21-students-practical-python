{
 "cells": [
  {
   "cell_type": "markdown",
   "metadata": {
    "id": "Iz2mPruuLNDG"
   },
   "source": [
    "# Homework for week 4"
   ]
  },
  {
   "cell_type": "markdown",
   "metadata": {
    "id": "J3SAoD1ZLNDa"
   },
   "source": [
    "## Functions"
   ]
  },
  {
   "cell_type": "markdown",
   "metadata": {
    "id": "3UGFoGn8LNDa"
   },
   "source": [
    "#### 1. Convert String Number to Integer\n",
    "Create a function that can take something like ```\"$5,356\"``` or ```\"$250,000\"``` or even ```\"$10.75\"``` and covert into integers like return ```5356```, ```250000``` and ```11``` respectively."
   ]
  },
  {
   "cell_type": "code",
   "execution_count": null,
   "metadata": {
    "id": "uMP1kvHDLNDb"
   },
   "outputs": [],
   "source": [
    "## build function here\n"
   ]
  },
  {
   "cell_type": "code",
   "execution_count": null,
   "metadata": {
    "id": "sry36rAfLNDe"
   },
   "outputs": [],
   "source": [
    "## call the function on \"$5,356\"\n",
    "## Did you get 5356?\n"
   ]
  },
  {
   "cell_type": "code",
   "execution_count": null,
   "metadata": {
    "id": "JUkBfxMoLNDg"
   },
   "outputs": [],
   "source": [
    "## call the function on \"$10.75\"\n",
    "## Did you get 11?\n",
    "\n"
   ]
  },
  {
   "cell_type": "code",
   "execution_count": null,
   "metadata": {
    "id": "sRAqjMx6LNDj"
   },
   "outputs": [],
   "source": [
    "## Use map() to run your function on the following list\n",
    "## save result in a list called updated_list\n",
    "my_amounts = [\"$12.24\", \"$4,576.33\", \"$23,629.01\"]"
   ]
  },
  {
   "cell_type": "markdown",
   "metadata": {
    "id": "mmIBlUMgLNDl"
   },
   "source": [
    "### 3. What if we encounter a list that has a mix of numbers as strings and integers and floats?"
   ]
  },
  {
   "cell_type": "code",
   "execution_count": null,
   "metadata": {
    "id": "fDHpj2KaLNDm"
   },
   "outputs": [],
   "source": [
    "## Run this cell\n",
    "more_amounts = [960, \"$12.24\", \"$4,576.33\", \"$23,629.01\", 23.656]"
   ]
  },
  {
   "cell_type": "code",
   "execution_count": null,
   "metadata": {
    "id": "BmPYPzVWLNDo"
   },
   "outputs": [],
   "source": [
    "## tweaked the function here to handle all situations\n",
    "\n"
   ]
  },
  {
   "cell_type": "code",
   "execution_count": null,
   "metadata": {
    "id": "fWfOcyxeLNDq"
   },
   "outputs": [],
   "source": [
    "## run it on more_amounts using map()\n"
   ]
  }
 ],
 "metadata": {
  "colab": {
   "collapsed_sections": [],
   "name": "Homework-for-week-4_BLANKS.ipynb",
   "provenance": []
  },
  "kernelspec": {
   "display_name": "Python 3",
   "language": "python",
   "name": "python3"
  },
  "language_info": {
   "codemirror_mode": {
    "name": "ipython",
    "version": 3
   },
   "file_extension": ".py",
   "mimetype": "text/x-python",
   "name": "python",
   "nbconvert_exporter": "python",
   "pygments_lexer": "ipython3",
   "version": "3.8.8"
  }
 },
 "nbformat": 4,
 "nbformat_minor": 1
}

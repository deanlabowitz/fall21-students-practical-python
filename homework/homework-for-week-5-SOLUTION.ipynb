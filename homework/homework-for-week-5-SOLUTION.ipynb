{
  "nbformat": 4,
  "nbformat_minor": 0,
  "metadata": {
    "colab": {
      "name": "Chomework_for_week_5_SOLUTION.ipynb",
      "provenance": [],
      "collapsed_sections": []
    },
    "kernelspec": {
      "display_name": "Python 3",
      "language": "python",
      "name": "python3"
    },
    "language_info": {
      "codemirror_mode": {
        "name": "ipython",
        "version": 3
      },
      "file_extension": ".py",
      "mimetype": "text/x-python",
      "name": "python",
      "nbconvert_exporter": "python",
      "pygments_lexer": "ipython3",
      "version": "3.8.8"
    }
  },
  "cells": [
    {
      "cell_type": "markdown",
      "metadata": {
        "id": "TG0YzMY9Dt8w"
      },
      "source": [
        "You will scrape this <a href=\"https://sandeepmj.github.io/scrape-example-page/homework-site.html\">mockup site</a> that lists a few data points for addiction centers."
      ]
    },
    {
      "cell_type": "code",
      "metadata": {
        "colab": {
          "base_uri": "https://localhost:8080/"
        },
        "id": "5DsIQ8_ZvltF",
        "outputId": "aa80880f-f950-4ffb-cf19-0c6741013ffc"
      },
      "source": [
        "pip install icecream"
      ],
      "execution_count": 1,
      "outputs": [
        {
          "output_type": "stream",
          "name": "stdout",
          "text": [
            "Collecting icecream\n",
            "  Downloading icecream-2.1.1-py2.py3-none-any.whl (8.1 kB)\n",
            "Collecting colorama>=0.3.9\n",
            "  Downloading colorama-0.4.4-py2.py3-none-any.whl (16 kB)\n",
            "Collecting executing>=0.3.1\n",
            "  Downloading executing-0.8.1-py2.py3-none-any.whl (16 kB)\n",
            "Requirement already satisfied: pygments>=2.2.0 in /usr/local/lib/python3.7/dist-packages (from icecream) (2.6.1)\n",
            "Collecting asttokens>=2.0.1\n",
            "  Downloading asttokens-2.0.5-py2.py3-none-any.whl (20 kB)\n",
            "Requirement already satisfied: six in /usr/local/lib/python3.7/dist-packages (from asttokens>=2.0.1->icecream) (1.15.0)\n",
            "Installing collected packages: executing, colorama, asttokens, icecream\n",
            "Successfully installed asttokens-2.0.5 colorama-0.4.4 executing-0.8.1 icecream-2.1.1\n"
          ]
        }
      ]
    },
    {
      "cell_type": "code",
      "metadata": {
        "id": "cXQW0IJoDt8x"
      },
      "source": [
        "## import library(ies)\n",
        "import requests\n",
        "from bs4 import BeautifulSoup\n",
        "import pandas as pd\n",
        "from icecream import ic "
      ],
      "execution_count": 2,
      "outputs": []
    },
    {
      "cell_type": "code",
      "metadata": {
        "colab": {
          "base_uri": "https://localhost:8080/"
        },
        "id": "ZKO_UQQPvHm0",
        "outputId": "b7cc8a3a-80ae-404e-e164-1721aebdb064"
      },
      "source": [
        "## capture the contents of the site in a response object\n",
        "\n",
        "url = \"https://sandeepmj.github.io/scrape-example-page/homework-site.html\"\n",
        "response = requests.get(url)\n",
        "ic(response.status_code)"
      ],
      "execution_count": 4,
      "outputs": [
        {
          "output_type": "stream",
          "name": "stderr",
          "text": [
            "ic| response.status_code: 200\n"
          ]
        },
        {
          "output_type": "execute_result",
          "data": {
            "text/plain": [
              "200"
            ]
          },
          "metadata": {},
          "execution_count": 4
        }
      ]
    },
    {
      "cell_type": "code",
      "metadata": {
        "id": "cgMlKxSADt8x",
        "colab": {
          "base_uri": "https://localhost:8080/"
        },
        "outputId": "ddee9650-9063-490d-918d-4eedbeedb6d2"
      },
      "source": [
        "## generate and print soup\n",
        "soup = BeautifulSoup(response.text, 'html.parser')\n",
        "soup"
      ],
      "execution_count": 5,
      "outputs": [
        {
          "output_type": "execute_result",
          "data": {
            "text/plain": [
              "<html>\n",
              "<body>\n",
              "<div class=\"register-list\">\n",
              "<div class=\"container\">\n",
              "<h1>Addiction Treatment Center Inspections</h1>\n",
              "<div class=\"wrap\">\n",
              "<h4><a href=\"/public-register/recovery-foundation/\">Recovery Foundation</a></h4>\n",
              "<div class=\"row\">\n",
              "<p class=\"status\">Inspection: Passed</p>\n",
              "<p class=\"registration\">Registration# 4235</p>\n",
              "<p class=\"regulation\">Non Regulated</p>\n",
              "<p class=\"cost\">$10,000</p>\n",
              "<p class=\"loans\">Loans available</p>\n",
              "</div>\n",
              "</div>\n",
              "<div class=\"wrap\">\n",
              "<h4><a href=\"/public-register/new-horizons/\">New Horizons</a></h4>\n",
              "<div class=\"row\">\n",
              "<p class=\"status \">Inspection: Failed</p>\n",
              "<p class=\"registration\">Registration# 4234</p>\n",
              "<p class=\"regulation\">Non Regulated</p>\n",
              "<p class=\"cost\">$15,000</p>\n",
              "<p class=\"loans\">Loans available</p>\n",
              "</div>\n",
              "</div>\n",
              "<div class=\"wrap\">\n",
              "<h4><a href=\"/public-register/renewal-light/\">Renewable Light</a></h4>\n",
              "<div class=\"row\">\n",
              "<p class=\"status \">Inspection: Passed</p>\n",
              "<p class=\"registration\">Registration# 4231</p>\n",
              "<p class=\"regulation\">Regulated</p>\n",
              "<p class=\"cost\">$11,000</p>\n",
              "<p class=\"loans\">Loans available</p>\n",
              "</div>\n",
              "</div>\n",
              "</div>\n",
              "</div>\n",
              "</body>\n",
              "</html>"
            ]
          },
          "metadata": {},
          "execution_count": 5
        }
      ]
    },
    {
      "cell_type": "code",
      "metadata": {
        "id": "RLW9lFCyDt8x",
        "colab": {
          "base_uri": "https://localhost:8080/"
        },
        "outputId": "cdbb8914-4df4-44b3-edf1-d3644e9a3970"
      },
      "source": [
        "## check data type of soup\n",
        "type(soup)"
      ],
      "execution_count": 6,
      "outputs": [
        {
          "output_type": "execute_result",
          "data": {
            "text/plain": [
              "bs4.BeautifulSoup"
            ]
          },
          "metadata": {},
          "execution_count": 6
        }
      ]
    },
    {
      "cell_type": "code",
      "metadata": {
        "id": "H8nE6kaADt8x",
        "colab": {
          "base_uri": "https://localhost:8080/"
        },
        "outputId": "875da17a-eac1-42b8-b146-8ceccbf44227"
      },
      "source": [
        "### Return the name of the first center (including the html)\n",
        "soup.find(\"a\")"
      ],
      "execution_count": 8,
      "outputs": [
        {
          "output_type": "execute_result",
          "data": {
            "text/plain": [
              "<a href=\"/public-register/recovery-foundation/\">Recovery Foundation</a>"
            ]
          },
          "metadata": {},
          "execution_count": 8
        }
      ]
    },
    {
      "cell_type": "code",
      "metadata": {
        "colab": {
          "base_uri": "https://localhost:8080/"
        },
        "id": "5m36Fthiw7z-",
        "outputId": "25a13683-9150-47a4-91ac-33887bfa7a74"
      },
      "source": [
        "## if there were another a tag that did not have our target, we coud be more specific.\n",
        "soup.find(\"div\", class_=\"wrap\").find(\"h4\").find(\"a\") "
      ],
      "execution_count": 10,
      "outputs": [
        {
          "output_type": "execute_result",
          "data": {
            "text/plain": [
              "<a href=\"/public-register/recovery-foundation/\">Recovery Foundation</a>"
            ]
          },
          "metadata": {},
          "execution_count": 10
        }
      ]
    },
    {
      "cell_type": "code",
      "metadata": {
        "id": "yuyqylpRDt8x",
        "colab": {
          "base_uri": "https://localhost:8080/",
          "height": 35
        },
        "outputId": "c07cd0cc-b7c5-4897-de6e-44a99ad9568a"
      },
      "source": [
        "### Return only the name of the first center (remove all the html)\n",
        "soup.find(\"a\").get_text()"
      ],
      "execution_count": 11,
      "outputs": [
        {
          "output_type": "execute_result",
          "data": {
            "application/vnd.google.colaboratory.intrinsic+json": {
              "type": "string"
            },
            "text/plain": [
              "'Recovery Foundation'"
            ]
          },
          "metadata": {},
          "execution_count": 11
        }
      ]
    },
    {
      "cell_type": "code",
      "metadata": {
        "id": "KeXhNlUxDt8x",
        "colab": {
          "base_uri": "https://localhost:8080/",
          "height": 35
        },
        "outputId": "c3989818-54de-41b0-f769-b7c873c8f702"
      },
      "source": [
        "### Return only the URL of the first center\n",
        "soup.find(\"a\").get(\"href\")"
      ],
      "execution_count": 12,
      "outputs": [
        {
          "output_type": "execute_result",
          "data": {
            "application/vnd.google.colaboratory.intrinsic+json": {
              "type": "string"
            },
            "text/plain": [
              "'/public-register/recovery-foundation/'"
            ]
          },
          "metadata": {},
          "execution_count": 12
        }
      ]
    },
    {
      "cell_type": "code",
      "metadata": {
        "id": "A5Z8R5DLDt8x",
        "colab": {
          "base_uri": "https://localhost:8080/"
        },
        "outputId": "63f2ccb4-3639-4c2b-bfc0-126c135f4397"
      },
      "source": [
        "### Find first instance of ALL a center's data\n",
        "### Think of this as the first group of data associated with a company\n",
        "soup.find(\"div\", class_=\"wrap\")"
      ],
      "execution_count": 13,
      "outputs": [
        {
          "output_type": "execute_result",
          "data": {
            "text/plain": [
              "<div class=\"wrap\">\n",
              "<h4><a href=\"/public-register/recovery-foundation/\">Recovery Foundation</a></h4>\n",
              "<div class=\"row\">\n",
              "<p class=\"status\">Inspection: Passed</p>\n",
              "<p class=\"registration\">Registration# 4235</p>\n",
              "<p class=\"regulation\">Non Regulated</p>\n",
              "<p class=\"cost\">$10,000</p>\n",
              "<p class=\"loans\">Loans available</p>\n",
              "</div>\n",
              "</div>"
            ]
          },
          "metadata": {},
          "execution_count": 13
        }
      ]
    },
    {
      "cell_type": "code",
      "metadata": {
        "id": "mf9-Io-ODt8x",
        "colab": {
          "base_uri": "https://localhost:8080/"
        },
        "outputId": "ee74daf9-14a2-4545-c887-d0722a5114ec"
      },
      "source": [
        "#### Find all the instances of every centers' data points.\n",
        "soup.find_all(\"div\", class_=\"wrap\")"
      ],
      "execution_count": 14,
      "outputs": [
        {
          "output_type": "execute_result",
          "data": {
            "text/plain": [
              "[<div class=\"wrap\">\n",
              " <h4><a href=\"/public-register/recovery-foundation/\">Recovery Foundation</a></h4>\n",
              " <div class=\"row\">\n",
              " <p class=\"status\">Inspection: Passed</p>\n",
              " <p class=\"registration\">Registration# 4235</p>\n",
              " <p class=\"regulation\">Non Regulated</p>\n",
              " <p class=\"cost\">$10,000</p>\n",
              " <p class=\"loans\">Loans available</p>\n",
              " </div>\n",
              " </div>, <div class=\"wrap\">\n",
              " <h4><a href=\"/public-register/new-horizons/\">New Horizons</a></h4>\n",
              " <div class=\"row\">\n",
              " <p class=\"status \">Inspection: Failed</p>\n",
              " <p class=\"registration\">Registration# 4234</p>\n",
              " <p class=\"regulation\">Non Regulated</p>\n",
              " <p class=\"cost\">$15,000</p>\n",
              " <p class=\"loans\">Loans available</p>\n",
              " </div>\n",
              " </div>, <div class=\"wrap\">\n",
              " <h4><a href=\"/public-register/renewal-light/\">Renewable Light</a></h4>\n",
              " <div class=\"row\">\n",
              " <p class=\"status \">Inspection: Passed</p>\n",
              " <p class=\"registration\">Registration# 4231</p>\n",
              " <p class=\"regulation\">Regulated</p>\n",
              " <p class=\"cost\">$11,000</p>\n",
              " <p class=\"loans\">Loans available</p>\n",
              " </div>\n",
              " </div>]"
            ]
          },
          "metadata": {},
          "execution_count": 14
        }
      ]
    },
    {
      "cell_type": "code",
      "metadata": {
        "id": "PFHFs6v1Dt8x",
        "colab": {
          "base_uri": "https://localhost:8080/"
        },
        "outputId": "7947d832-63cb-4119-b597-f96809b151fe"
      },
      "source": [
        "### Find all the registration data\n",
        "soup.find_all(\"p\", class_=\"registration\")"
      ],
      "execution_count": 15,
      "outputs": [
        {
          "output_type": "execute_result",
          "data": {
            "text/plain": [
              "[<p class=\"registration\">Registration# 4235</p>,\n",
              " <p class=\"registration\">Registration# 4234</p>,\n",
              " <p class=\"registration\">Registration# 4231</p>]"
            ]
          },
          "metadata": {},
          "execution_count": 15
        }
      ]
    },
    {
      "cell_type": "markdown",
      "metadata": {
        "id": "DtuuSUA5Dt8x"
      },
      "source": [
        "### Place all the registration data into a list with only the numbers in the format.\n",
        "It should look like this:\n",
        "\n",
        "```['4235', '4234', '4231']```"
      ]
    },
    {
      "cell_type": "code",
      "metadata": {
        "colab": {
          "base_uri": "https://localhost:8080/"
        },
        "id": "B_m8l0SNxlxm",
        "outputId": "654715ed-d30e-4b54-c508-d13381c4ff5d"
      },
      "source": [
        "## for loop\n",
        "regs = soup.find_all(\"p\", class_=\"registration\")\n",
        "reg_list_fl = []\n",
        "for item in regs:\n",
        "  reg_list_fl.append(item.get_text().replace(\"Registration# \", \"\"))\n",
        "\n",
        "reg_list_fl\n"
      ],
      "execution_count": 18,
      "outputs": [
        {
          "output_type": "execute_result",
          "data": {
            "text/plain": [
              "['4235', '4234', '4231']"
            ]
          },
          "metadata": {},
          "execution_count": 18
        }
      ]
    },
    {
      "cell_type": "code",
      "metadata": {
        "id": "5cDY4G7tDt8x",
        "colab": {
          "base_uri": "https://localhost:8080/"
        },
        "outputId": "5128af08-4a3b-4b98-ab10-0a0f7cdaa4ac"
      },
      "source": [
        "## do it here (create more cells if you need them)\n",
        "## via list comprehension\n",
        "regs = soup.find_all(\"p\", class_=\"registration\")\n",
        "reg_list_lc = [item.get_text().replace(\"Registration# \", \"\") for item in regs]\n",
        "reg_list_lc"
      ],
      "execution_count": 19,
      "outputs": [
        {
          "output_type": "execute_result",
          "data": {
            "text/plain": [
              "['4235', '4234', '4231']"
            ]
          },
          "metadata": {},
          "execution_count": 19
        }
      ]
    },
    {
      "cell_type": "markdown",
      "metadata": {
        "id": "D2nbZQEWDt8x"
      },
      "source": [
        "### Place all the company names into a list.\n",
        "It should look like this:\n",
        "\n",
        "```['Recovery Foundation','New Horizons','Renewable Light']```"
      ]
    },
    {
      "cell_type": "code",
      "metadata": {
        "id": "9l8Hru7SDt8x",
        "colab": {
          "base_uri": "https://localhost:8080/"
        },
        "outputId": "b8422a99-1a3b-4811-c2ee-02b03016c763"
      },
      "source": [
        "## do it here (create more cells if you need them)\n",
        "cos = soup.find_all(\"a\")\n",
        "cos"
      ],
      "execution_count": 20,
      "outputs": [
        {
          "output_type": "execute_result",
          "data": {
            "text/plain": [
              "[<a href=\"/public-register/recovery-foundation/\">Recovery Foundation</a>,\n",
              " <a href=\"/public-register/new-horizons/\">New Horizons</a>,\n",
              " <a href=\"/public-register/renewal-light/\">Renewable Light</a>]"
            ]
          },
          "metadata": {},
          "execution_count": 20
        }
      ]
    },
    {
      "cell_type": "code",
      "metadata": {
        "id": "DVdyGc5xDt8x",
        "colab": {
          "base_uri": "https://localhost:8080/"
        },
        "outputId": "4c24eec3-391a-4ad0-9099-fe4d566bcbec"
      },
      "source": [
        "### lc\n",
        "co_names_list = [item.get_text() for item in cos]\n",
        "co_names_list"
      ],
      "execution_count": 21,
      "outputs": [
        {
          "output_type": "execute_result",
          "data": {
            "text/plain": [
              "['Recovery Foundation', 'New Horizons', 'Renewable Light']"
            ]
          },
          "metadata": {},
          "execution_count": 21
        }
      ]
    },
    {
      "cell_type": "markdown",
      "metadata": {
        "id": "-34M-wKGDt8x"
      },
      "source": [
        "### Place all the URLS into a list.\n"
      ]
    },
    {
      "cell_type": "code",
      "metadata": {
        "id": "ENfvN2DFDt8x",
        "colab": {
          "base_uri": "https://localhost:8080/"
        },
        "outputId": "a334ad74-18ec-491b-9c40-5ef665d9e5d6"
      },
      "source": [
        "## do it here (create more cells if you need them)\n",
        "co_urls = [item.get(\"href\") for item in cos]\n",
        "co_urls"
      ],
      "execution_count": 22,
      "outputs": [
        {
          "output_type": "execute_result",
          "data": {
            "text/plain": [
              "['/public-register/recovery-foundation/',\n",
              " '/public-register/new-horizons/',\n",
              " '/public-register/renewal-light/']"
            ]
          },
          "metadata": {},
          "execution_count": 22
        }
      ]
    },
    {
      "cell_type": "markdown",
      "metadata": {
        "id": "UDg9QjNPDt8x"
      },
      "source": [
        "### Place all the status into a list.\n",
        "It should look like this:\n",
        "\n",
        "```['Passed', 'Failed', 'Passed']```"
      ]
    },
    {
      "cell_type": "code",
      "metadata": {
        "id": "n8HN_649Dt8x",
        "colab": {
          "base_uri": "https://localhost:8080/"
        },
        "outputId": "49ae526a-cd14-4279-9403-b038ce17734c"
      },
      "source": [
        "## do it here (create more cells if you need them)\n",
        "center_status = soup.find_all(\"p\", class_=\"status\")\n",
        "center_status"
      ],
      "execution_count": 25,
      "outputs": [
        {
          "output_type": "execute_result",
          "data": {
            "text/plain": [
              "[<p class=\"status\">Inspection: Passed</p>,\n",
              " <p class=\"status \">Inspection: Failed</p>,\n",
              " <p class=\"status \">Inspection: Passed</p>]"
            ]
          },
          "metadata": {},
          "execution_count": 25
        }
      ]
    },
    {
      "cell_type": "code",
      "metadata": {
        "colab": {
          "base_uri": "https://localhost:8080/"
        },
        "id": "irjybEcOyhY9",
        "outputId": "064d7e0e-da21-4959-ea9e-1d6467dfaf7c"
      },
      "source": [
        "status_list = [status.get_text().replace(\"Inspection: \", \"\") for status in center_status ]\n",
        "status_list"
      ],
      "execution_count": 28,
      "outputs": [
        {
          "output_type": "execute_result",
          "data": {
            "text/plain": [
              "['Passed', 'Failed', 'Passed']"
            ]
          },
          "metadata": {},
          "execution_count": 28
        }
      ]
    },
    {
      "cell_type": "code",
      "metadata": {
        "id": "d6uTdY9FDt8x"
      },
      "source": [
        ""
      ],
      "execution_count": null,
      "outputs": []
    },
    {
      "cell_type": "markdown",
      "metadata": {
        "id": "mjfohXEFDt8x"
      },
      "source": [
        "### Turn these lists into dataframes and export to a csv"
      ]
    },
    {
      "cell_type": "code",
      "metadata": {
        "id": "1QhFU-AyDt8x",
        "colab": {
          "base_uri": "https://localhost:8080/",
          "height": 143
        },
        "outputId": "d7a3f9ae-9de2-436b-f892-ad65687171f6"
      },
      "source": [
        "### use pandas DataFrame method to zip files into a dataframe\n",
        "df = pd.DataFrame(list(zip(co_names_list, reg_list, status_list, co_urls)), \n",
        "               columns =['center_name', \"registration_number\",'status', 'link'])\n",
        "\n",
        "df"
      ],
      "execution_count": 29,
      "outputs": [
        {
          "output_type": "execute_result",
          "data": {
            "text/html": [
              "<div>\n",
              "<style scoped>\n",
              "    .dataframe tbody tr th:only-of-type {\n",
              "        vertical-align: middle;\n",
              "    }\n",
              "\n",
              "    .dataframe tbody tr th {\n",
              "        vertical-align: top;\n",
              "    }\n",
              "\n",
              "    .dataframe thead th {\n",
              "        text-align: right;\n",
              "    }\n",
              "</style>\n",
              "<table border=\"1\" class=\"dataframe\">\n",
              "  <thead>\n",
              "    <tr style=\"text-align: right;\">\n",
              "      <th></th>\n",
              "      <th>center_name</th>\n",
              "      <th>registration_number</th>\n",
              "      <th>status</th>\n",
              "      <th>link</th>\n",
              "    </tr>\n",
              "  </thead>\n",
              "  <tbody>\n",
              "    <tr>\n",
              "      <th>0</th>\n",
              "      <td>Recovery Foundation</td>\n",
              "      <td>4235</td>\n",
              "      <td>Passed</td>\n",
              "      <td>/public-register/recovery-foundation/</td>\n",
              "    </tr>\n",
              "    <tr>\n",
              "      <th>1</th>\n",
              "      <td>New Horizons</td>\n",
              "      <td>4234</td>\n",
              "      <td>Failed</td>\n",
              "      <td>/public-register/new-horizons/</td>\n",
              "    </tr>\n",
              "    <tr>\n",
              "      <th>2</th>\n",
              "      <td>Renewable Light</td>\n",
              "      <td>4231</td>\n",
              "      <td>Passed</td>\n",
              "      <td>/public-register/renewal-light/</td>\n",
              "    </tr>\n",
              "  </tbody>\n",
              "</table>\n",
              "</div>"
            ],
            "text/plain": [
              "           center_name  ...                                   link\n",
              "0  Recovery Foundation  ...  /public-register/recovery-foundation/\n",
              "1         New Horizons  ...         /public-register/new-horizons/\n",
              "2      Renewable Light  ...        /public-register/renewal-light/\n",
              "\n",
              "[3 rows x 4 columns]"
            ]
          },
          "metadata": {},
          "execution_count": 29
        }
      ]
    },
    {
      "cell_type": "code",
      "metadata": {
        "id": "_kGECyfbDt8x"
      },
      "source": [
        "## export to csv\n",
        "filename = \"recovery_center_list.csv\"\n",
        "df.to_csv(filename, encoding='utf-8', index=False) ## export to csv as utf-8 coding (it just has to be this)\n"
      ],
      "execution_count": 31,
      "outputs": []
    },
    {
      "cell_type": "code",
      "metadata": {
        "id": "R64FKfZADt8x"
      },
      "source": [
        ""
      ],
      "execution_count": null,
      "outputs": []
    }
  ]
}
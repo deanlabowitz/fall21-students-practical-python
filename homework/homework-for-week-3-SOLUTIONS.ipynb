{
 "cells": [
  {
   "cell_type": "markdown",
   "metadata": {
    "id": "Dz4lidEcC-wu"
   },
   "source": [
    "# Homework for Week 3"
   ]
  },
  {
   "cell_type": "markdown",
   "metadata": {
    "id": "MyWPqeOWC-wz"
   },
   "source": [
    "### 1. Counter\n",
    "* Build a counter that counts from 2 to 10, but only even numbers.\n",
    "* Print the counter numbers in statement that reads: \"The even number is [whatever the even number is]\".\n",
    "* Once it reaches 10, it should print \"Done counting from 2 to 10 even numbers!\""
   ]
  },
  {
   "cell_type": "code",
   "execution_count": 1,
   "metadata": {
    "id": "wMQG8wq_C-wz"
   },
   "outputs": [],
   "source": [
    "## build here:\n",
    "\n",
    "counter = 0\n",
    "while counter < 10:\n",
    "    counter += 2\n",
    "    print(f\"The even number is {counter}\")\n",
    "print(f\"Done counting from 2 to 10 even numbers!\")"
   ]
  },
  {
   "cell_type": "markdown",
   "metadata": {
    "id": "NtM-RP4cC-w0"
   },
   "source": [
    "### 2. Build a counter with a timer\n",
    "* Add a timer to the previous code so it runs every 3 to 15 seconds"
   ]
  },
  {
   "cell_type": "code",
   "execution_count": 2,
   "metadata": {
    "id": "Kh1NuoljC-w0",
    "outputId": "7ac93980-fbc9-4e4f-ae62-86996f93a554"
   },
   "outputs": [
    {
     "name": "stdout",
     "output_type": "stream",
     "text": [
      "The even number is 2\n",
      "The even number is 4\n",
      "The even number is 6\n",
      "The even number is 8\n",
      "The even number is 10\n",
      "The even number is 12\n",
      "Done counting from 2 to 10 even numbers!\n"
     ]
    }
   ],
   "source": [
    "## build here:\n",
    "\n",
    "import time\n",
    "from random import randrange\n",
    "counter = 0\n",
    "while counter < 12:\n",
    "    counter += 2\n",
    "    print(f\"The even number is {counter}\")\n",
    "    delay = randrange(3,15)\n",
    "    time.sleep(delay)\n",
    "print(f\"Done counting from 2 to 10 even numbers!\")"
   ]
  },
  {
   "cell_type": "markdown",
   "metadata": {
    "id": "hdB8mNtRC-w1"
   },
   "source": [
    "### 3. For Looping...\n",
    "\n",
    "* The USDA puts out a report on toxins that can be found in foods.\n",
    "* You have a list of toxins that you specifically want to search for."
   ]
  },
  {
   "cell_type": "code",
   "execution_count": 3,
   "metadata": {
    "id": "m39QoC3EC-w1"
   },
   "outputs": [],
   "source": [
    "## run this cell to activate the list\n",
    "\n",
    "toxins = [\"Recombinant Bovine Growth Hormone\", \n",
    "          \"Butylated Hydroxyanisole\", \n",
    "          \"Sodium Aluminum Sulphate\",\n",
    "          \"Potassium Aluminum Sulphate\",\n",
    "          \"Sodium Nitrite\",\n",
    "          \"Polycyclic Aromatic Hydrocarbons\",\n",
    "          \"Dioxins\",\n",
    "          \"Heterocyclic Amines\",\n",
    "          \"Butylated Hydroxytoluene\"]\n",
    "\n"
   ]
  },
  {
   "cell_type": "code",
   "execution_count": 4,
   "metadata": {
    "id": "auO7lhfnC-w2"
   },
   "outputs": [
    {
     "data": {
      "text/plain": [
       "['Recombinant Bovine Growth Hormone',\n",
       " 'Butylated Hydroxyanisole',\n",
       " 'Sodium Aluminum Sulphate',\n",
       " 'Potassium Aluminum Sulphate',\n",
       " 'Sodium Nitrite',\n",
       " 'Polycyclic Aromatic Hydrocarbons',\n",
       " 'Dioxins',\n",
       " 'Heterocyclic Amines',\n",
       " 'Butylated Hydroxytoluene']"
      ]
     },
     "execution_count": 4,
     "metadata": {},
     "output_type": "execute_result"
    }
   ],
   "source": [
    "## Show the list\n",
    "toxins"
   ]
  },
  {
   "cell_type": "markdown",
   "metadata": {
    "id": "pIyooxxhC-w2"
   },
   "source": [
    "#### You plan to check for mentions of these toxins in a text report.\n",
    "#### Since Python is case sensitive, you have first have lower-case the entire report.\n",
    "\n",
    "* use a ```for loop``` to lowercase and print the toxins list."
   ]
  },
  {
   "cell_type": "code",
   "execution_count": 5,
   "metadata": {
    "id": "_oRAXpdVC-w2"
   },
   "outputs": [
    {
     "name": "stdout",
     "output_type": "stream",
     "text": [
      "recombinant bovine growth hormone\n",
      "butylated hydroxyanisole\n",
      "sodium aluminum sulphate\n",
      "potassium aluminum sulphate\n",
      "sodium nitrite\n",
      "polycyclic aromatic hydrocarbons\n",
      "dioxins\n",
      "heterocyclic amines\n",
      "butylated hydroxytoluene\n"
     ]
    }
   ],
   "source": [
    "## build here:\n",
    "\n",
    "for toxin in toxins:\n",
    "    print(toxin.lower())"
   ]
  },
  {
   "cell_type": "markdown",
   "metadata": {
    "id": "sNih6fQSC-w2"
   },
   "source": [
    "#### The toxins list was not actually lowercased. You only printed out the lowercased updates.\n",
    "#### Check out the toxins list. Did it change?"
   ]
  },
  {
   "cell_type": "code",
   "execution_count": 6,
   "metadata": {
    "id": "gH-zww8DC-w3"
   },
   "outputs": [
    {
     "data": {
      "text/plain": [
       "['Recombinant Bovine Growth Hormone',\n",
       " 'Butylated Hydroxyanisole',\n",
       " 'Sodium Aluminum Sulphate',\n",
       " 'Potassium Aluminum Sulphate',\n",
       " 'Sodium Nitrite',\n",
       " 'Polycyclic Aromatic Hydrocarbons',\n",
       " 'Dioxins',\n",
       " 'Heterocyclic Amines',\n",
       " 'Butylated Hydroxytoluene']"
      ]
     },
     "execution_count": 6,
     "metadata": {},
     "output_type": "execute_result"
    }
   ],
   "source": [
    "## run the list here\n",
    "toxins"
   ]
  },
  {
   "cell_type": "markdown",
   "metadata": {
    "id": "W8s-ivBjC-w3"
   },
   "source": [
    "### Update your ```for loop``` to actually create a new list called ```updated_toxins```."
   ]
  },
  {
   "cell_type": "code",
   "execution_count": 7,
   "metadata": {
    "id": "TdUfutqoC-w3"
   },
   "outputs": [],
   "source": [
    "## build here:\n",
    "\n",
    "updated_toxins = []\n",
    "\n",
    "for toxin in toxins:\n",
    "    updated_toxins.append(toxin.lower())\n"
   ]
  },
  {
   "cell_type": "markdown",
   "metadata": {
    "id": "mZ7w8avmC-w3"
   },
   "source": [
    "#### Print the updated list:\n",
    "#### Is it lowercased now?"
   ]
  },
  {
   "cell_type": "code",
   "execution_count": 8,
   "metadata": {
    "id": "LlW37OddC-w3"
   },
   "outputs": [
    {
     "data": {
      "text/plain": [
       "['recombinant bovine growth hormone',\n",
       " 'butylated hydroxyanisole',\n",
       " 'sodium aluminum sulphate',\n",
       " 'potassium aluminum sulphate',\n",
       " 'sodium nitrite',\n",
       " 'polycyclic aromatic hydrocarbons',\n",
       " 'dioxins',\n",
       " 'heterocyclic amines',\n",
       " 'butylated hydroxytoluene']"
      ]
     },
     "execution_count": 8,
     "metadata": {},
     "output_type": "execute_result"
    }
   ],
   "source": [
    "## print it here\n",
    "updated_toxins\n"
   ]
  },
  {
   "cell_type": "markdown",
   "metadata": {
    "id": "CXEt81N9C-w3"
   },
   "source": [
    "### 4. List Comprehension\n",
    "\n",
    "* Lower case all the toxins in our original toxins list using list comprehension\n",
    "* The new list should be called ```updated_toxins_lc```."
   ]
  },
  {
   "cell_type": "code",
   "execution_count": 9,
   "metadata": {
    "colab": {
     "base_uri": "https://localhost:8080/"
    },
    "id": "mDh74AXwC-w4",
    "outputId": "c5775580-1f79-40f8-b65d-91c5e28e4773"
   },
   "outputs": [
    {
     "data": {
      "text/plain": [
       "['recombinant bovine growth hormone',\n",
       " 'butylated hydroxyanisole',\n",
       " 'sodium aluminum sulphate',\n",
       " 'potassium aluminum sulphate',\n",
       " 'sodium nitrite',\n",
       " 'polycyclic aromatic hydrocarbons',\n",
       " 'dioxins',\n",
       " 'heterocyclic amines',\n",
       " 'butylated hydroxytoluene']"
      ]
     },
     "execution_count": 9,
     "metadata": {},
     "output_type": "execute_result"
    }
   ],
   "source": [
    "## build here:\n",
    "updated_toxins_lc = [toxin.lower() for toxin in toxins]\n",
    "updated_toxins_lc"
   ]
  },
  {
   "cell_type": "markdown",
   "metadata": {
    "id": "C1fwbof9C-w4"
   },
   "source": [
    "### 5. Challenge Question:\n",
    "\n",
    "* Use **list comprehension** to create a new list called ```sodium_tox``` that only contains toxins that include the word \"sodium\""
   ]
  },
  {
   "cell_type": "code",
   "execution_count": 10,
   "metadata": {
    "colab": {
     "base_uri": "https://localhost:8080/"
    },
    "id": "1_IubbqlC-w4",
    "outputId": "c5a72467-2520-43e7-f81c-928edcc491e9"
   },
   "outputs": [
    {
     "data": {
      "text/plain": [
       "['sodium aluminum sulphate', 'sodium nitrite']"
      ]
     },
     "execution_count": 10,
     "metadata": {},
     "output_type": "execute_result"
    }
   ],
   "source": [
    "## build here: \n",
    "\n",
    "sodium_tox = [toxin for toxin in updated_toxins_lc if \"sodium\" in toxin]\n",
    "sodium_tox"
   ]
  },
  {
   "cell_type": "markdown",
   "metadata": {
    "id": "EEXSVGi2C-w4"
   },
   "source": [
    "### 6.  ``` for loop``` continued...\n",
    "\n",
    "#### You scrape some URLs and place them in a list called myURLS (provided below):\n"
   ]
  },
  {
   "cell_type": "code",
   "execution_count": 11,
   "metadata": {
    "id": "mQwOrDIWC-w4"
   },
   "outputs": [],
   "source": [
    "## run this cell to activate the list\n",
    "myURLS = [\n",
    "    'great-unique-data-1.html',\n",
    "    'great-unique-data-2.html',\n",
    "    'great-unique-data-3.html',\n",
    "    'great-unique-data-4.html',\n",
    "    'great-unique-data-5.html',\n",
    "    'great-unique-data-6.html',\n",
    "    'great-unique-data-7.html',\n",
    "    'great-unique-data-8.html',\n",
    "    'great-unique-data-9.html',\n",
    "    'great-unique-data-10.html',\n",
    "    'great-unique-data-11.html',\n",
    "    'great-unique-data-12.html',\n",
    "    'great-unique-data-13.html',\n",
    "    'great-unique-data-14.html',\n",
    "    'great-unique-data-15.html'\n",
    "]\n"
   ]
  },
  {
   "cell_type": "code",
   "execution_count": 12,
   "metadata": {
    "colab": {
     "base_uri": "https://localhost:8080/"
    },
    "id": "XGrsmmioC-w4",
    "outputId": "daf42c56-696e-45c5-daec-967ea4801db2"
   },
   "outputs": [
    {
     "data": {
      "text/plain": [
       "['great-unique-data-1.html',\n",
       " 'great-unique-data-2.html',\n",
       " 'great-unique-data-3.html',\n",
       " 'great-unique-data-4.html',\n",
       " 'great-unique-data-5.html',\n",
       " 'great-unique-data-6.html',\n",
       " 'great-unique-data-7.html',\n",
       " 'great-unique-data-8.html',\n",
       " 'great-unique-data-9.html',\n",
       " 'great-unique-data-10.html',\n",
       " 'great-unique-data-11.html',\n",
       " 'great-unique-data-12.html',\n",
       " 'great-unique-data-13.html',\n",
       " 'great-unique-data-14.html',\n",
       " 'great-unique-data-15.html']"
      ]
     },
     "execution_count": 12,
     "metadata": {},
     "output_type": "execute_result"
    }
   ],
   "source": [
    "## Print myURLS to check it out\n",
    "myURLS"
   ]
  },
  {
   "cell_type": "markdown",
   "metadata": {
    "id": "_W4WZ9-_C-w5"
   },
   "source": [
    "### * You realize that these URLs are missing the base of \"http://www.importantsite.com\"\n",
    "### * Use a ```for loop``` to join the base URL to every partial URL in your list.\n",
    "### * Print each joined item"
   ]
  },
  {
   "cell_type": "code",
   "execution_count": 13,
   "metadata": {
    "colab": {
     "base_uri": "https://localhost:8080/"
    },
    "id": "hFqX3JypC-w5",
    "outputId": "7322e6a3-c720-455b-e9fe-965e185f51bf"
   },
   "outputs": [
    {
     "name": "stdout",
     "output_type": "stream",
     "text": [
      "http://www.importantsite.comgreat-unique-data-1.html\n",
      "http://www.importantsite.comgreat-unique-data-2.html\n",
      "http://www.importantsite.comgreat-unique-data-3.html\n",
      "http://www.importantsite.comgreat-unique-data-4.html\n",
      "http://www.importantsite.comgreat-unique-data-5.html\n",
      "http://www.importantsite.comgreat-unique-data-6.html\n",
      "http://www.importantsite.comgreat-unique-data-7.html\n",
      "http://www.importantsite.comgreat-unique-data-8.html\n",
      "http://www.importantsite.comgreat-unique-data-9.html\n",
      "http://www.importantsite.comgreat-unique-data-10.html\n",
      "http://www.importantsite.comgreat-unique-data-11.html\n",
      "http://www.importantsite.comgreat-unique-data-12.html\n",
      "http://www.importantsite.comgreat-unique-data-13.html\n",
      "http://www.importantsite.comgreat-unique-data-14.html\n",
      "http://www.importantsite.comgreat-unique-data-15.html\n"
     ]
    }
   ],
   "source": [
    "## build here:\n",
    "\n",
    "baseURL= \"http://www.importantsite.com\"\n",
    "for each_url in myURLS:\n",
    "    full_url = baseURL + each_url\n",
    "    print(full_url)\n",
    "    "
   ]
  },
  {
   "cell_type": "code",
   "execution_count": 14,
   "metadata": {
    "colab": {
     "base_uri": "https://localhost:8080/"
    },
    "id": "g-DNZj4OC-w5",
    "outputId": "d6a7b497-56fb-47bd-aed1-4f9cd19ae2a2"
   },
   "outputs": [
    {
     "data": {
      "text/plain": [
       "['great-unique-data-1.html',\n",
       " 'great-unique-data-2.html',\n",
       " 'great-unique-data-3.html',\n",
       " 'great-unique-data-4.html',\n",
       " 'great-unique-data-5.html',\n",
       " 'great-unique-data-6.html',\n",
       " 'great-unique-data-7.html',\n",
       " 'great-unique-data-8.html',\n",
       " 'great-unique-data-9.html',\n",
       " 'great-unique-data-10.html',\n",
       " 'great-unique-data-11.html',\n",
       " 'great-unique-data-12.html',\n",
       " 'great-unique-data-13.html',\n",
       " 'great-unique-data-14.html',\n",
       " 'great-unique-data-15.html']"
      ]
     },
     "execution_count": 14,
     "metadata": {},
     "output_type": "execute_result"
    }
   ],
   "source": [
    "## Your myURLs list didn't actually change. You only printed out the joined full URLS.\n",
    "## Check out myURLs. Did it change?\n",
    "myURLS"
   ]
  },
  {
   "cell_type": "markdown",
   "metadata": {
    "id": "fM6-d1hXC-w5"
   },
   "source": [
    "### 7. List Comprehension challenge\n",
    "\n",
    "#### * Instead of just printing the joined URLs, create a new list called ```my_full_urls``` that hods the full URLs."
   ]
  },
  {
   "cell_type": "code",
   "execution_count": 15,
   "metadata": {
    "colab": {
     "base_uri": "https://localhost:8080/"
    },
    "id": "vggh0aYAC-w5",
    "outputId": "7e1f46d1-0b1c-4784-c838-798bea161370"
   },
   "outputs": [
    {
     "data": {
      "text/plain": [
       "['http://www.importantsite.com/great-unique-data-1.html',\n",
       " 'http://www.importantsite.com/great-unique-data-2.html',\n",
       " 'http://www.importantsite.com/great-unique-data-3.html',\n",
       " 'http://www.importantsite.com/great-unique-data-4.html',\n",
       " 'http://www.importantsite.com/great-unique-data-5.html',\n",
       " 'http://www.importantsite.com/great-unique-data-6.html',\n",
       " 'http://www.importantsite.com/great-unique-data-7.html',\n",
       " 'http://www.importantsite.com/great-unique-data-8.html',\n",
       " 'http://www.importantsite.com/great-unique-data-9.html',\n",
       " 'http://www.importantsite.com/great-unique-data-10.html',\n",
       " 'http://www.importantsite.com/great-unique-data-11.html',\n",
       " 'http://www.importantsite.com/great-unique-data-12.html',\n",
       " 'http://www.importantsite.com/great-unique-data-13.html',\n",
       " 'http://www.importantsite.com/great-unique-data-14.html',\n",
       " 'http://www.importantsite.com/great-unique-data-15.html']"
      ]
     },
     "execution_count": 15,
     "metadata": {},
     "output_type": "execute_result"
    }
   ],
   "source": [
    "## build here:\n",
    "baseURL= \"http://www.importantsite.com/\"\n",
    "my_full_urls = [baseURL + each_url for each_url in myURLS]\n",
    "my_full_urls"
   ]
  },
  {
   "cell_type": "markdown",
   "metadata": {
    "id": "tGAO5aNFDHeS"
   },
   "source": [
    "## Challenge\n",
    "\n",
    "Write a tenary expression to update the first conditional exercise from our week 2 inclass exercise to deal Zeros. For example if the random list generates:\n",
    "\n",
    "```[46, 30, 31, -56, 18, 57, -90, 81, 0, 0]```\n",
    "\n",
    "It should print out:\n",
    "\n",
    "```The last number (0) is neither negative or positive at zero while the penultimate number (0) is neither negative or positive at zero.```"
   ]
  },
  {
   "cell_type": "code",
   "execution_count": 1,
   "metadata": {
    "id": "nkiMSNvkDIH7"
   },
   "outputs": [],
   "source": [
    "## activate the list\n",
    "numbers = [46, 30, 31, -56, 18, 57, -90, 81, 0, 0]"
   ]
  },
  {
   "cell_type": "code",
   "execution_count": 2,
   "metadata": {
    "colab": {
     "base_uri": "https://localhost:8080/"
    },
    "id": "XTV5x-qrDLZN",
    "outputId": "dd8f044e-6d76-4998-fd26-851ff56af91f"
   },
   "outputs": [
    {
     "name": "stdout",
     "output_type": "stream",
     "text": [
      "The last number (0) is neither negative or positive while the  penultimate number (0) is neither negative or positive\n"
     ]
    }
   ],
   "source": [
    "## Write if/else expression here\n",
    "\n",
    "if numbers[-2] > 0:\n",
    "    penultimate_status = \"positive\"\n",
    "\n",
    "elif numbers[-2] == 0:\n",
    "    penultimate_status = \"neither negative or positive\"\n",
    "    \n",
    "else: penultimate_status = \"negative\"\n",
    "        \n",
    "if numbers[-1] > 0:\n",
    "    last_status = \"positive\"\n",
    "\n",
    "elif numbers[-1] == 0:\n",
    "    last_status = \"neither negative or positive\"\n",
    "    \n",
    "else: last_status = \"negative\"\n",
    "        \n",
    "print(f\"The last number ({numbers[-1]}) is {last_status} while \\\n",
    "the  penultimate number ({numbers[-2]}) is {penultimate_status}\")"
   ]
  },
  {
   "cell_type": "markdown",
   "metadata": {
    "id": "d_V0yN6MDUIY"
   },
   "source": [
    "Update with Tenary expression \n",
    "\n",
    "Take your if/else statement that accounts for Zeroes and turn it into a tenary expression"
   ]
  },
  {
   "cell_type": "code",
   "execution_count": 3,
   "metadata": {
    "colab": {
     "base_uri": "https://localhost:8080/"
    },
    "id": "hONHDNjsDSNq",
    "outputId": "c48c13d4-acb5-4a20-8007-a0e5571a7f09"
   },
   "outputs": [
    {
     "name": "stdout",
     "output_type": "stream",
     "text": [
      "The last number (0) is neither negative or positive while the penultimate number (0) is neither negative or positive.\n"
     ]
    }
   ],
   "source": [
    "## write your multiple ternary expression\n",
    "pen_status = \"positive\" if numbers[-2] > 0 else \"negative\" if numbers[-2] < 0 else \"neither negative or positive\"\n",
    "\n",
    "last_status = \"positive\" if numbers[-1] > 0 else \"negative\" if numbers[-1] < 0 else \"neither negative or positive\"\n",
    "\n",
    "print(f\"The last number ({numbers[-1]}) is {last_status} while \\\n",
    "the penultimate number ({numbers[-2]}) is {pen_status}.\")"
   ]
  },
  {
   "cell_type": "code",
   "execution_count": null,
   "metadata": {
    "id": "T4mHD-7LDYHK"
   },
   "outputs": [],
   "source": []
  }
 ],
 "metadata": {
  "colab": {
   "collapsed_sections": [],
   "name": "homework-for-week-3-SOLUTIONS.ipynb",
   "provenance": []
  },
  "kernelspec": {
   "display_name": "Python 3",
   "language": "python",
   "name": "python3"
  },
  "language_info": {
   "codemirror_mode": {
    "name": "ipython",
    "version": 3
   },
   "file_extension": ".py",
   "mimetype": "text/x-python",
   "name": "python",
   "nbconvert_exporter": "python",
   "pygments_lexer": "ipython3",
   "version": "3.8.8"
  }
 },
 "nbformat": 4,
 "nbformat_minor": 1
}

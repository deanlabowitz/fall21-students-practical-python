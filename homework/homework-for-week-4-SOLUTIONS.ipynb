{
 "cells": [
  {
   "cell_type": "markdown",
   "metadata": {
    "id": "QLSzJhTVmYca"
   },
   "source": [
    "# Homework for week 4"
   ]
  },
  {
   "cell_type": "markdown",
   "metadata": {
    "id": "ZWqkYe-mmYck"
   },
   "source": [
    "## Function 1- string to integer"
   ]
  },
  {
   "cell_type": "markdown",
   "metadata": {
    "id": "L2Xeg6ZMmYck"
   },
   "source": [
    "#### 1. Convert String Number to Integer\n",
    "Create a function that can take something like ```\"$5,356\"``` or ```\"$250,000\"``` or even ```\"$10.75\"``` and covert into integers like return ```5356```, ```250000``` and ```11``` respectively."
   ]
  },
  {
   "cell_type": "code",
   "execution_count": null,
   "metadata": {
    "id": "L0FSXNuTmYcl"
   },
   "outputs": [],
   "source": [
    "## build function here and call it clean_numbers\n",
    "def clean_numbers(some_string_number):\n",
    "  '''\n",
    "  Enter a number or a list of numbers that are in a string format, and I will convert it to an integer.\n",
    "  '''\n",
    "  amount = some_string_number.replace(\"$\",\"\").replace(\",\",\"\")\n",
    "  return round(float(amount))"
   ]
  },
  {
   "cell_type": "code",
   "execution_count": null,
   "metadata": {
    "colab": {
     "base_uri": "https://localhost:8080/"
    },
    "id": "sjJQAznHmYcl",
    "outputId": "138567be-d8cb-4198-b50c-3eaa4447553d"
   },
   "outputs": [
    {
     "data": {
      "text/plain": [
       "5356"
      ]
     },
     "execution_count": 2,
     "metadata": {
      "tags": []
     },
     "output_type": "execute_result"
    }
   ],
   "source": [
    "## call the function on \"$5,356\"\n",
    "## Did you get 5356?\n",
    "clean_numbers(\"$5,356\")"
   ]
  },
  {
   "cell_type": "code",
   "execution_count": null,
   "metadata": {
    "colab": {
     "base_uri": "https://localhost:8080/"
    },
    "id": "1A3ng-rfmYcl",
    "outputId": "fa604c4f-c7b3-4a5b-8002-a9519dbf8888"
   },
   "outputs": [
    {
     "data": {
      "text/plain": [
       "11"
      ]
     },
     "execution_count": 3,
     "metadata": {
      "tags": []
     },
     "output_type": "execute_result"
    }
   ],
   "source": [
    "## call the function on \"$10.75\"\n",
    "## Did you get 11?\n",
    "\n",
    "clean_numbers(\"$10.75\")"
   ]
  },
  {
   "cell_type": "code",
   "execution_count": null,
   "metadata": {
    "colab": {
     "base_uri": "https://localhost:8080/"
    },
    "id": "ztZY7KAWmYcl",
    "outputId": "a96732be-2333-4808-eec7-85f70c71db14"
   },
   "outputs": [
    {
     "data": {
      "text/plain": [
       "[12, 4576, 23629]"
      ]
     },
     "execution_count": 4,
     "metadata": {
      "tags": []
     },
     "output_type": "execute_result"
    }
   ],
   "source": [
    "## Use map() to run your function on the following list\n",
    "## save result in a list called updated_list\n",
    "my_amounts = [\"$12.24\", \"$4,576.33\", \"$23,629.01\"]\n",
    "\n",
    "updated_list = list(map(clean_numbers, my_amounts))\n",
    "updated_list"
   ]
  },
  {
   "cell_type": "markdown",
   "metadata": {
    "id": "v_OkCtGNmYcm"
   },
   "source": [
    "### 3. What if we encounter a list that has a mix of numbers as strings and integers and floats?"
   ]
  },
  {
   "cell_type": "code",
   "execution_count": 1,
   "metadata": {
    "id": "HOLy-0nzmYcm"
   },
   "outputs": [],
   "source": [
    "## Run this cell\n",
    "more_amounts = [960, \"$12.24\", \"$4,576.33\", \"$23,629.01\", 23.656]"
   ]
  },
  {
   "cell_type": "code",
   "execution_count": null,
   "metadata": {
    "id": "QWevBiuUmYcm"
   },
   "outputs": [],
   "source": [
    "## tweaked the function here to handle all situations\n",
    "def clean_numbers(some_string_number):\n",
    "  '''\n",
    "  Enter a number or a list of numbers. \n",
    "  The items can be strings, integers, floats or a mix of all. \n",
    "  I will convert it to an integer.\n",
    "  '''\n",
    "  if isinstance(some_string_number, str): \n",
    "    amount = round(float(some_string_number.replace(\"$\",\"\").replace(\",\",\"\")))\n",
    "\n",
    "  else:\n",
    "    amount = round(float(some_string_number))\n",
    "\n",
    "  return amount"
   ]
  },
  {
   "cell_type": "code",
   "execution_count": null,
   "metadata": {
    "colab": {
     "base_uri": "https://localhost:8080/"
    },
    "id": "UE56J2n6mYcm",
    "outputId": "daccced0-e92b-407a-d06c-2a4483a7c7a4"
   },
   "outputs": [
    {
     "data": {
      "text/plain": [
       "[960, 12, 4576, 23629, 24]"
      ]
     },
     "execution_count": 12,
     "metadata": {
      "tags": []
     },
     "output_type": "execute_result"
    }
   ],
   "source": [
    "## run it on more_amounts using map()\n",
    "list(map(clean_numbers, more_amounts))"
   ]
  },
  {
   "cell_type": "code",
   "execution_count": null,
   "metadata": {
    "id": "IffJV1m-t2DC"
   },
   "outputs": [],
   "source": []
  }
 ],
 "metadata": {
  "colab": {
   "collapsed_sections": [],
   "name": "Homework-for-week-4_SOLUTIONS.ipynb",
   "provenance": []
  },
  "kernelspec": {
   "display_name": "Python 3",
   "language": "python",
   "name": "python3"
  },
  "language_info": {
   "codemirror_mode": {
    "name": "ipython",
    "version": 3
   },
   "file_extension": ".py",
   "mimetype": "text/x-python",
   "name": "python",
   "nbconvert_exporter": "python",
   "pygments_lexer": "ipython3",
   "version": "3.8.8"
  }
 },
 "nbformat": 4,
 "nbformat_minor": 1
}

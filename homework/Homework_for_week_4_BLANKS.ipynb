{
  "nbformat": 4,
  "nbformat_minor": 0,
  "metadata": {
    "kernelspec": {
      "display_name": "Python 3",
      "language": "python",
      "name": "python3"
    },
    "language_info": {
      "codemirror_mode": {
        "name": "ipython",
        "version": 3
      },
      "file_extension": ".py",
      "mimetype": "text/x-python",
      "name": "python",
      "nbconvert_exporter": "python",
      "pygments_lexer": "ipython3",
      "version": "3.7.7"
    },
    "colab": {
      "name": "Homework-for-week-4_BLANKS.ipynb",
      "provenance": [],
      "collapsed_sections": []
    }
  },
  "cells": [
    {
      "cell_type": "markdown",
      "metadata": {
        "id": "Iz2mPruuLNDG"
      },
      "source": [
        "# Homework for week 4"
      ]
    },
    {
      "cell_type": "markdown",
      "metadata": {
        "id": "J3SAoD1ZLNDa"
      },
      "source": [
        "## Functions"
      ]
    },
    {
      "cell_type": "markdown",
      "metadata": {
        "id": "3UGFoGn8LNDa"
      },
      "source": [
        "#### 1. Convert String Number to Integer\n",
        "Create a function that can take something like ```\"$5,356\"``` or ```\"$250,000\"``` or even ```\"$10.75\"``` and covert into integers like return ```5356```, ```250000``` and ```11``` respectively."
      ]
    },
    {
      "cell_type": "code",
      "metadata": {
        "id": "uMP1kvHDLNDb"
      },
      "source": [
        "## build function here\n"
      ],
      "execution_count": null,
      "outputs": []
    },
    {
      "cell_type": "code",
      "metadata": {
        "id": "sry36rAfLNDe"
      },
      "source": [
        "## call the function on \"$5,356\"\n",
        "## Did you get 5356?\n"
      ],
      "execution_count": null,
      "outputs": []
    },
    {
      "cell_type": "code",
      "metadata": {
        "id": "JUkBfxMoLNDg"
      },
      "source": [
        "## call the function on \"$10.75\"\n",
        "## Did you get 11?\n",
        "\n"
      ],
      "execution_count": null,
      "outputs": []
    },
    {
      "cell_type": "code",
      "metadata": {
        "id": "sRAqjMx6LNDj"
      },
      "source": [
        "## Use map() to run your function on the following list\n",
        "## save result in a list called updated_list\n",
        "my_amounts = [\"$12.24\", \"$4,576.33\", \"$23,629.01\"]"
      ],
      "execution_count": null,
      "outputs": []
    },
    {
      "cell_type": "markdown",
      "metadata": {
        "id": "mmIBlUMgLNDl"
      },
      "source": [
        "### 3. What if we encounter a list that has a mix of numbers as strings and integers and floats?"
      ]
    },
    {
      "cell_type": "code",
      "metadata": {
        "id": "fDHpj2KaLNDm"
      },
      "source": [
        "## Run this cell\n",
        "more_amounts = [960, \"$12.24\", \"$4,576.33\", \"$23,629.01\", 23.656]"
      ],
      "execution_count": null,
      "outputs": []
    },
    {
      "cell_type": "code",
      "metadata": {
        "id": "BmPYPzVWLNDo"
      },
      "source": [
        "## tweaked the function here to handle all situations\n",
        "\n"
      ],
      "execution_count": null,
      "outputs": []
    },
    {
      "cell_type": "code",
      "metadata": {
        "id": "fWfOcyxeLNDq"
      },
      "source": [
        "## run it on more_amounts using map()\n"
      ],
      "execution_count": null,
      "outputs": []
    }
  ]
}
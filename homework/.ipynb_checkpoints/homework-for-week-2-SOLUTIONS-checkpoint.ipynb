{
 "cells": [
  {
   "cell_type": "markdown",
   "metadata": {
    "id": "CkXMgU4se4Vq"
   },
   "source": [
    "# Week 1 - Homework\n"
   ]
  },
  {
   "cell_type": "markdown",
   "metadata": {
    "id": "AjnyLapme4Vr"
   },
   "source": [
    "## Working with Numbers"
   ]
  },
  {
   "cell_type": "code",
   "execution_count": null,
   "metadata": {
    "colab": {
     "base_uri": "https://localhost:8080/",
     "height": 34
    },
    "id": "afWzdfuKe4Vs",
    "outputId": "f084b2c7-230d-467e-ad2d-f1dd6a2c146f"
   },
   "outputs": [
    {
     "name": "stdout",
     "output_type": "stream",
     "text": [
      "Sales equaled $45,300,000 in 2019. \n"
     ]
    }
   ],
   "source": [
    "## create a variable called sales equal to 45.3 million\n",
    "## print it as \"Sales totalled $45,300,000 in 2019\" using f-string literal (0 decimal places)\n",
    "## use thousands separator/digit group separator to make it easier to read\n",
    "sales = 45_300_000\n",
    "print(f\"Sales equaled ${sales:,.0f} in 2019. \")"
   ]
  },
  {
   "cell_type": "code",
   "execution_count": null,
   "metadata": {
    "colab": {
     "base_uri": "https://localhost:8080/",
     "height": 34
    },
    "id": "ODHElHSGe4Vw",
    "outputId": "5dbe0d6d-6c4d-4044-824d-e0b6df830444"
   },
   "outputs": [
    {
     "name": "stdout",
     "output_type": "stream",
     "text": [
      "$1,410,000,000,000\n"
     ]
    }
   ],
   "source": [
    "## create a variable called apple_cap equal to $1.41 trillion in scientific notation\n",
    "## Print it like you did above but to no decimal places.\n",
    "apple_cap = 1.41E12\n",
    "print(f\"${apple_cap:,.0f}\")"
   ]
  },
  {
   "cell_type": "markdown",
   "metadata": {
    "id": "ckMpZsLIe4Vz"
   },
   "source": [
    "## Working with Lists"
   ]
  },
  {
   "cell_type": "code",
   "execution_count": null,
   "metadata": {
    "colab": {
     "base_uri": "https://localhost:8080/",
     "height": 118
    },
    "id": "MN8rMqLge4Vz",
    "outputId": "77aaf9f7-dd0c-42bb-e7f9-bf9b0c61ff06"
   },
   "outputs": [
    {
     "data": {
      "text/plain": [
       "['Bankruptcy',\n",
       " 'Mergers',\n",
       " 'Acquisitions',\n",
       " 'Short selling',\n",
       " 'Liquidations',\n",
       " 'Equity']"
      ]
     },
     "execution_count": 3,
     "metadata": {
      "tags": []
     },
     "output_type": "execute_result"
    }
   ],
   "source": [
    "## Combine the two lists into a single list called combined_list\n",
    "terms_1 = [\"Bankruptcy\", \"Mergers\", \"Acquisitions\"]\n",
    "terms_2 = [\"Short selling\", \"Liquidations\", \"Equity\"]\n",
    "\n",
    "### method 1\n",
    "# combined_list = terms_1 + terms_2\n",
    "\n",
    "\n",
    "### method 2\n",
    "# terms_1.extend(terms_2)\n",
    "# combined_list = terms_1\n",
    "\n",
    "# method 3 (PREFERRED)\n",
    "combined_list = [*terms_1, *terms_2]\n",
    "\n",
    "## show the new list:\n",
    "combined_list"
   ]
  },
  {
   "cell_type": "markdown",
   "metadata": {
    "id": "IJXqf_9ce4V3"
   },
   "source": [
    "## Working with List of Dictionaries\n",
    "\n",
    "#### Create a list of dictionaries called \"donations\" using the content from the image below:\n",
    "\n",
    "![alt text](https://raw.githubusercontent.com/sandeepmj/practical_python_exercises/master/support_files/donors.png)\n",
    "\n",
    "## If you want to copy and paste the content, click <a href=\"https://github.com/sandeepmj/practical_python_exercises/blob/master/support_files/giving.xlsx?raw=true\" target=\"blank\">here</a> to download the Excel file.\n",
    "More instructions in the next cell:"
   ]
  },
  {
   "cell_type": "code",
   "execution_count": null,
   "metadata": {
    "colab": {
     "base_uri": "https://localhost:8080/"
    },
    "id": "_2NO6Smle4V4",
    "outputId": "63eec929-51ec-474b-fd84-e2bf82fb56e1"
   },
   "outputs": [
    {
     "data": {
      "text/plain": [
       "[{'amount': 15000000.0,\n",
       "  'donor': 'David Koch Charitable Foundation',\n",
       "  'grantee': 'City Center for Music and Drama',\n",
       "  'year': 2017},\n",
       " {'amount': 11000.0,\n",
       "  'donor': 'Bradley Impact Fund',\n",
       "  'grantee': 'Young Americans',\n",
       "  'year': 2013},\n",
       " {'amount': 250000.0,\n",
       "  'donor': 'Mercer Family Foundation',\n",
       "  'grantee': 'The Becket Fund',\n",
       "  'year': 2016},\n",
       " {'amount': 25000.0,\n",
       "  'donor': 'Charles Koch Foundation',\n",
       "  'grantee': 'The Phillips Foundation',\n",
       "  'year': 2012},\n",
       " {'amount': 2634600.0,\n",
       "  'donor': 'Barbara And Barre Seid Foundation',\n",
       "  'grantee': 'Boys Scouts of America',\n",
       "  'year': 2017}]"
      ]
     },
     "execution_count": 1,
     "metadata": {},
     "output_type": "execute_result"
    }
   ],
   "source": [
    "## You may copy the contents of each cell in the XLSX file, but...\n",
    "## ...type out all the code.\n",
    "## print the list of dictionaries\n",
    "\n",
    "\n",
    "donations = [\n",
    "    {\"year\": 2017, \"donor\": \"David Koch Charitable Foundation\", \"grantee\": \"City Center for Music and Drama\", \"amount\": 15E6}, \n",
    "    {\"year\": 2013, \"donor\": \"Bradley Impact Fund\", \"grantee\": \"Young Americans\", \"amount\": 11E3}, \n",
    "    {\"year\": 2016, \"donor\": \"Mercer Family Foundation\", \"grantee\": \"The Becket Fund\", \"amount\": 250E3}, \n",
    "    {\"year\": 2012, \"donor\": \"Charles Koch Foundation\", \"grantee\": \"The Phillips Foundation\", \"amount\": 25E3},\n",
    "    {\"year\": 2017, \"donor\": \"Barbara And Barre Seid Foundation\", \"grantee\": \"Boys Scouts of America\", \"amount\": 26346E2}\n",
    "]\n",
    "donations"
   ]
  },
  {
   "cell_type": "code",
   "execution_count": null,
   "metadata": {
    "colab": {
     "base_uri": "https://localhost:8080/"
    },
    "id": "7B22_lakkRYQ",
    "outputId": "f2e006b9-ae95-4c76-ced8-1a1d2a609e87"
   },
   "outputs": [
    {
     "name": "stdout",
     "output_type": "stream",
     "text": [
      "{'year': 2017, 'donor': 'David Koch Charitable Foundation', 'grantee': 'City Center for Music and Drama', 'amount': 15000000.0}\n",
      "{'year': 2013, 'donor': 'Bradley Impact Fund', 'grantee': 'Young Americans', 'amount': 11000.0}\n",
      "{'year': 2016, 'donor': 'Mercer Family Foundation', 'grantee': 'The Becket Fund', 'amount': 250000.0}\n",
      "{'year': 2012, 'donor': 'Charles Koch Foundation', 'grantee': 'The Phillips Foundation', 'amount': 25000.0}\n",
      "{'year': 2017, 'donor': 'Barbara And Barre Seid Foundation', 'grantee': 'Boys Scouts of America', 'amount': 2634600.0}\n"
     ]
    }
   ],
   "source": [
    "for mydict in donations:\n",
    "  print(mydict)"
   ]
  },
  {
   "cell_type": "code",
   "execution_count": null,
   "metadata": {
    "colab": {
     "base_uri": "https://localhost:8080/"
    },
    "id": "Y1EHn6g6e4V7",
    "outputId": "01aadf10-6195-406a-d32e-fc1032e83a42"
   },
   "outputs": [
    {
     "data": {
      "text/plain": [
       "5"
      ]
     },
     "execution_count": 2,
     "metadata": {
      "tags": []
     },
     "output_type": "execute_result"
    }
   ],
   "source": [
    "## How many items are in this list?\n",
    "## Don't just manually count them.\n",
    "## There will come a time when you will have thousands of items!\n",
    "len(donations)"
   ]
  },
  {
   "cell_type": "code",
   "execution_count": null,
   "metadata": {
    "colab": {
     "base_uri": "https://localhost:8080/"
    },
    "id": "8ECBlp-Se4V-",
    "outputId": "71301ff2-b4d7-4b1b-8c04-ddb4d886da32"
   },
   "outputs": [
    {
     "data": {
      "text/plain": [
       "4"
      ]
     },
     "execution_count": 3,
     "metadata": {
      "tags": []
     },
     "output_type": "execute_result"
    }
   ],
   "source": [
    "## How many key/value pairs are there in the last dictionary\n",
    "len(donations[4])"
   ]
  },
  {
   "cell_type": "code",
   "execution_count": null,
   "metadata": {
    "colab": {
     "base_uri": "https://localhost:8080/"
    },
    "id": "AwzGw6DZe4WB",
    "outputId": "6f5590fe-796d-480c-b510-df477be6beb4"
   },
   "outputs": [
    {
     "data": {
      "text/plain": [
       "[{'amount': 15000000.0,\n",
       "  'category': 'youth',\n",
       "  'donor': 'David Koch Charitable Foundation',\n",
       "  'grantee': 'City Center for Music and Drama',\n",
       "  'year': 2017},\n",
       " {'amount': 11000.0,\n",
       "  'donor': 'Bradley Impact Fund',\n",
       "  'grantee': 'Young Americans',\n",
       "  'year': 2013},\n",
       " {'amount': 250000.0,\n",
       "  'donor': 'Mercer Family Foundation',\n",
       "  'grantee': 'The Becket Fund',\n",
       "  'year': 2016},\n",
       " {'amount': 25000.0,\n",
       "  'donor': 'Charles Koch Foundation',\n",
       "  'grantee': 'The Phillips Foundation',\n",
       "  'year': 2012},\n",
       " {'amount': 2634600.0,\n",
       "  'donor': 'Barbara And Barre Seid Foundation',\n",
       "  'grantee': 'Boys Scouts of America',\n",
       "  'year': 2017}]"
      ]
     },
     "execution_count": 4,
     "metadata": {
      "tags": []
     },
     "output_type": "execute_result"
    }
   ],
   "source": [
    "## Add one more key/value pair to the first dictionary in the list\n",
    "## Add: \"category\": \"youth\"\n",
    "donations[0].update({\"category\": \"youth\"})\n",
    "donations"
   ]
  },
  {
   "cell_type": "code",
   "execution_count": null,
   "metadata": {
    "colab": {
     "base_uri": "https://localhost:8080/"
    },
    "id": "rjDuDsS2e4WE",
    "outputId": "dc986a60-e098-402e-bb68-fce42d99b970"
   },
   "outputs": [
    {
     "data": {
      "text/plain": [
       "{'amount': 250000.0,\n",
       " 'donor': 'Mercer Family Foundation',\n",
       " 'grantee': 'The Becket Fund',\n",
       " 'year': 2016}"
      ]
     },
     "execution_count": 5,
     "metadata": {
      "tags": []
     },
     "output_type": "execute_result"
    }
   ],
   "source": [
    "## Show the 3rd item in the list (including keys and values)\n",
    "donations[2]"
   ]
  },
  {
   "cell_type": "code",
   "execution_count": null,
   "metadata": {
    "colab": {
     "base_uri": "https://localhost:8080/"
    },
    "id": "O_MWnX45e4WG",
    "outputId": "bfb7a9b4-6a2e-4a10-9eaf-8673073f2e66"
   },
   "outputs": [
    {
     "data": {
      "text/plain": [
       "[{'amount': 11000.0,\n",
       "  'donor': 'Bradley Impact Fund',\n",
       "  'grantee': 'Young Americans',\n",
       "  'year': 2013},\n",
       " {'amount': 250000.0,\n",
       "  'donor': 'Mercer Family Foundation',\n",
       "  'grantee': 'The Becket Fund',\n",
       "  'year': 2016},\n",
       " {'amount': 25000.0,\n",
       "  'donor': 'Charles Koch Foundation',\n",
       "  'grantee': 'The Phillips Foundation',\n",
       "  'year': 2012},\n",
       " {'amount': 2634600.0,\n",
       "  'donor': 'Barbara And Barre Seid Foundation',\n",
       "  'grantee': 'Boys Scouts of America',\n",
       "  'year': 2017}]"
      ]
     },
     "execution_count": 6,
     "metadata": {
      "tags": []
     },
     "output_type": "execute_result"
    }
   ],
   "source": [
    "##show the 2nd through last:\n",
    "donations[1:]"
   ]
  },
  {
   "cell_type": "code",
   "execution_count": null,
   "metadata": {
    "colab": {
     "base_uri": "https://localhost:8080/",
     "height": 34
    },
    "id": "usNLdsbFe4WJ",
    "outputId": "57b6bfde-4451-40d2-b9f4-36bf04972b8c"
   },
   "outputs": [
    {
     "data": {
      "text/plain": [
       "['year', 'donor', 'grantee', 'amount', 'category']"
      ]
     },
     "execution_count": 10,
     "metadata": {
      "tags": []
     },
     "output_type": "execute_result"
    }
   ],
   "source": [
    "## Go full circle and create a list that holds just the column headers.\n",
    "## Call that list \"csv_columns\"\n",
    "## print the list\n",
    "csv_columns = [*donations[0]]\n",
    "# csv_columns = list(donations[0])\n",
    "csv_columns"
   ]
  },
  {
   "cell_type": "markdown",
   "metadata": {
    "id": "wT0mvYghe4WL"
   },
   "source": [
    "### Removing items from a dictionary\n",
    "We realize the first item in the list of dictionaries is the only one with \"category\" key. "
   ]
  },
  {
   "cell_type": "code",
   "execution_count": null,
   "metadata": {
    "colab": {
     "base_uri": "https://localhost:8080/",
     "height": 84
    },
    "id": "t6OmBQ3ye4WM",
    "outputId": "d93f1d47-9cdc-4c16-9c68-f31849a3b550"
   },
   "outputs": [
    {
     "data": {
      "text/plain": [
       "{'amount': 15000000.0,\n",
       " 'donor': 'David Koch Charitable Foundation',\n",
       " 'grantee': 'City Center for Music and Drama',\n",
       " 'year': 2017}"
      ]
     },
     "execution_count": 11,
     "metadata": {
      "tags": []
     },
     "output_type": "execute_result"
    }
   ],
   "source": [
    "## Remove that single key/value pair prior to the next task.\n",
    "del donations[0][\"category\"]\n",
    "donations[0]"
   ]
  },
  {
   "cell_type": "code",
   "execution_count": null,
   "metadata": {
    "colab": {
     "base_uri": "https://localhost:8080/",
     "height": 34
    },
    "id": "4uNQ8OaYe4WO",
    "outputId": "bb7e1a00-fabd-4f4d-efeb-9be38626ef8a"
   },
   "outputs": [
    {
     "data": {
      "text/plain": [
       "['year', 'donor', 'grantee', 'amount']"
      ]
     },
     "execution_count": 12,
     "metadata": {
      "tags": []
     },
     "output_type": "execute_result"
    }
   ],
   "source": [
    "## Create the column headers again\n",
    "## Call that list \"csv_columns\"\n",
    "## print the list\n",
    "csv_columns = [*donations[0]]\n",
    "# csv_columns = list(donations[0])\n",
    "csv_columns"
   ]
  },
  {
   "cell_type": "markdown",
   "metadata": {
    "id": "xT1Ay009e4WV"
   },
   "source": [
    "### What are relevant journalistic uses for the various methods above?\n",
    "\n",
    "#### 1. Making numbers more readable (using f-string literal formatting)\n",
    "#### 2. Organizing data points after acquiring them through scraping (creating lists, dictionaries and lists of dictionaries)\n",
    "#### 3. Confirming that we have unique values (or removing duplicates in a data set)\n",
    "#### 4. Creating column headers to prepare data for export to a CSV file"
   ]
  }
 ],
 "metadata": {
  "colab": {
   "collapsed_sections": [],
   "name": "homework-for-week-2-SOLUTIONS.ipynb",
   "provenance": []
  },
  "kernelspec": {
   "display_name": "Python 3",
   "language": "python",
   "name": "python3"
  },
  "language_info": {
   "codemirror_mode": {
    "name": "ipython",
    "version": 3
   },
   "file_extension": ".py",
   "mimetype": "text/x-python",
   "name": "python",
   "nbconvert_exporter": "python",
   "pygments_lexer": "ipython3",
   "version": "3.8.8"
  }
 },
 "nbformat": 4,
 "nbformat_minor": 1
}

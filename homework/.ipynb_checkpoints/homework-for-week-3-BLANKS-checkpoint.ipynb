{
 "cells": [
  {
   "cell_type": "markdown",
   "metadata": {
    "id": "rk4Z15RKcNpO"
   },
   "source": [
    "# Homework for Week 3"
   ]
  },
  {
   "cell_type": "markdown",
   "metadata": {
    "id": "J0I7ZoMIcNpd"
   },
   "source": [
    "### 1. Counter\n",
    "* Build a counter that counts from 2 to 10, but only even numbers.\n",
    "* Print the counter numbers in statement that reads: \"The even number is [whatever the even number is]\".\n",
    "* Once it reaches 10, it should print \"Done counting from 2 to 10 even numbers!\""
   ]
  },
  {
   "cell_type": "code",
   "execution_count": null,
   "metadata": {
    "id": "mPUWYmXRcNpd"
   },
   "outputs": [],
   "source": [
    "## build here:\n"
   ]
  },
  {
   "cell_type": "markdown",
   "metadata": {
    "id": "iOT-583zcNph"
   },
   "source": [
    "### 2. Build a counter with a timer\n",
    "* Add a timer to the previous code so it runs every 3 to 15 seconds"
   ]
  },
  {
   "cell_type": "code",
   "execution_count": null,
   "metadata": {
    "id": "8UrD9GR1cNpi"
   },
   "outputs": [],
   "source": [
    "## build here:\n",
    "\n"
   ]
  },
  {
   "cell_type": "markdown",
   "metadata": {
    "id": "rL9NFvkTcNpi"
   },
   "source": [
    "### 3. For Looping...\n",
    "\n",
    "* The USDA puts out a report on toxins that can be found in foods.\n",
    "* You have a list of toxins that you specifically want to search for."
   ]
  },
  {
   "cell_type": "code",
   "execution_count": null,
   "metadata": {
    "id": "8Ue7a160cNpk"
   },
   "outputs": [],
   "source": [
    "## run this cell to activate the list\n",
    "\n",
    "toxins = [\"Recombinant Bovine Growth Hormone\", \n",
    "          \"Butylated Hydroxyanisole\", \n",
    "          \"Sodium Aluminum Sulphate\",\n",
    "          \"Potassium Aluminum Sulphate\",\n",
    "          \"Sodium Nitrite\",\n",
    "          \"Polycyclic Aromatic Hydrocarbons\",\n",
    "          \"Dioxins\",\n",
    "          \"Heterocyclic Amines\",\n",
    "          \"Butylated Hydroxytoluene\"]\n",
    "\n"
   ]
  },
  {
   "cell_type": "code",
   "execution_count": null,
   "metadata": {
    "id": "t2FEx5YscNpl"
   },
   "outputs": [],
   "source": [
    "## call the list\n"
   ]
  },
  {
   "cell_type": "markdown",
   "metadata": {
    "id": "JPiiCzoAcNpm"
   },
   "source": [
    "#### You plan to check for mentions of these toxins in a text report.\n",
    "#### Since Python is case sensitive, you have first have lower-case the entire report. This is called ```pre-processing``` the text.\n",
    "\n",
    "* use a ```for loop``` to lowercase and ```print``` the toxins list."
   ]
  },
  {
   "cell_type": "code",
   "execution_count": null,
   "metadata": {
    "id": "7fmSOz8LcNpn"
   },
   "outputs": [],
   "source": [
    "## build here:\n",
    "\n"
   ]
  },
  {
   "cell_type": "markdown",
   "metadata": {
    "id": "cUic8N87cNpn"
   },
   "source": [
    "#### The toxins list was not actually lowercased. You only printed out the lowercased updates.\n",
    "#### Check out the toxins list. Did it change?"
   ]
  },
  {
   "cell_type": "code",
   "execution_count": null,
   "metadata": {
    "id": "-G3RGrQxcNpn"
   },
   "outputs": [],
   "source": [
    "## call the list here\n"
   ]
  },
  {
   "cell_type": "markdown",
   "metadata": {
    "id": "O-NxGPx8cNpo"
   },
   "source": [
    "### Update your ```for loop``` to actually create a new list called ```updated_toxins```."
   ]
  },
  {
   "cell_type": "code",
   "execution_count": null,
   "metadata": {
    "id": "vXTGgdrYcNpo"
   },
   "outputs": [],
   "source": [
    "## build here:\n",
    "\n"
   ]
  },
  {
   "cell_type": "markdown",
   "metadata": {
    "id": "MJse9ih-cNpp"
   },
   "source": [
    "#### Print the updated list:\n",
    "#### Is it lowercased now?"
   ]
  },
  {
   "cell_type": "code",
   "execution_count": null,
   "metadata": {
    "id": "m9fJUDAzcNpp"
   },
   "outputs": [],
   "source": [
    "## print it here\n"
   ]
  },
  {
   "cell_type": "markdown",
   "metadata": {
    "id": "aJGfwNQgcNpr"
   },
   "source": [
    "### 4. List Comprehension\n",
    "\n",
    "* Lower case all the toxins in our original toxins list using list comprehension\n",
    "* The new list should be called ```updated_toxins_lc```."
   ]
  },
  {
   "cell_type": "code",
   "execution_count": null,
   "metadata": {
    "id": "tZ5Fr0tWcNpr"
   },
   "outputs": [],
   "source": [
    "## build here:\n"
   ]
  },
  {
   "cell_type": "markdown",
   "metadata": {
    "id": "n76r1NiXcNps"
   },
   "source": [
    "### 5. Challenge Question:\n",
    "\n",
    "* Use **list comprehension** to create a new list called ```sodium_tox``` that only contains toxins that include the word \"sodium\""
   ]
  },
  {
   "cell_type": "code",
   "execution_count": null,
   "metadata": {
    "id": "8AdezBSFcNps"
   },
   "outputs": [],
   "source": [
    "## build here: \n"
   ]
  },
  {
   "cell_type": "markdown",
   "metadata": {
    "id": "qyF7l64ScNpt"
   },
   "source": [
    "### 6.  ``` for loop``` continued...\n",
    "\n",
    "#### You scrape some URLs and place them in a list called myURLS (provided below):\n"
   ]
  },
  {
   "cell_type": "code",
   "execution_count": null,
   "metadata": {
    "id": "wyfNpkSfcNpt"
   },
   "outputs": [],
   "source": [
    "## run this cell to activate the list\n",
    "myURLS = [\n",
    "    'great-unique-data-1.html',\n",
    "    'great-unique-data-2.html',\n",
    "    'great-unique-data-3.html',\n",
    "    'great-unique-data-4.html',\n",
    "    'great-unique-data-5.html',\n",
    "    'great-unique-data-6.html',\n",
    "    'great-unique-data-7.html',\n",
    "    'great-unique-data-8.html',\n",
    "    'great-unique-data-9.html',\n",
    "    'great-unique-data-10.html',\n",
    "    'great-unique-data-11.html',\n",
    "    'great-unique-data-12.html',\n",
    "    'great-unique-data-13.html',\n",
    "    'great-unique-data-14.html',\n",
    "    'great-unique-data-15.html'\n",
    "]\n"
   ]
  },
  {
   "cell_type": "code",
   "execution_count": null,
   "metadata": {
    "id": "3qGJcJxlcNpt"
   },
   "outputs": [],
   "source": [
    "## Print myURLS to check it out\n"
   ]
  },
  {
   "cell_type": "markdown",
   "metadata": {
    "id": "kUEWHW0QcNpt"
   },
   "source": [
    "### * You realize that these URLs are missing the base of \"http://www.importantsite.com\"\n",
    "### * Use a ```for loop``` to join the base URL to every partial URL in your list.\n",
    "### * Print each joined item"
   ]
  },
  {
   "cell_type": "code",
   "execution_count": null,
   "metadata": {
    "id": "yI0iz7YjcNpu"
   },
   "outputs": [],
   "source": [
    "## build here:\n",
    "\n"
   ]
  },
  {
   "cell_type": "code",
   "execution_count": null,
   "metadata": {
    "id": "kqAkKvAtcNpu"
   },
   "outputs": [],
   "source": [
    "## Your myURLs list didn't actually change. You only printed out the joined full URLS.\n",
    "## Check out myURLs. Did it change?\n"
   ]
  },
  {
   "cell_type": "markdown",
   "metadata": {
    "id": "rc0ScOY7cNpu"
   },
   "source": [
    "### 7. List Comprehension challenge\n",
    "\n",
    "#### * Instead of just printing the joined URLs, create a new list called ```my_full_urls``` that holds the full URLs."
   ]
  },
  {
   "cell_type": "code",
   "execution_count": null,
   "metadata": {
    "id": "TwC8W25ecNpv"
   },
   "outputs": [],
   "source": [
    "## build here:\n"
   ]
  },
  {
   "cell_type": "markdown",
   "metadata": {
    "id": "WpSKR41ueV5j"
   },
   "source": [
    "## Challenge\n",
    "\n",
    "Write a tenary expression to update the first conditional exercise from our week 2 inclass exercise to deal Zeros. For example if the random list generates:\n",
    "\n",
    "```[46, 30, 31, -56, 18, 57, -90, 81, 0, 0]```\n",
    "\n",
    "It should print out:\n",
    "\n",
    "```The last number (0) is neither negative or positive at zero while the penultimate number (0) is neither negative or positive at zero.```"
   ]
  },
  {
   "cell_type": "code",
   "execution_count": null,
   "metadata": {
    "id": "Updp5TekedB5"
   },
   "outputs": [],
   "source": [
    "## activate the list\n",
    "numbers = [46, 30, 31, -56, 18, 57, -90, 81, 0, 0]"
   ]
  },
  {
   "cell_type": "code",
   "execution_count": null,
   "metadata": {
    "id": "eLZyjDu2ej3d"
   },
   "outputs": [],
   "source": [
    "## write your multiple ternary expression\n"
   ]
  }
 ],
 "metadata": {
  "colab": {
   "collapsed_sections": [],
   "name": "homework-for-week-3-BLANKS.ipynb",
   "provenance": []
  },
  "kernelspec": {
   "display_name": "Python 3",
   "language": "python",
   "name": "python3"
  },
  "language_info": {
   "codemirror_mode": {
    "name": "ipython",
    "version": 3
   },
   "file_extension": ".py",
   "mimetype": "text/x-python",
   "name": "python",
   "nbconvert_exporter": "python",
   "pygments_lexer": "ipython3",
   "version": "3.8.8"
  }
 },
 "nbformat": 4,
 "nbformat_minor": 1
}

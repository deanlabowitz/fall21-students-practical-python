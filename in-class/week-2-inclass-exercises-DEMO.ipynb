{
 "cells": [
  {
   "cell_type": "markdown",
   "metadata": {
    "id": "XI6zto6STb4w",
    "slideshow": {
     "slide_type": "slide"
    }
   },
   "source": [
    "# Week 2 - Flow Control"
   ]
  },
  {
   "cell_type": "markdown",
   "metadata": {
    "id": "30sMtwXFTb4x",
    "slideshow": {
     "slide_type": "slide"
    }
   },
   "source": [
    "#### The following play critical roles:  \n",
    "1. Indentation - running blocks of code.\n",
    "2. Time Delays - pacing the speed of our code.\n",
    "3. For Loops - iterating through data\n",
    "4. For Loops through multiple but related lists\n",
    "5. For Loops through Dictionaries\n",
    "6. Conditional Statements"
   ]
  },
  {
   "cell_type": "markdown",
   "metadata": {
    "id": "cIqZt8HlTb4y",
    "slideshow": {
     "slide_type": "slide"
    }
   },
   "source": [
    "## 1. Indentation\n",
    "\n",
    "* Python is unique in requiring indentations.\n",
    "* Indentations signify the start and end of code that belongs together (code blocks).\n",
    "* Without proper indentation, your code won't do what you expect.\n",
    "* Not working as expected? Check if you have indented correctly!"
   ]
  },
  {
   "cell_type": "markdown",
   "metadata": {
    "id": "lSQdSFGnTb4z",
    "slideshow": {
     "slide_type": "slide"
    }
   },
   "source": [
    "### Basic Flow Example: A Counter"
   ]
  },
  {
   "cell_type": "code",
   "execution_count": 3,
   "metadata": {
    "id": "OtxKAi18Tb4z",
    "slideshow": {
     "slide_type": "slide"
    }
   },
   "outputs": [
    {
     "name": "stdout",
     "output_type": "stream",
     "text": [
      "The count is 1\n",
      "The count is 2\n",
      "The count is 3\n",
      "The count is 4\n",
      "The count is 5\n",
      "done counting to 5\n"
     ]
    }
   ],
   "source": [
    "## Using a While loop build a counter that counts from 1 to 5.\n",
    "## Print the counter numbers in statement that reads \"The count is\" whatever the count is.\n",
    "## Once it reaches 5, it should print \"Done counting to 5!\"\n",
    "\n",
    "count = 1\n",
    "while count <=5:\n",
    "    print(f\"The count is {count}\")\n",
    "    count = count +1\n",
    "print(\"done counting to 5\")\n"
   ]
  },
  {
   "cell_type": "markdown",
   "metadata": {
    "id": "T8x4Mm-sTb43",
    "slideshow": {
     "slide_type": "slide"
    }
   },
   "source": [
    "### You just controlled flow using indentation and a while loop."
   ]
  },
  {
   "cell_type": "markdown",
   "metadata": {
    "id": "IcqF0AJRTb44",
    "slideshow": {
     "slide_type": "slide"
    }
   },
   "source": [
    "<img src=\"https://github.com/sandeepmj/fall20-student-practical-python/raw/dd310ff836feaff1c237bc12469196b9c2cc24b0/support_files/indent1.png\" style=\"width: 70%;\">"
   ]
  },
  {
   "cell_type": "markdown",
   "metadata": {
    "id": "tumkqC1VTb44",
    "slideshow": {
     "slide_type": "slide"
    }
   },
   "source": [
    "<img src=\"https://github.com/sandeepmj/fall20-student-practical-python/raw/dd310ff836feaff1c237bc12469196b9c2cc24b0/support_files/indent2.png\" style=\"width: 70%;\">"
   ]
  },
  {
   "cell_type": "markdown",
   "metadata": {
    "id": "xiJyFtVqTb45",
    "slideshow": {
     "slide_type": "slide"
    }
   },
   "source": [
    "<img src=\"https://github.com/sandeepmj/fall20-student-practical-python/raw/dd310ff836feaff1c237bc12469196b9c2cc24b0/support_files/indent3.png\" style=\"width: 70%;\">"
   ]
  },
  {
   "cell_type": "markdown",
   "metadata": {
    "id": "CSS4A88WTb46",
    "slideshow": {
     "slide_type": "slide"
    }
   },
   "source": [
    "## How fast does our code run?"
   ]
  },
  {
   "cell_type": "code",
   "execution_count": 5,
   "metadata": {
    "id": "K3qzy9sfTb46",
    "slideshow": {
     "slide_type": "slide"
    }
   },
   "outputs": [
    {
     "name": "stdout",
     "output_type": "stream",
     "text": [
      "The count is 1 and this process ran at 2021-09-13 13:59:17.292169\n",
      "The count is 2 and this process ran at 2021-09-13 13:59:17.292419\n",
      "The count is 3 and this process ran at 2021-09-13 13:59:17.292441\n",
      "The count is 4 and this process ran at 2021-09-13 13:59:17.292453\n",
      "The count is 5 and this process ran at 2021-09-13 13:59:17.292464\n",
      "Done printing to 5\n"
     ]
    }
   ],
   "source": [
    "import datetime as dt\n",
    "\n",
    "counter = 1\n",
    "while counter <6:\n",
    "    current = dt.datetime.now() # the exact current time\n",
    "    print(f\"The count is {counter} and this process ran at {current}\")\n",
    "#     counter = counter + 1\n",
    "    counter += 1\n",
    "print(\"Done printing to 5\")\n",
    "          \n",
    "\n",
    "\n"
   ]
  },
  {
   "cell_type": "markdown",
   "metadata": {
    "id": "DeNYDEZjTb49",
    "slideshow": {
     "slide_type": "slide"
    }
   },
   "source": [
    "## 2. Time Delays\n",
    "\n",
    "**Delay timers** are critical when scraping data from websites for several reasons. The **two** most important reasons are:\n",
    "\n",
    "1. Sometimes your scraper clicks on links and must wait for the content to actually populated on the new page. Your script is likely to run faster than a page can load.\n",
    "\n",
    "\n",
    "2. You don't want your scraper to be mistaken for a hostile attack on a server. You have to slow down the scrapes."
   ]
  },
  {
   "cell_type": "markdown",
   "metadata": {
    "id": "-sWBATesTb49",
    "slideshow": {
     "slide_type": "slide"
    }
   },
   "source": [
    "### Step 1 - Import required libraries"
   ]
  },
  {
   "cell_type": "code",
   "execution_count": 7,
   "metadata": {
    "id": "fkP5GwcATb4-",
    "slideshow": {
     "slide_type": "slide"
    }
   },
   "outputs": [],
   "source": [
    "import time # time is required. we will use its sleep function\n",
    "# import datetime as dt ## we already imported this earlier, but you'd need it if starting fresh"
   ]
  },
  {
   "cell_type": "markdown",
   "metadata": {
    "id": "HPIFT2o2Tb5A",
    "slideshow": {
     "slide_type": "slide"
    }
   },
   "source": [
    "#### Let's add a 5-second delay:"
   ]
  },
  {
   "cell_type": "code",
   "execution_count": 8,
   "metadata": {
    "id": "HLACyyEzTb5B",
    "scrolled": false,
    "slideshow": {
     "slide_type": "slide"
    }
   },
   "outputs": [
    {
     "name": "stdout",
     "output_type": "stream",
     "text": [
      "The count is 1 and this process ran at 2021-09-13 14:04:38.373754\n",
      "The count is 2 and this process ran at 2021-09-13 14:04:43.378471\n",
      "The count is 3 and this process ran at 2021-09-13 14:04:48.382150\n",
      "The count is 4 and this process ran at 2021-09-13 14:04:53.387505\n",
      "The count is 5 and this process ran at 2021-09-13 14:04:58.392683\n",
      "Done printing to 5\n"
     ]
    }
   ],
   "source": [
    "counter = 1\n",
    "while counter <6:\n",
    "    current = dt.datetime.now() # the exact current time\n",
    "    print(f\"The count is {counter} and this process ran at {current}\")\n",
    "#     counter = counter + 1\n",
    "    counter += 1\n",
    "    time.sleep(5)\n",
    "print(\"Done printing to 5\")"
   ]
  },
  {
   "cell_type": "markdown",
   "metadata": {
    "id": "l7yf3LbLTb5H",
    "slideshow": {
     "slide_type": "slide"
    }
   },
   "source": [
    "### Randomize\n",
    "\n",
    "Software that tracks traffic to a server might grow suspicious about a hit every nth seconds.\n",
    "\n",
    "Let's **randomize** the time between hits by using ```randint``` from the ```random``` library.\n",
    "\n",
    "\n",
    "You might sometimes see me use ```randrange``` from the ```random``` library: ``` from random import randrange```.\n",
    "\n",
    "#### What's the difference?\n",
    "\n",
    "**Difference 1**\n",
    "\n",
    "```randrange``` is exclusive of the final range value.\n",
    "\n",
    "```randint``` is inclusive of the final range value.\n",
    "\n",
    "**Difference 2**\n",
    "\n",
    "```randrange``` allows you to add a step: ```randrange(start, end, step)```\n",
    "\n",
    "```randint ``` only has start and end: ```randint(start, end)\n"
   ]
  },
  {
   "cell_type": "code",
   "execution_count": 14,
   "metadata": {
    "id": "mFonByfzTb5I",
    "slideshow": {
     "slide_type": "slide"
    }
   },
   "outputs": [
    {
     "data": {
      "text/plain": [
       "10"
      ]
     },
     "execution_count": 14,
     "metadata": {},
     "output_type": "execute_result"
    }
   ],
   "source": [
    "from random import randint # import necessary library\n",
    "\n",
    "randint(0,10)"
   ]
  },
  {
   "cell_type": "code",
   "execution_count": 43,
   "metadata": {
    "id": "U5P0r148Tb5L",
    "slideshow": {
     "slide_type": "slide"
    }
   },
   "outputs": [
    {
     "data": {
      "text/plain": [
       "9"
      ]
     },
     "execution_count": 43,
     "metadata": {},
     "output_type": "execute_result"
    }
   ],
   "source": [
    "from random import randrange ## import necessary library\n",
    "randrange(0, 10)"
   ]
  },
  {
   "cell_type": "code",
   "execution_count": 45,
   "metadata": {
    "id": "neWC6dqZTb5O",
    "slideshow": {
     "slide_type": "slide"
    }
   },
   "outputs": [
    {
     "name": "stdout",
     "output_type": "stream",
     "text": [
      "The count is 2 and this process ran at 2021-09-13 14:16:08.828190.    snooze for 4 seconds!\n",
      "The count is 3 and this process ran at 2021-09-13 14:16:12.823716.    snooze for 10 seconds!\n",
      "The count is 4 and this process ran at 2021-09-13 14:16:22.818039.    snooze for 10 seconds!\n",
      "The count is 5 and this process ran at 2021-09-13 14:16:32.818888.    snooze for 10 seconds!\n",
      "The count is 6 and this process ran at 2021-09-13 14:16:42.819294.    snooze for 7 seconds!\n",
      "Done printing to 5\n"
     ]
    }
   ],
   "source": [
    "# we've already imported random\n",
    "counter = 1\n",
    "while counter <6:\n",
    "    \n",
    "    mysnoozer = randint(4, 10)\n",
    "    current = dt.datetime.now() # the exact current time\n",
    "    print(f\"The count is {counter} and this process ran at {current}.\\\n",
    "    snooze for {mysnoozer} seconds!\")\n",
    "    counter += 1\n",
    "    \n",
    "    time.sleep(mysnoozer)\n",
    "print(\"Done printing to 5\")"
   ]
  },
  {
   "cell_type": "code",
   "execution_count": 46,
   "metadata": {
    "id": "uC3ebnq5Tb5R",
    "slideshow": {
     "slide_type": "slide"
    }
   },
   "outputs": [
    {
     "name": "stdout",
     "output_type": "stream",
     "text": [
      "Requirement already satisfied: icecream in /usr/local/anaconda3/lib/python3.8/site-packages (2.1.1)\n",
      "Requirement already satisfied: pygments>=2.2.0 in /usr/local/anaconda3/lib/python3.8/site-packages (from icecream) (2.8.1)\n",
      "Requirement already satisfied: colorama>=0.3.9 in /usr/local/anaconda3/lib/python3.8/site-packages (from icecream) (0.4.4)\n",
      "Requirement already satisfied: executing>=0.3.1 in /usr/local/anaconda3/lib/python3.8/site-packages (from icecream) (0.8.0)\n",
      "Requirement already satisfied: asttokens>=2.0.1 in /usr/local/anaconda3/lib/python3.8/site-packages (from icecream) (2.0.5)\n",
      "Requirement already satisfied: six in /usr/local/anaconda3/lib/python3.8/site-packages (from asttokens>=2.0.1->icecream) (1.15.0)\n",
      "Note: you may need to restart the kernel to use updated packages.\n"
     ]
    }
   ],
   "source": [
    "pip install icecream"
   ]
  },
  {
   "cell_type": "code",
   "execution_count": 59,
   "metadata": {},
   "outputs": [],
   "source": [
    "from icecream import ic"
   ]
  },
  {
   "cell_type": "code",
   "execution_count": 60,
   "metadata": {},
   "outputs": [],
   "source": [
    "rent = 1000\n",
    "food = 400\n",
    "expenses = rent + food"
   ]
  },
  {
   "cell_type": "code",
   "execution_count": 61,
   "metadata": {},
   "outputs": [
    {
     "name": "stdout",
     "output_type": "stream",
     "text": [
      "the total expenses is: 1400 and rent is 1000 and food is 400 \n"
     ]
    }
   ],
   "source": [
    "print(f\"the total expenses is: {expenses} and rent is {rent} and food is {food} \")"
   ]
  },
  {
   "cell_type": "code",
   "execution_count": 62,
   "metadata": {},
   "outputs": [
    {
     "name": "stderr",
     "output_type": "stream",
     "text": [
      "ic| rent: 1000\n"
     ]
    },
    {
     "data": {
      "text/plain": [
       "1000"
      ]
     },
     "execution_count": 62,
     "metadata": {},
     "output_type": "execute_result"
    }
   ],
   "source": [
    "ic(rent)"
   ]
  },
  {
   "cell_type": "code",
   "execution_count": 63,
   "metadata": {},
   "outputs": [
    {
     "name": "stderr",
     "output_type": "stream",
     "text": [
      "ic| expenses: 1400\n"
     ]
    },
    {
     "data": {
      "text/plain": [
       "1400"
      ]
     },
     "execution_count": 63,
     "metadata": {},
     "output_type": "execute_result"
    }
   ],
   "source": [
    "ic(expenses)"
   ]
  },
  {
   "cell_type": "markdown",
   "metadata": {
    "id": "pQAKnJI4Tb5T",
    "slideshow": {
     "slide_type": "slide"
    }
   },
   "source": [
    "## 3. For Loops\n",
    "\n",
    "### For Loops are your best friend - most used Python expression for journalists:\n",
    "\n",
    "### Iterate over:\n",
    "* data stored in a list and run some calculation on each value;\n",
    "* a list of URLs and visit each site to scrape data;\n",
    "* data stored in dictionary keys and values and return what you are looking for.\n"
   ]
  },
  {
   "cell_type": "markdown",
   "metadata": {
    "id": "T6xApuSYTb5U",
    "slideshow": {
     "slide_type": "slide"
    }
   },
   "source": [
    "## A simple ```for loop``` example:"
   ]
  },
  {
   "cell_type": "markdown",
   "metadata": {
    "id": "x6OkxaQUTb5U",
    "slideshow": {
     "slide_type": "slide"
    }
   },
   "source": [
    "<img src=\"https://github.com/sandeepmj/fall20-student-practical-python/raw/dd310ff836feaff1c237bc12469196b9c2cc24b0/support_files/forloop2.png\" style=\"width: 70%;\">"
   ]
  },
  {
   "cell_type": "markdown",
   "metadata": {
    "id": "e-eMP6YpTb5V",
    "slideshow": {
     "slide_type": "slide"
    }
   },
   "source": [
    "<img src=\"https://github.com/sandeepmj/fall20-student-practical-python/raw/dd310ff836feaff1c237bc12469196b9c2cc24b0/support_files/forloop3.png\" style=\"width: 70%;\">"
   ]
  },
  {
   "cell_type": "markdown",
   "metadata": {
    "id": "xpJUszsETb5V",
    "slideshow": {
     "slide_type": "slide"
    }
   },
   "source": [
    "<img src=\"https://github.com/sandeepmj/fall20-student-practical-python/raw/dd310ff836feaff1c237bc12469196b9c2cc24b0/support_files/forloop4.png\" style=\"width: 70%;\">"
   ]
  },
  {
   "cell_type": "markdown",
   "metadata": {
    "id": "9OQpneEbTb5W",
    "slideshow": {
     "slide_type": "slide"
    }
   },
   "source": [
    "<img src=\"https://github.com/sandeepmj/fall20-student-practical-python/raw/dd310ff836feaff1c237bc12469196b9c2cc24b0/support_files/forloop5.png\" style=\"width: 70%;\">"
   ]
  },
  {
   "cell_type": "markdown",
   "metadata": {
    "id": "wOdc0JjFTb5W",
    "slideshow": {
     "slide_type": "slide"
    }
   },
   "source": [
    "<img src=\"https://github.com/sandeepmj/fall20-student-practical-python/raw/dd310ff836feaff1c237bc12469196b9c2cc24b0/support_files/forloop6.png\" style=\"width: 70%;\">"
   ]
  },
  {
   "cell_type": "markdown",
   "metadata": {
    "id": "rXQeK-BBTb5X",
    "slideshow": {
     "slide_type": "slide"
    }
   },
   "source": [
    "<img src=\"https://github.com/sandeepmj/fall20-student-practical-python/raw/dd310ff836feaff1c237bc12469196b9c2cc24b0/support_files/forloop7.png\" style=\"width: 70%;\">"
   ]
  },
  {
   "cell_type": "markdown",
   "metadata": {
    "id": "YO6jmiVzTb5X",
    "slideshow": {
     "slide_type": "slide"
    }
   },
   "source": [
    "<img src=\"https://github.com/sandeepmj/fall20-student-practical-python/raw/dd310ff836feaff1c237bc12469196b9c2cc24b0/support_files/forloop8.png\" style=\"width: 70%;\">"
   ]
  },
  {
   "cell_type": "markdown",
   "metadata": {
    "id": "kA_wT38cTb5Y",
    "slideshow": {
     "slide_type": "slide"
    }
   },
   "source": [
    "<img src=\"https://github.com/sandeepmj/fall20-student-practical-python/raw/dd310ff836feaff1c237bc12469196b9c2cc24b0/support_files/forloop9.png\" style=\"width: 70%;\">"
   ]
  },
  {
   "cell_type": "markdown",
   "metadata": {
    "id": "oSTfRX1KTb5Y",
    "slideshow": {
     "slide_type": "slide"
    }
   },
   "source": [
    "<img src=\"https://github.com/sandeepmj/fall20-student-practical-python/raw/dd310ff836feaff1c237bc12469196b9c2cc24b0/support_files/forloop10.png\" style=\"width: 70%;\">"
   ]
  },
  {
   "cell_type": "markdown",
   "metadata": {
    "id": "KQ5VSmVJTb5Y",
    "slideshow": {
     "slide_type": "slide"
    }
   },
   "source": [
    "<img src=\"https://github.com/sandeepmj/fall20-student-practical-python/raw/dd310ff836feaff1c237bc12469196b9c2cc24b0/support_files/forloop11.png\" style=\"width: 70%;\">"
   ]
  },
  {
   "cell_type": "markdown",
   "metadata": {
    "id": "2s4wNTqWTb5Z",
    "slideshow": {
     "slide_type": "slide"
    }
   },
   "source": [
    "<img src=\"https://github.com/sandeepmj/fall20-student-practical-python/raw/dd310ff836feaff1c237bc12469196b9c2cc24b0/support_files/forloop12.png\" style=\"width: 70%;\">"
   ]
  },
  {
   "cell_type": "markdown",
   "metadata": {
    "id": "mtzDhlNhTb5a",
    "slideshow": {
     "slide_type": "slide"
    }
   },
   "source": [
    "## Let's take **For Loops** for test drive:"
   ]
  },
  {
   "cell_type": "code",
   "execution_count": 76,
   "metadata": {
    "id": "nUxiCM4ATb5b",
    "slideshow": {
     "slide_type": "slide"
    }
   },
   "outputs": [
    {
     "data": {
      "text/plain": [
       "[150000, 201000, 110000, 75000, 92000, 55000]"
      ]
     },
     "execution_count": 76,
     "metadata": {},
     "output_type": "execute_result"
    }
   ],
   "source": [
    "## RUN THIS CELL - Use this list of CEO salaries from 1985 \n",
    "ceo_salaries_1985 = [150_000, 201_000, 110_000, 75_000, 92_000, 55_000]\n",
    "ceo_salaries_1985"
   ]
  },
  {
   "cell_type": "code",
   "execution_count": 66,
   "metadata": {
    "id": "slKIj6I5Tb5d",
    "slideshow": {
     "slide_type": "slide"
    }
   },
   "outputs": [
    {
     "name": "stdout",
     "output_type": "stream",
     "text": [
      "A ceo earned $150,000 in 1985\n",
      "A ceo earned $201,000 in 1985\n",
      "A ceo earned $110,000 in 1985\n",
      "A ceo earned $75,000 in 1985\n",
      "A ceo earned $92,000 in 1985\n",
      "A ceo earned $55,000 in 1985\n"
     ]
    }
   ],
   "source": [
    "## Print each salary with in the following format:\n",
    "## \"A CEO earned [some value] in 1985.\"\n",
    "for each_salary in ceo_salaries_1985:\n",
    "    print(f\"A ceo earned ${each_salary:,} in 1985\")"
   ]
  },
  {
   "cell_type": "code",
   "execution_count": 74,
   "metadata": {
    "id": "of8edS6oTb5f",
    "slideshow": {
     "slide_type": "slide"
    }
   },
   "outputs": [
    {
     "name": "stdout",
     "output_type": "stream",
     "text": [
      "A CEO's salary of $150,000 in 1985 is worth $356,399    in 2019 dollars.\n",
      "A CEO's salary of $201,000 in 1985 is worth $477,575    in 2019 dollars.\n",
      "A CEO's salary of $110,000 in 1985 is worth $261,359    in 2019 dollars.\n",
      "A CEO's salary of $75,000 in 1985 is worth $178,200    in 2019 dollars.\n",
      "A CEO's salary of $92,000 in 1985 is worth $218,591    in 2019 dollars.\n",
      "A CEO's salary of $55,000 in 1985 is worth $130,680    in 2019 dollars.\n"
     ]
    }
   ],
   "source": [
    "## Now update each salary to 2019 dollars.\n",
    "## Print the following info:\n",
    "## \"A CEO's salary of [1985 salary] in 1985 is worth [updated salary] in 2019 dollars.\"\n",
    "## The CPI for 1985 is 107.6\n",
    "## The 2019 CPI is 255.657\n",
    "## The formula is: updated_salary = (oldSalary/oldCPI) * currentCPI\n",
    "salaries_2019 = []\n",
    "old_salary = [150_000, 201_000, 110_000, 75_000, 92_000, 55_000]\n",
    "for ceo in old_salary:\n",
    "    updated_salary = (ceo/107.6) * 255.657\n",
    "    print(f\"A CEO's salary of ${ceo:,} in 1985 is worth ${updated_salary:,.0f}\\\n",
    "    in 2019 dollars.\")\n",
    "    salaries_2019.append(updated_salary)"
   ]
  },
  {
   "cell_type": "code",
   "execution_count": 75,
   "metadata": {},
   "outputs": [
    {
     "data": {
      "text/plain": [
       "[356399.16356877325,\n",
       " 477574.8791821562,\n",
       " 261359.3866171004,\n",
       " 178199.58178438662,\n",
       " 218591.4869888476,\n",
       " 130679.6933085502]"
      ]
     },
     "execution_count": 75,
     "metadata": {},
     "output_type": "execute_result"
    }
   ],
   "source": [
    "salaries_2019"
   ]
  },
  {
   "cell_type": "code",
   "execution_count": 77,
   "metadata": {},
   "outputs": [
    {
     "data": {
      "text/plain": [
       "[150000, 201000, 110000, 75000, 92000, 55000]"
      ]
     },
     "execution_count": 77,
     "metadata": {},
     "output_type": "execute_result"
    }
   ],
   "source": [
    "ceo_salaries_1985"
   ]
  },
  {
   "cell_type": "code",
   "execution_count": 78,
   "metadata": {},
   "outputs": [
    {
     "data": {
      "text/plain": [
       "[356399.16356877325,\n",
       " 477574.8791821562,\n",
       " 261359.3866171004,\n",
       " 178199.58178438662,\n",
       " 218591.4869888476,\n",
       " 130679.6933085502]"
      ]
     },
     "execution_count": 78,
     "metadata": {},
     "output_type": "execute_result"
    }
   ],
   "source": [
    "sals_2019 = [(salary/107.6) * 255.657 for salary in ceo_salaries_1985]\n",
    "sals_2019"
   ]
  },
  {
   "cell_type": "markdown",
   "metadata": {
    "id": "Ha01uz9JTb5h",
    "slideshow": {
     "slide_type": "slide"
    }
   },
   "source": [
    "## 4. For Loops through multiple but related lists"
   ]
  },
  {
   "cell_type": "code",
   "execution_count": 79,
   "metadata": {
    "id": "2PRA8LoaTb5i",
    "slideshow": {
     "slide_type": "slide"
    }
   },
   "outputs": [],
   "source": [
    "##  RUN THIS CELL - You scrape a site and each datapoint is stored in different lists\n",
    "first_names = [\"Irene\", \"Ursula\", \"Elon\", \"Tim\"]\n",
    "last_names = [\"Rosenfeld\", \"Burns\", \"Musk\", \"Cook\"]\n",
    "titles = [\"Chairman and CEO\", \"Chairman and CEO\", \"CEO\", \"CEO\"]\n",
    "companies = [\"Kraft Foods\", \"Xerox\", \"Tesla\", \"Apple\"]\n",
    "industries = [\"Food and Beverage\", \"Process and Document Management\", \"Auto Manufacturing\", \"Consumer Technology\"]"
   ]
  },
  {
   "cell_type": "markdown",
   "metadata": {
    "id": "0QxLIvTmTb5k",
    "slideshow": {
     "slide_type": "slide"
    }
   },
   "source": [
    "#### Use ```zip()``` to zip lists together"
   ]
  },
  {
   "cell_type": "code",
   "execution_count": 83,
   "metadata": {
    "id": "cQeH1oC8Tb5k",
    "slideshow": {
     "slide_type": "slide"
    }
   },
   "outputs": [
    {
     "name": "stdout",
     "output_type": "stream",
     "text": [
      "('Irene', 'Rosenfeld', 'Chairman and CEO', 'Kraft Foods', 'Food and Beverage')\n",
      "<class 'tuple'>\n",
      "('Ursula', 'Burns', 'Chairman and CEO', 'Xerox', 'Process and Document Management')\n",
      "<class 'tuple'>\n",
      "('Elon', 'Musk', 'CEO', 'Tesla', 'Auto Manufacturing')\n",
      "<class 'tuple'>\n",
      "('Tim', 'Cook', 'CEO', 'Apple', 'Consumer Technology')\n",
      "<class 'tuple'>\n"
     ]
    }
   ],
   "source": [
    "## with zip\n",
    "## also print what each type of data is.\n",
    "\n",
    "ceo_list = []\n",
    "for item in zip(first_names, last_names, titles, companies, industries):\n",
    "    print(item)\n",
    "    print(type(item))\n",
    "    ceo_list.append(item)\n",
    "    "
   ]
  },
  {
   "cell_type": "code",
   "execution_count": 82,
   "metadata": {},
   "outputs": [
    {
     "data": {
      "text/plain": [
       "('Tim', 'Cook', 'CEO', 'Apple', 'Consumer Technology')"
      ]
     },
     "execution_count": 82,
     "metadata": {},
     "output_type": "execute_result"
    }
   ],
   "source": [
    "item"
   ]
  },
  {
   "cell_type": "code",
   "execution_count": 84,
   "metadata": {},
   "outputs": [
    {
     "data": {
      "text/plain": [
       "[('Irene',\n",
       "  'Rosenfeld',\n",
       "  'Chairman and CEO',\n",
       "  'Kraft Foods',\n",
       "  'Food and Beverage'),\n",
       " ('Ursula',\n",
       "  'Burns',\n",
       "  'Chairman and CEO',\n",
       "  'Xerox',\n",
       "  'Process and Document Management'),\n",
       " ('Elon', 'Musk', 'CEO', 'Tesla', 'Auto Manufacturing'),\n",
       " ('Tim', 'Cook', 'CEO', 'Apple', 'Consumer Technology')]"
      ]
     },
     "execution_count": 84,
     "metadata": {},
     "output_type": "execute_result"
    }
   ],
   "source": [
    "ceo_list"
   ]
  },
  {
   "cell_type": "code",
   "execution_count": null,
   "metadata": {
    "id": "tSDiz6mdNQM2",
    "slideshow": {
     "slide_type": "slide"
    }
   },
   "outputs": [],
   "source": [
    "## zip it and store in a list called ceo_list\n",
    "\n"
   ]
  },
  {
   "cell_type": "code",
   "execution_count": 85,
   "metadata": {
    "id": "_O9ino76NaD8",
    "slideshow": {
     "slide_type": "slide"
    }
   },
   "outputs": [
    {
     "data": {
      "text/html": [
       "<div>\n",
       "<style scoped>\n",
       "    .dataframe tbody tr th:only-of-type {\n",
       "        vertical-align: middle;\n",
       "    }\n",
       "\n",
       "    .dataframe tbody tr th {\n",
       "        vertical-align: top;\n",
       "    }\n",
       "\n",
       "    .dataframe thead th {\n",
       "        text-align: right;\n",
       "    }\n",
       "</style>\n",
       "<table border=\"1\" class=\"dataframe\">\n",
       "  <thead>\n",
       "    <tr style=\"text-align: right;\">\n",
       "      <th></th>\n",
       "      <th>first_name</th>\n",
       "      <th>last_name</th>\n",
       "      <th>title</th>\n",
       "      <th>company</th>\n",
       "      <th>industry</th>\n",
       "    </tr>\n",
       "  </thead>\n",
       "  <tbody>\n",
       "    <tr>\n",
       "      <th>0</th>\n",
       "      <td>Irene</td>\n",
       "      <td>Rosenfeld</td>\n",
       "      <td>Chairman and CEO</td>\n",
       "      <td>Kraft Foods</td>\n",
       "      <td>Food and Beverage</td>\n",
       "    </tr>\n",
       "    <tr>\n",
       "      <th>1</th>\n",
       "      <td>Ursula</td>\n",
       "      <td>Burns</td>\n",
       "      <td>Chairman and CEO</td>\n",
       "      <td>Xerox</td>\n",
       "      <td>Process and Document Management</td>\n",
       "    </tr>\n",
       "    <tr>\n",
       "      <th>2</th>\n",
       "      <td>Elon</td>\n",
       "      <td>Musk</td>\n",
       "      <td>CEO</td>\n",
       "      <td>Tesla</td>\n",
       "      <td>Auto Manufacturing</td>\n",
       "    </tr>\n",
       "    <tr>\n",
       "      <th>3</th>\n",
       "      <td>Tim</td>\n",
       "      <td>Cook</td>\n",
       "      <td>CEO</td>\n",
       "      <td>Apple</td>\n",
       "      <td>Consumer Technology</td>\n",
       "    </tr>\n",
       "  </tbody>\n",
       "</table>\n",
       "</div>"
      ],
      "text/plain": [
       "  first_name  last_name             title      company  \\\n",
       "0      Irene  Rosenfeld  Chairman and CEO  Kraft Foods   \n",
       "1     Ursula      Burns  Chairman and CEO        Xerox   \n",
       "2       Elon       Musk               CEO        Tesla   \n",
       "3        Tim       Cook               CEO        Apple   \n",
       "\n",
       "                          industry  \n",
       "0                Food and Beverage  \n",
       "1  Process and Document Management  \n",
       "2               Auto Manufacturing  \n",
       "3              Consumer Technology  "
      ]
     },
     "execution_count": 85,
     "metadata": {},
     "output_type": "execute_result"
    }
   ],
   "source": [
    "## export to a pandas dataframe\n",
    "import pandas as pd\n",
    "df = pd.DataFrame(ceo_list)\n",
    "df.columns =[\"first_name\", \"last_name\", \"title\", \"company\", \"industry\"]\n",
    "df"
   ]
  },
  {
   "cell_type": "code",
   "execution_count": 91,
   "metadata": {
    "id": "0Cd61WpFOOsW",
    "slideshow": {
     "slide_type": "slide"
    }
   },
   "outputs": [],
   "source": [
    "## export to a csv\n",
    "filename = \"ceo_bios.csv\"\n",
    "df.to_csv(filename, index = False, encoding =\"UTF-8\")"
   ]
  },
  {
   "cell_type": "code",
   "execution_count": 92,
   "metadata": {
    "id": "UFu35-VLMVOD",
    "slideshow": {
     "slide_type": "slide"
    }
   },
   "outputs": [
    {
     "data": {
      "text/html": [
       "<div>\n",
       "<style scoped>\n",
       "    .dataframe tbody tr th:only-of-type {\n",
       "        vertical-align: middle;\n",
       "    }\n",
       "\n",
       "    .dataframe tbody tr th {\n",
       "        vertical-align: top;\n",
       "    }\n",
       "\n",
       "    .dataframe thead th {\n",
       "        text-align: right;\n",
       "    }\n",
       "</style>\n",
       "<table border=\"1\" class=\"dataframe\">\n",
       "  <thead>\n",
       "    <tr style=\"text-align: right;\">\n",
       "      <th></th>\n",
       "      <th>first_name</th>\n",
       "      <th>last_name</th>\n",
       "      <th>title</th>\n",
       "      <th>company</th>\n",
       "      <th>industry</th>\n",
       "    </tr>\n",
       "  </thead>\n",
       "  <tbody>\n",
       "    <tr>\n",
       "      <th>0</th>\n",
       "      <td>Irene</td>\n",
       "      <td>Rosenfeld</td>\n",
       "      <td>Chairman and CEO</td>\n",
       "      <td>Kraft Foods</td>\n",
       "      <td>Food and Beverage</td>\n",
       "    </tr>\n",
       "    <tr>\n",
       "      <th>1</th>\n",
       "      <td>Ursula</td>\n",
       "      <td>Burns</td>\n",
       "      <td>Chairman and CEO</td>\n",
       "      <td>Xerox</td>\n",
       "      <td>Process and Document Management</td>\n",
       "    </tr>\n",
       "    <tr>\n",
       "      <th>2</th>\n",
       "      <td>Elon</td>\n",
       "      <td>Musk</td>\n",
       "      <td>CEO</td>\n",
       "      <td>Tesla</td>\n",
       "      <td>Auto Manufacturing</td>\n",
       "    </tr>\n",
       "    <tr>\n",
       "      <th>3</th>\n",
       "      <td>Tim</td>\n",
       "      <td>Cook</td>\n",
       "      <td>CEO</td>\n",
       "      <td>Apple</td>\n",
       "      <td>Consumer Technology</td>\n",
       "    </tr>\n",
       "  </tbody>\n",
       "</table>\n",
       "</div>"
      ],
      "text/plain": [
       "  first_name  last_name             title      company  \\\n",
       "0      Irene  Rosenfeld  Chairman and CEO  Kraft Foods   \n",
       "1     Ursula      Burns  Chairman and CEO        Xerox   \n",
       "2       Elon       Musk               CEO        Tesla   \n",
       "3        Tim       Cook               CEO        Apple   \n",
       "\n",
       "                          industry  \n",
       "0                Food and Beverage  \n",
       "1  Process and Document Management  \n",
       "2               Auto Manufacturing  \n",
       "3              Consumer Technology  "
      ]
     },
     "execution_count": 92,
     "metadata": {},
     "output_type": "execute_result"
    }
   ],
   "source": [
    "## recall that dictionaries are like columns and rows in a csv\n",
    "## let's turn this csv into a dataframe\n",
    "pd.read_csv(\"ceo_bios.csv\")"
   ]
  },
  {
   "cell_type": "markdown",
   "metadata": {
    "slideshow": {
     "slide_type": "slide"
    }
   },
   "source": [
    "## Turn tuples into lists \n",
    "\n",
    "\n"
   ]
  },
  {
   "cell_type": "code",
   "execution_count": 93,
   "metadata": {
    "slideshow": {
     "slide_type": "slide"
    }
   },
   "outputs": [
    {
     "name": "stdout",
     "output_type": "stream",
     "text": [
      "['Irene', 'Rosenfeld', 'Chairman and CEO', 'Kraft Foods', 'Food and Beverage']\n",
      "<class 'list'>\n",
      "['Ursula', 'Burns', 'Chairman and CEO', 'Xerox', 'Process and Document Management']\n",
      "<class 'list'>\n",
      "['Elon', 'Musk', 'CEO', 'Tesla', 'Auto Manufacturing']\n",
      "<class 'list'>\n",
      "['Tim', 'Cook', 'CEO', 'Apple', 'Consumer Technology']\n",
      "<class 'list'>\n"
     ]
    }
   ],
   "source": [
    "## zip lists into a list of lists\n",
    "ceo_list = []\n",
    "for item in zip(first_names, last_names, titles, companies, industries):\n",
    "    print(list(item))\n",
    "    print(type(list(item)))\n",
    "    ceo_list.append(list(item))"
   ]
  },
  {
   "cell_type": "markdown",
   "metadata": {
    "id": "cNeGj672Tb5r",
    "slideshow": {
     "slide_type": "slide"
    }
   },
   "source": [
    "## 5. For Loops through Dictionaries\n"
   ]
  },
  {
   "cell_type": "code",
   "execution_count": 94,
   "metadata": {
    "id": "pudFqz8pTb5s",
    "slideshow": {
     "slide_type": "slide"
    }
   },
   "outputs": [
    {
     "data": {
      "text/plain": [
       "[47000, 65000, 39000, 96000]"
      ]
     },
     "execution_count": 94,
     "metadata": {},
     "output_type": "execute_result"
    }
   ],
   "source": [
    "## You have a list of CEO salaries from 1969.\n",
    "sals_1969 = [47_000, 65_000, 39_000, 96_000]\n",
    "sals_1969"
   ]
  },
  {
   "cell_type": "code",
   "execution_count": 95,
   "metadata": {
    "id": "ytiL4ZdnTb5u",
    "slideshow": {
     "slide_type": "slide"
    }
   },
   "outputs": [
    {
     "data": {
      "text/plain": [
       "[{'year': 1979, 'cpi': 72.6},\n",
       " {'year': 1989, 'cpi': 124},\n",
       " {'year': 1999, 'cpi': 166.6},\n",
       " {'year': 2009, 'cpi': 214.537},\n",
       " {'year': 2019, 'cpi': 255.657}]"
      ]
     },
     "execution_count": 95,
     "metadata": {},
     "output_type": "execute_result"
    }
   ],
   "source": [
    "## We need the value of these salaries updated for every decade till 2019\n",
    "## Here are the CPIs for each decade in list of dictionaries from 1969 to 2019.\n",
    "\n",
    "decades_cpi = [\n",
    "   {\"year\": 1979, \"cpi\": 72.6,},\n",
    "    {\"year\": 1989, \"cpi\": 124}, \n",
    "    {\"year\": 1999, \"cpi\": 166.6},\n",
    "    {\"year\": 2009, \"cpi\": 214.537},\n",
    "    {\"year\": 2019, \"cpi\": 255.657}\n",
    "              ]\n",
    "\n",
    "## Show the contents of this list of dictionaries\n",
    "decades_cpi"
   ]
  },
  {
   "cell_type": "code",
   "execution_count": 96,
   "metadata": {
    "id": "pSz_RmzxTb5w",
    "slideshow": {
     "slide_type": "slide"
    }
   },
   "outputs": [
    {
     "data": {
      "text/plain": [
       "list"
      ]
     },
     "execution_count": 96,
     "metadata": {},
     "output_type": "execute_result"
    }
   ],
   "source": [
    "## What datatype is decades_cpi\n",
    "type(decades_cpi)"
   ]
  },
  {
   "cell_type": "code",
   "execution_count": 97,
   "metadata": {
    "id": "RuUL44n-Tb5x",
    "slideshow": {
     "slide_type": "slide"
    }
   },
   "outputs": [
    {
     "name": "stdout",
     "output_type": "stream",
     "text": [
      "<class 'dict'>\n",
      "<class 'dict'>\n",
      "<class 'dict'>\n",
      "<class 'dict'>\n",
      "<class 'dict'>\n"
     ]
    }
   ],
   "source": [
    "# Check what type of data each list item is within decades_cpi\n",
    "\n",
    "for item in decades_cpi:\n",
    "    print(type(item))"
   ]
  },
  {
   "cell_type": "code",
   "execution_count": 107,
   "metadata": {
    "id": "0WH-9ya5Tb50",
    "slideshow": {
     "slide_type": "slide"
    }
   },
   "outputs": [
    {
     "name": "stdout",
     "output_type": "stream",
     "text": [
      "year ---->1979\n",
      "cpi ---->72.6\n",
      "********\n",
      "year ---->1989\n",
      "cpi ---->124\n",
      "********\n",
      "year ---->1999\n",
      "cpi ---->166.6\n",
      "********\n",
      "year ---->2009\n",
      "cpi ---->214.537\n",
      "********\n",
      "year ---->2019\n",
      "cpi ---->255.657\n",
      "********\n"
     ]
    }
   ],
   "source": [
    "## Print out each value in this format:\n",
    "## \"key --> value\"\n",
    "decades_cpi[0]\n",
    "for decade in decades_cpi:\n",
    "#     print(decade)\n",
    "    for key, value in decade.items():\n",
    "        print(f\"{key} ---->{value}\")\n",
    "    print(\"********\")"
   ]
  },
  {
   "cell_type": "code",
   "execution_count": 110,
   "metadata": {},
   "outputs": [
    {
     "data": {
      "text/plain": [
       "255.657"
      ]
     },
     "execution_count": 110,
     "metadata": {},
     "output_type": "execute_result"
    }
   ],
   "source": [
    "value"
   ]
  },
  {
   "cell_type": "markdown",
   "metadata": {
    "id": "mT0h26qMTb52",
    "slideshow": {
     "slide_type": "slide"
    }
   },
   "source": [
    "### The key alternates between the strings \"year\" and \"cpi\" in this loop.\n",
    "\n",
    "### How do we actually target the values for \"year\" and \"cpi\" and place them in our calculations?"
   ]
  },
  {
   "cell_type": "code",
   "execution_count": 113,
   "metadata": {
    "id": "xsGsyIT_Tb53",
    "slideshow": {
     "slide_type": "slide"
    }
   },
   "outputs": [
    {
     "name": "stdout",
     "output_type": "stream",
     "text": [
      "72.6\n",
      "124\n",
      "166.6\n",
      "214.537\n",
      "255.657\n"
     ]
    }
   ],
   "source": [
    "## show it here:\n",
    "\n",
    "for decade in decades_cpi:\n",
    "    that_year = decade.get(\"year\")\n",
    "    old_cpi = decade.get(\"cpi\")\n",
    "    print(old_cpi)"
   ]
  },
  {
   "cell_type": "code",
   "execution_count": 114,
   "metadata": {},
   "outputs": [
    {
     "data": {
      "text/plain": [
       "255.657"
      ]
     },
     "execution_count": 114,
     "metadata": {},
     "output_type": "execute_result"
    }
   ],
   "source": [
    "old_cpi"
   ]
  },
  {
   "cell_type": "code",
   "execution_count": 137,
   "metadata": {},
   "outputs": [
    {
     "data": {
      "text/plain": [
       "[47000, 65000, 39000, 96000]"
      ]
     },
     "execution_count": 137,
     "metadata": {},
     "output_type": "execute_result"
    }
   ],
   "source": [
    "sals_1969"
   ]
  },
  {
   "cell_type": "code",
   "execution_count": 134,
   "metadata": {
    "id": "ff_zwjUiTb54",
    "slideshow": {
     "slide_type": "slide"
    }
   },
   "outputs": [],
   "source": [
    "## Loop through each salary and update its value for each decade\n",
    "sals_1969\n",
    "\n",
    "updated_sals = []\n",
    "   \n",
    "cpi_69 = 36.7\n",
    "## iterate through list of salaries with for loop\n",
    "for salary in sals_1969:\n",
    "    \n",
    "#     ic(salary)\n",
    "    \n",
    " ## iterate through list of dictionaries to retrive year and old cpi\n",
    "    for decade in decades_cpi:\n",
    "         \n",
    "        that_year = decade.get(\"year\")\n",
    "        old_cpi = decade.get(\"cpi\")\n",
    "#         ic(that_year)\n",
    "#         ic(old_cpi)\n",
    "        ## calc updated salary for that decade\n",
    "        updated_salary = (salary/cpi_69) * old_cpi\n",
    "#         ic(updated_salary)\n",
    "        updated_sals.append(updated_salary)"
   ]
  },
  {
   "cell_type": "code",
   "execution_count": 135,
   "metadata": {},
   "outputs": [
    {
     "data": {
      "text/plain": [
       "20"
      ]
     },
     "execution_count": 135,
     "metadata": {},
     "output_type": "execute_result"
    }
   ],
   "source": [
    "len(updated_sals)"
   ]
  },
  {
   "cell_type": "code",
   "execution_count": 136,
   "metadata": {},
   "outputs": [
    {
     "data": {
      "text/plain": [
       "[92975.47683923703,\n",
       " 158801.0899182561,\n",
       " 213356.9482288828,\n",
       " 274747.6566757493,\n",
       " 327408.14713896456,\n",
       " 128583.10626702996,\n",
       " 219618.5286103542,\n",
       " 295068.11989100813,\n",
       " 379970.1634877384,\n",
       " 452798.5013623978,\n",
       " 77149.86376021798,\n",
       " 131771.11716621253,\n",
       " 177040.8719346049,\n",
       " 227982.09809264305,\n",
       " 271679.1008174387,\n",
       " 189907.35694822887,\n",
       " 324359.67302452313,\n",
       " 435792.9155313351,\n",
       " 561186.7029972752,\n",
       " 668748.5558583107]"
      ]
     },
     "execution_count": 136,
     "metadata": {},
     "output_type": "execute_result"
    }
   ],
   "source": [
    "updated_sals"
   ]
  },
  {
   "cell_type": "markdown",
   "metadata": {
    "id": "6HUFG4qkTb56",
    "slideshow": {
     "slide_type": "slide"
    }
   },
   "source": [
    "## 6. Conditional Statements"
   ]
  },
  {
   "cell_type": "code",
   "execution_count": 11,
   "metadata": {
    "id": "x5teCnAUTb56",
    "slideshow": {
     "slide_type": "slide"
    }
   },
   "outputs": [
    {
     "data": {
      "text/plain": [
       "[14, 13, 95, 43, -13, 83, 30, 98, -9, 36]"
      ]
     },
     "execution_count": 11,
     "metadata": {},
     "output_type": "execute_result"
    }
   ],
   "source": [
    "## create a list of 10 random numbers anywhere from -100 to 100 \n",
    "##name the list numbers\n",
    "import random\n",
    "numbers = random.sample(range(-100, 101), 10)\n",
    "numbers"
   ]
  },
  {
   "cell_type": "markdown",
   "metadata": {
    "id": "GGRS_llLTb58",
    "slideshow": {
     "slide_type": "slide"
    }
   },
   "source": [
    "## Create conditional statements that tell us if the last number and the penultimate number are positive or negative.\n",
    "## Print a sentence that reads:\n",
    "```\n",
    "\"The last number [what is it?] is [positive or negative] while \n",
    " the penultimate number [what is it?] is [negative or positive].\"\n",
    "```"
   ]
  },
  {
   "cell_type": "code",
   "execution_count": 5,
   "metadata": {
    "id": "fX-0cuPsTb58",
    "slideshow": {
     "slide_type": "slide"
    }
   },
   "outputs": [
    {
     "name": "stdout",
     "output_type": "stream",
     "text": [
      "The last number -66 is negative while  the penultimate number -73 is negative.\n"
     ]
    }
   ],
   "source": [
    "## if else statements\n",
    "if numbers[-2] > 0:\n",
    "    pen_status = \"positive\"\n",
    "else: \n",
    "    pen_status = \"negative\"\n",
    "if numbers[-1] > 0:\n",
    "    last_status = \"positive\"\n",
    "else:\n",
    "    last_status = \"negative\"   \n",
    "print(f\"The last number {numbers[-1]} is {last_status} while \\\n",
    " the penultimate number {numbers[-2]} is {pen_status}.\")\n",
    "    "
   ]
  },
  {
   "cell_type": "markdown",
   "metadata": {
    "id": "rp56atTgTb5-",
    "slideshow": {
     "slide_type": "slide"
    }
   },
   "source": [
    "## Tenary Expression\n",
    "```variable = value1 if some_condition else value2```"
   ]
  },
  {
   "cell_type": "code",
   "execution_count": 12,
   "metadata": {
    "id": "cFpBA-9lTb5-",
    "slideshow": {
     "slide_type": "slide"
    }
   },
   "outputs": [
    {
     "name": "stdout",
     "output_type": "stream",
     "text": [
      "The last number 36 is positive while  the penultimate number -9 is negative.\n"
     ]
    }
   ],
   "source": [
    "## ternary expression\n",
    "# as ternary expression\n",
    "\n",
    "pen_status  = \"positive\" if numbers[-2] > 0 else \"negative\"\n",
    "last_status = \"positive\" if numbers[-1] > 0 else \"negative\"\n",
    "print(f\"The last number {numbers[-1]} is {last_status} while \\\n",
    " the penultimate number {numbers[-2]} is {pen_status}.\")"
   ]
  },
  {
   "cell_type": "markdown",
   "metadata": {
    "id": "Ce4lvFSMTb6A",
    "slideshow": {
     "slide_type": "slide"
    }
   },
   "source": [
    "## Multiple Tenary Expression\n",
    "```variable = value1 if condition1 else value2 if condition2 else value3 ```"
   ]
  },
  {
   "cell_type": "code",
   "execution_count": 13,
   "metadata": {
    "id": "EBQ9tIVuTb6A",
    "slideshow": {
     "slide_type": "slide"
    }
   },
   "outputs": [],
   "source": [
    "## A simple example\n",
    "x, y = 10, 1"
   ]
  },
  {
   "cell_type": "code",
   "execution_count": 14,
   "metadata": {
    "id": "8DBnd8e3Tb6C",
    "slideshow": {
     "slide_type": "slide"
    }
   },
   "outputs": [
    {
     "name": "stdout",
     "output_type": "stream",
     "text": [
      "10 is greater than 1\n"
     ]
    }
   ],
   "source": [
    "'''\n",
    "write a simple if else statement that prints out x is greater than y,\n",
    "or y is greater than x or if they are equal.\n",
    "'''\n",
    "if x > y:\n",
    "    print(f\"{x} is greater than {y}\")\n",
    "elif x < y:\n",
    "    print(f\"{x} is less than {y}\")\n",
    "else:\n",
    "    print(f\"{x} and {y} are equal\")"
   ]
  },
  {
   "cell_type": "code",
   "execution_count": 22,
   "metadata": {
    "id": "bDWXUD5LTb6D",
    "slideshow": {
     "slide_type": "slide"
    }
   },
   "outputs": [
    {
     "name": "stdout",
     "output_type": "stream",
     "text": [
      "x (10) is greater than y (1)\n"
     ]
    }
   ],
   "source": [
    "## Now as a ternary\n",
    "print(f\"x ({x}) is greater than y ({y})\" if x > y\\\n",
    "      else f\"x ({x}) is less than y ({y})\" if x < y\\\n",
    "      else \"x and y are equal\")"
   ]
  },
  {
   "cell_type": "markdown",
   "metadata": {
    "id": "_OWbkJiyTb6F",
    "slideshow": {
     "slide_type": "slide"
    }
   },
   "source": [
    "## Conditionals as Tuples\n",
    "\n",
    "```(\"False: Does not meet condition\", \"True: Meets condition\")[conditional expression]```"
   ]
  },
  {
   "cell_type": "code",
   "execution_count": 23,
   "metadata": {
    "id": "t7p9aifGTb6G",
    "slideshow": {
     "slide_type": "slide"
    }
   },
   "outputs": [],
   "source": [
    "age = 20"
   ]
  },
  {
   "cell_type": "code",
   "execution_count": 25,
   "metadata": {
    "id": "3Ske6RBVTb6I",
    "slideshow": {
     "slide_type": "slide"
    }
   },
   "outputs": [
    {
     "data": {
      "text/plain": [
       "'Too young to buy alcohol legally in US!'"
      ]
     },
     "execution_count": 25,
     "metadata": {},
     "output_type": "execute_result"
    }
   ],
   "source": [
    "## conditional tuple\n",
    "\n",
    "z = (\"Too young to buy alcohol legally in US!\",\n",
    "     \"Can buy alcohol legally in the uS!\")[age >= 21]\n",
    "z"
   ]
  },
  {
   "cell_type": "code",
   "execution_count": 26,
   "metadata": {},
   "outputs": [
    {
     "data": {
      "text/plain": [
       "'x 10 is greater y 1'"
      ]
     },
     "execution_count": 26,
     "metadata": {},
     "output_type": "execute_result"
    }
   ],
   "source": [
    "((f\"x, {x} is less than y {y}\",\\\n",
    " f\"x {x} is equal to y {y}\",\\\n",
    "  f\"x {x} is greater y {y}\"))[[x < y, x == y, x > y].index(True)]"
   ]
  },
  {
   "cell_type": "markdown",
   "metadata": {
    "id": "b_2lnqvQTb6K",
    "slideshow": {
     "slide_type": "slide"
    }
   },
   "source": [
    "## Challenge\n",
    "\n",
    "Write a tenary expression to update the first conditional exercise above to deal Zeros. For example if the random list generates:\n",
    "\n",
    "```[46, 30, 31, -56, 18, 57, -90, 81, 0, 0]```\n",
    "\n",
    "It should print out:\n",
    "\n",
    "```The last number (0) is neither negative or positive at zero while the penultimate number (0) is neither negative or positive at zero.```"
   ]
  },
  {
   "cell_type": "code",
   "execution_count": null,
   "metadata": {
    "id": "JjtELyU_Tb6K",
    "slideshow": {
     "slide_type": "slide"
    }
   },
   "outputs": [],
   "source": [
    "## activate the list\n",
    "numbers = [46, 30, 31, -56, 18, 57, -90, 81, 0, 0]"
   ]
  },
  {
   "cell_type": "code",
   "execution_count": null,
   "metadata": {
    "id": "uVdEBk_UTb6L",
    "slideshow": {
     "slide_type": "slide"
    }
   },
   "outputs": [],
   "source": [
    "## write your multiple ternary expression\n"
   ]
  },
  {
   "cell_type": "code",
   "execution_count": null,
   "metadata": {
    "id": "un14_R3ITb6N"
   },
   "outputs": [],
   "source": []
  }
 ],
 "metadata": {
  "celltoolbar": "Slideshow",
  "colab": {
   "collapsed_sections": [
    "T8x4Mm-sTb43",
    "T6xApuSYTb5U"
   ],
   "name": "week-2-inclass-exercises-BLANKS.ipynb",
   "provenance": [
    {
     "file_id": "1DhXxhMrJcwYydB2VNDAPReeAni-DDDHS",
     "timestamp": 1624385199338
    }
   ]
  },
  "kernelspec": {
   "display_name": "Python 3",
   "language": "python",
   "name": "python3"
  },
  "language_info": {
   "codemirror_mode": {
    "name": "ipython",
    "version": 3
   },
   "file_extension": ".py",
   "mimetype": "text/x-python",
   "name": "python",
   "nbconvert_exporter": "python",
   "pygments_lexer": "ipython3",
   "version": "3.8.8"
  }
 },
 "nbformat": 4,
 "nbformat_minor": 1
}

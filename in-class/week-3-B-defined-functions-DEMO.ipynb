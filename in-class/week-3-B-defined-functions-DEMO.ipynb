{
 "cells": [
  {
   "cell_type": "markdown",
   "metadata": {
    "id": "LqFjblutisVw"
   },
   "source": [
    "# Week 3 - Functions"
   ]
  },
  {
   "cell_type": "markdown",
   "metadata": {
    "id": "6Xl8jMnDisVx"
   },
   "source": [
    "The real power in any programming language is the **Function**.\n",
    "\n",
    "A function is:\n",
    "\n",
    "* a little block of script (one line or many) that performs specific task or a series of tasks.\n",
    "* reusable and helps us make our code DRY.\n",
    "* triggered when something \"invokes\" or \"calls\" it.\n",
    "* ideally modular – it performs a narrow task and you call several functions to perform more complex tasks.\n"
   ]
  },
  {
   "cell_type": "markdown",
   "metadata": {
    "id": "4g8iWYR2isVy"
   },
   "source": [
    "### What we'll cover today:\n",
    "\n",
    "* Simple function\n",
    "* Return statements\n",
    "\n"
   ]
  },
  {
   "cell_type": "code",
   "execution_count": null,
   "metadata": {
    "id": "Nw_oObNVisVy"
   },
   "outputs": [],
   "source": [
    "## Build a function called myFunction that adds 2 numbers together\n",
    "## it should print \"The total is (whatever the number is)!\"\n",
    "\n"
   ]
  },
  {
   "cell_type": "code",
   "execution_count": null,
   "metadata": {
    "id": "4XqKP6R3isV2"
   },
   "outputs": [],
   "source": [
    "## build it here\n",
    "\n",
    "def add_numbers(number1, number2):\n",
    "    total = number1 + number2\n",
    "    print(f\"The total is {total}\")"
   ]
  },
  {
   "cell_type": "code",
   "execution_count": null,
   "metadata": {
    "id": "tMueqLJYisV5"
   },
   "outputs": [],
   "source": [
    "## Call myFunction using 4 and 5 as the arguments\n",
    "add_numbers(4, 5)"
   ]
  },
  {
   "cell_type": "code",
   "execution_count": null,
   "metadata": {
    "id": "jp3txfRTisV-"
   },
   "outputs": [],
   "source": [
    "## Call myFunction using 10 and 2 as the arguments\n",
    "add_numbers(10, 2)"
   ]
  },
  {
   "cell_type": "code",
   "execution_count": null,
   "metadata": {},
   "outputs": [],
   "source": [
    "x, y = 10, 20\n",
    "add_numbers(x, y)"
   ]
  },
  {
   "cell_type": "code",
   "execution_count": null,
   "metadata": {},
   "outputs": [],
   "source": []
  },
  {
   "cell_type": "code",
   "execution_count": null,
   "metadata": {
    "id": "m6bmgoa5isWD"
   },
   "outputs": [],
   "source": [
    "## you might forget what arguments are needed for the function to work.\n",
    "## you can add notes that appear on shift-tab as you call the function.\n",
    "## write it here\n",
    "\n",
    "def add_numbers(number1, number2):\n",
    "    '''\n",
    "    needs 2 numbers as arguments\n",
    "    will add them together and print total\n",
    "    '''\n",
    "    total = number1 + number2\n",
    "    print(f\"The total is {total}\")\n"
   ]
  },
  {
   "cell_type": "code",
   "execution_count": null,
   "metadata": {
    "id": "5GHSN2P1isWH"
   },
   "outputs": [],
   "source": [
    "## test it on 3 and 4\n",
    "add_numbers(3, 4)"
   ]
  },
  {
   "cell_type": "markdown",
   "metadata": {
    "id": "IO8U1VBpisWL"
   },
   "source": [
    "### To use or not use functions?\n",
    "\n",
    "Let's compare the two options with a simple example:"
   ]
  },
  {
   "cell_type": "code",
   "execution_count": 18,
   "metadata": {
    "id": "pAht-66-isWL"
   },
   "outputs": [],
   "source": [
    "## You have a list of numbers. \n",
    "mylist1 = [1, -5, 22, -44.2, 33, -45]"
   ]
  },
  {
   "cell_type": "code",
   "execution_count": null,
   "metadata": {
    "id": "lzSxWxi-isWQ",
    "scrolled": true
   },
   "outputs": [],
   "source": [
    "## Turn each number into an absolute number.\n",
    "## a for loop works perfectly fine here.\n",
    "for number in mylist1:\n",
    "    print(abs(number))"
   ]
  },
  {
   "cell_type": "code",
   "execution_count": 19,
   "metadata": {
    "id": "vAQQoc4gisWT"
   },
   "outputs": [],
   "source": [
    "## The problem is that your project keeps generating more lists.\n",
    "## Each list of numbers has to be turned into absolute numbers\n",
    "mylist2 = [-56, -34, -75, -111, -22]\n",
    "mylist3 = [-100, -200, 100, -300, -100]\n",
    "mylist4 = [-23, -89, -11, -45, -27]\n",
    "mylist5 = [0, 1, 2, 3, 4, 5]"
   ]
  },
  {
   "cell_type": "code",
   "execution_count": null,
   "metadata": {},
   "outputs": [],
   "source": [
    "for number in mylist5:\n",
    "    print(abs(number))"
   ]
  },
  {
   "cell_type": "markdown",
   "metadata": {
    "id": "Bh9pG6QRisWX"
   },
   "source": [
    "## DRY\n",
    "\n",
    "\n",
    "### Do you keep writing for loops for each list?\n",
    "\n",
    "### No, that's a lot of repetition!\n",
    "### DRY stands for \"Don't Repeat Yourself\""
   ]
  },
  {
   "cell_type": "code",
   "execution_count": null,
   "metadata": {},
   "outputs": [],
   "source": [
    "for number in mylist3:\n",
    "    print(abs(number))"
   ]
  },
  {
   "cell_type": "code",
   "execution_count": null,
   "metadata": {
    "id": "cI2Yp7ouisWY"
   },
   "outputs": [],
   "source": [
    "## Instead we write a function that takes a list,\n",
    "## converts each list item to an absolute number,\n",
    "## and prints out the number\n",
    "\n",
    "def abs_vals(list_name):\n",
    "    '''\n",
    "    convert each list item into a absolute number\n",
    "    requires a list\n",
    "    '''\n",
    "    for number in list_name:\n",
    "        print(abs(number))"
   ]
  },
  {
   "cell_type": "code",
   "execution_count": null,
   "metadata": {
    "id": "Z5W8Gwc4isWb",
    "scrolled": true
   },
   "outputs": [],
   "source": [
    "## Try swapping out different lists into the function:\n",
    "abs_vals(mylist4)"
   ]
  },
  {
   "cell_type": "markdown",
   "metadata": {
    "id": "G4NOV4O0isWf"
   },
   "source": [
    "## Timesaver \n",
    "### Imagine for a moment that your editor tells you that the calculation needs to be updated. Instead of needing the absolute number, you need the absolute number minus 5.\n",
    "\n",
    "### Having used multiple for loops, you'd have to change each one. What if you miss one or two? Either way, it's a chore.\n",
    "\n",
    "### With functions, you just revise the function and the update runs everywhere.\n",
    "\n"
   ]
  },
  {
   "cell_type": "code",
   "execution_count": null,
   "metadata": {},
   "outputs": [],
   "source": [
    "def abs_vals(list_name):\n",
    "    '''\n",
    "    convert each list item into a absolute number\n",
    "    requires a list\n",
    "    '''\n",
    "    for number in list_name:\n",
    "        print(abs(number)-5)"
   ]
  },
  {
   "cell_type": "code",
   "execution_count": null,
   "metadata": {
    "id": "uhgZEHriisWg"
   },
   "outputs": [],
   "source": [
    "## So if an editor says to actually multiply the absolute number by 1_000_000,\n",
    "\n",
    "def abs_vals(list_name):\n",
    "    '''\n",
    "    convert each list item into a absolute number\n",
    "    requires a list\n",
    "    '''\n",
    "    for number in list_name:\n",
    "        print(abs(number)* 1_000_000)"
   ]
  },
  {
   "cell_type": "code",
   "execution_count": null,
   "metadata": {
    "id": "wiSG44-hisWj"
   },
   "outputs": [],
   "source": [
    "## Try swapping out different lists into the function:\n",
    "abs_vals(mylist4)"
   ]
  },
  {
   "cell_type": "markdown",
   "metadata": {
    "id": "nOEX3pEPisWn"
   },
   "source": [
    "## Return Statements\n",
    "\n",
    "### So far we have only printed out values processed by a function. \n",
    "\n",
    "### But we really want to retain the value the function creates. \n",
    "\n",
    "### We can then pass that value to other parts of our calculations and code."
   ]
  },
  {
   "cell_type": "code",
   "execution_count": null,
   "metadata": {
    "id": "vtUK3hqEisWo"
   },
   "outputs": [],
   "source": [
    "## Simple example\n",
    "## A function that adds two numbers together and prints the value:\n",
    "def add_numbers(number1, number2):\n",
    "    '''\n",
    "    needs 2 numbers as arguments\n",
    "    will add them together and print total\n",
    "    '''\n",
    "    total = number1 + number2\n",
    "    print(f\"The total is {total}\")"
   ]
  },
  {
   "cell_type": "code",
   "execution_count": null,
   "metadata": {
    "id": "NYPOUHPYisWr"
   },
   "outputs": [],
   "source": [
    "## call the function with the numbers 2 and 4\n",
    "add_numbers(2, 4)"
   ]
  },
  {
   "cell_type": "code",
   "execution_count": null,
   "metadata": {
    "id": "KW-RR26kisWu"
   },
   "outputs": [],
   "source": [
    "## let's try to save it in a variable called myCalc\n",
    "myCalc = add_numbers(2, 4)"
   ]
  },
  {
   "cell_type": "code",
   "execution_count": null,
   "metadata": {
    "id": "FAjPbbetisWw"
   },
   "outputs": [],
   "source": [
    "## Print myCalc. What does it hold?\n",
    "print(myCalc)"
   ]
  },
  {
   "cell_type": "code",
   "execution_count": null,
   "metadata": {},
   "outputs": [],
   "source": [
    "type(myCalc)"
   ]
  },
  {
   "cell_type": "markdown",
   "metadata": {
    "id": "1nWPhLX7isW0"
   },
   "source": [
    "### The return Statement"
   ]
  },
  {
   "cell_type": "code",
   "execution_count": 1,
   "metadata": {
    "id": "K8-SnWdbisW9"
   },
   "outputs": [],
   "source": [
    "## Tweak our function by adding return statement\n",
    "## instead of printing a value we want to return a value(or values).\n",
    "def add_numbers(number1, number2):\n",
    "    '''\n",
    "    needs 2 numbers as arguments\n",
    "    will add them together and print total\n",
    "    and return the total\n",
    "    '''\n",
    "    return (number1 + number2)\n",
    "    print(f\"The total is {number1} + {number2}\")\n",
    "    "
   ]
  },
  {
   "cell_type": "code",
   "execution_count": 2,
   "metadata": {
    "id": "qqHWY6hDisXA"
   },
   "outputs": [
    {
     "data": {
      "text/plain": [
       "16"
      ]
     },
     "execution_count": 2,
     "metadata": {},
     "output_type": "execute_result"
    }
   ],
   "source": [
    "## call the function add_numbers_ret \n",
    "## and store in variable called myCalc\n",
    "myCalc = add_numbers(12, 4)\n",
    "myCalc"
   ]
  },
  {
   "cell_type": "code",
   "execution_count": 3,
   "metadata": {
    "id": "fstAjEs7isXC"
   },
   "outputs": [
    {
     "data": {
      "text/plain": [
       "16"
      ]
     },
     "execution_count": 3,
     "metadata": {},
     "output_type": "execute_result"
    }
   ],
   "source": [
    "## print myCalc\n",
    "myCalc"
   ]
  },
  {
   "cell_type": "code",
   "execution_count": null,
   "metadata": {
    "id": "CEMgm7GPisXE"
   },
   "outputs": [],
   "source": [
    "## What type is myCalc?\n",
    "type(myCalc)"
   ]
  },
  {
   "cell_type": "markdown",
   "metadata": {
    "id": "AexgFVAbisXG"
   },
   "source": [
    "## Return multiple values"
   ]
  },
  {
   "cell_type": "code",
   "execution_count": 4,
   "metadata": {
    "id": "kayhb9aFisXH"
   },
   "outputs": [],
   "source": [
    "## demo function\n",
    "\n",
    "def get_person(name, age, country):\n",
    "    '''\n",
    "    takes name as string, age as int, country as string\n",
    "    returns name in allcaps, age x 100, country lowercased\n",
    "    '''\n",
    "    return name.upper(), age*100, country.lower()\n"
   ]
  },
  {
   "cell_type": "code",
   "execution_count": 14,
   "metadata": {
    "id": "QSNk1gZRisXJ"
   },
   "outputs": [],
   "source": [
    "x,y,z = get_person(\"David\", 35, \"France\")\n"
   ]
  },
  {
   "cell_type": "code",
   "execution_count": 10,
   "metadata": {},
   "outputs": [],
   "source": [
    "name, age, country = get_person(\"Olivia\", 40, \"India\")"
   ]
  },
  {
   "cell_type": "code",
   "execution_count": 15,
   "metadata": {},
   "outputs": [
    {
     "data": {
      "text/plain": [
       "'france'"
      ]
     },
     "execution_count": 15,
     "metadata": {},
     "output_type": "execute_result"
    }
   ],
   "source": [
    "z"
   ]
  },
  {
   "cell_type": "markdown",
   "metadata": {
    "id": "X6S4AmDyisXL"
   },
   "source": [
    "### Let's revise our earlier absolute values converter with a return statement\n",
    "#### Here is the earlier version:\n",
    "<img src=\"https://github.com/sandeepmj/fall20-student-practical-python/blob/master/support_files/abs-function.png?raw=true\" style=\"width: 100%;\">"
   ]
  },
  {
   "cell_type": "code",
   "execution_count": 26,
   "metadata": {
    "id": "T8659oO6isXM"
   },
   "outputs": [],
   "source": [
    "## your function returns a list of values that have been converted to absolute values\n",
    "def abs_vals(list_name):\n",
    "    '''\n",
    "    take a list, return updated list with absolute numbers\n",
    "    '''\n",
    "    absolute_list = []\n",
    "    for number in list_name:\n",
    "        absolute_list.append(abs(number))\n",
    "    return absolute_list   \n",
    "\n",
    "        \n",
    "        "
   ]
  },
  {
   "cell_type": "code",
   "execution_count": 28,
   "metadata": {
    "id": "F5zkbh9WisXQ"
   },
   "outputs": [],
   "source": [
    "## Let's actually make that a list comprehension version of the function:\n",
    "\n",
    "def abs_vals_lc(list_name):\n",
    "    '''\n",
    "    take a list, return updated list with absolute numbers\n",
    "    '''\n",
    "    return [abs(number) for number in list_name]"
   ]
  },
  {
   "cell_type": "code",
   "execution_count": 31,
   "metadata": {},
   "outputs": [
    {
     "data": {
      "text/plain": [
       "[100, 200, 100, 300, 100]"
      ]
     },
     "execution_count": 31,
     "metadata": {},
     "output_type": "execute_result"
    }
   ],
   "source": [
    "x = abs_vals_lc(mylist3)\n",
    "x"
   ]
  },
  {
   "cell_type": "code",
   "execution_count": 32,
   "metadata": {},
   "outputs": [
    {
     "data": {
      "text/plain": [
       "list"
      ]
     },
     "execution_count": 32,
     "metadata": {},
     "output_type": "execute_result"
    }
   ],
   "source": [
    "type(x)"
   ]
  },
  {
   "cell_type": "code",
   "execution_count": 27,
   "metadata": {},
   "outputs": [
    {
     "data": {
      "text/plain": [
       "[1, 5, 22, 44.2, 33, 45]"
      ]
     },
     "execution_count": 27,
     "metadata": {},
     "output_type": "execute_result"
    }
   ],
   "source": [
    "abs_vals(mylist1)"
   ]
  },
  {
   "cell_type": "code",
   "execution_count": null,
   "metadata": {
    "id": "bgutKkejisXS"
   },
   "outputs": [],
   "source": [
    "## Let's test it by storing the return value in variable x\n"
   ]
  },
  {
   "cell_type": "code",
   "execution_count": null,
   "metadata": {
    "id": "rG4DOzrtisXU"
   },
   "outputs": [],
   "source": [
    "## What type of data object is it?\n"
   ]
  },
  {
   "cell_type": "markdown",
   "metadata": {
    "id": "v-Fzlv8bisXW"
   },
   "source": [
    "# Make a function more flexible and universal\n",
    "\n",
    "* Currently, we have a function that takes ONLY a list as an argument.\n",
    "* We'd have to write another one for a single number argument."
   ]
  },
  {
   "cell_type": "code",
   "execution_count": 36,
   "metadata": {
    "id": "JuEm_at2isXX"
   },
   "outputs": [
    {
     "ename": "TypeError",
     "evalue": "'int' object is not iterable",
     "output_type": "error",
     "traceback": [
      "\u001b[0;31m---------------------------------------------------------------------------\u001b[0m",
      "\u001b[0;31mTypeError\u001b[0m                                 Traceback (most recent call last)",
      "\u001b[0;32m<ipython-input-36-51ecf362ad52>\u001b[0m in \u001b[0;36m<module>\u001b[0;34m\u001b[0m\n\u001b[1;32m      1\u001b[0m \u001b[0;31m## try using return_absolutes_lc on a single number like -10\u001b[0m\u001b[0;34m\u001b[0m\u001b[0;34m\u001b[0m\u001b[0;34m\u001b[0m\u001b[0m\n\u001b[1;32m      2\u001b[0m \u001b[0;31m## it will break\u001b[0m\u001b[0;34m\u001b[0m\u001b[0;34m\u001b[0m\u001b[0;34m\u001b[0m\u001b[0m\n\u001b[0;32m----> 3\u001b[0;31m \u001b[0mabs_vals\u001b[0m\u001b[0;34m(\u001b[0m\u001b[0;36m1\u001b[0m\u001b[0;34m)\u001b[0m\u001b[0;34m\u001b[0m\u001b[0;34m\u001b[0m\u001b[0m\n\u001b[0m",
      "\u001b[0;32m<ipython-input-26-104f83a075ac>\u001b[0m in \u001b[0;36mabs_vals\u001b[0;34m(list_name)\u001b[0m\n\u001b[1;32m      6\u001b[0m     '''\n\u001b[1;32m      7\u001b[0m     \u001b[0mabsolute_list\u001b[0m \u001b[0;34m=\u001b[0m \u001b[0;34m[\u001b[0m\u001b[0;34m]\u001b[0m\u001b[0;34m\u001b[0m\u001b[0;34m\u001b[0m\u001b[0m\n\u001b[0;32m----> 8\u001b[0;31m     \u001b[0;32mfor\u001b[0m \u001b[0mnumber\u001b[0m \u001b[0;32min\u001b[0m \u001b[0mlist_name\u001b[0m\u001b[0;34m:\u001b[0m\u001b[0;34m\u001b[0m\u001b[0;34m\u001b[0m\u001b[0m\n\u001b[0m\u001b[1;32m      9\u001b[0m         \u001b[0mabsolute_list\u001b[0m\u001b[0;34m.\u001b[0m\u001b[0mappend\u001b[0m\u001b[0;34m(\u001b[0m\u001b[0mabs\u001b[0m\u001b[0;34m(\u001b[0m\u001b[0mnumber\u001b[0m\u001b[0;34m)\u001b[0m\u001b[0;34m)\u001b[0m\u001b[0;34m\u001b[0m\u001b[0;34m\u001b[0m\u001b[0m\n\u001b[1;32m     10\u001b[0m     \u001b[0;32mreturn\u001b[0m \u001b[0mabsolute_list\u001b[0m\u001b[0;34m\u001b[0m\u001b[0;34m\u001b[0m\u001b[0m\n",
      "\u001b[0;31mTypeError\u001b[0m: 'int' object is not iterable"
     ]
    }
   ],
   "source": [
    "## try using return_absolutes_lc on a single number like -10\n",
    "## it will break\n",
    "abs_vals(1)\n"
   ]
  },
  {
   "cell_type": "code",
   "execution_count": 37,
   "metadata": {},
   "outputs": [
    {
     "data": {
      "text/plain": [
       "[1, 10, 10]"
      ]
     },
     "execution_count": 37,
     "metadata": {},
     "output_type": "execute_result"
    }
   ],
   "source": [
    "abs_vals([1, 10, -10])"
   ]
  },
  {
   "cell_type": "markdown",
   "metadata": {
    "id": "0Z17Ai35isXZ"
   },
   "source": [
    "# Universalize our absolute numbers function"
   ]
  },
  {
   "cell_type": "code",
   "execution_count": 38,
   "metadata": {
    "id": "T1RZMy6ZisXZ"
   },
   "outputs": [],
   "source": [
    "## call the function make_abs\n",
    "def make_abs(a_number):\n",
    "    return abs(a_number)\n",
    "    "
   ]
  },
  {
   "cell_type": "code",
   "execution_count": 39,
   "metadata": {
    "id": "MAGdM0l2isXc"
   },
   "outputs": [
    {
     "data": {
      "text/plain": [
       "10"
      ]
     },
     "execution_count": 39,
     "metadata": {},
     "output_type": "execute_result"
    }
   ],
   "source": [
    "## try it on -10\n",
    "make_abs(-10)"
   ]
  },
  {
   "cell_type": "code",
   "execution_count": 40,
   "metadata": {
    "id": "tYFM9eigisXe"
   },
   "outputs": [
    {
     "ename": "TypeError",
     "evalue": "bad operand type for abs(): 'list'",
     "output_type": "error",
     "traceback": [
      "\u001b[0;31m---------------------------------------------------------------------------\u001b[0m",
      "\u001b[0;31mTypeError\u001b[0m                                 Traceback (most recent call last)",
      "\u001b[0;32m<ipython-input-40-f3cf5244c04c>\u001b[0m in \u001b[0;36m<module>\u001b[0;34m\u001b[0m\n\u001b[1;32m      1\u001b[0m \u001b[0;31m## Try it on mylist3 - it will break!\u001b[0m\u001b[0;34m\u001b[0m\u001b[0;34m\u001b[0m\u001b[0;34m\u001b[0m\u001b[0m\n\u001b[0;32m----> 2\u001b[0;31m \u001b[0mmake_abs\u001b[0m\u001b[0;34m(\u001b[0m\u001b[0mmylist3\u001b[0m\u001b[0;34m)\u001b[0m\u001b[0;34m\u001b[0m\u001b[0;34m\u001b[0m\u001b[0m\n\u001b[0m",
      "\u001b[0;32m<ipython-input-38-1def4fb89e89>\u001b[0m in \u001b[0;36mmake_abs\u001b[0;34m(a_number)\u001b[0m\n\u001b[1;32m      1\u001b[0m \u001b[0;31m## call the function make_abs\u001b[0m\u001b[0;34m\u001b[0m\u001b[0;34m\u001b[0m\u001b[0;34m\u001b[0m\u001b[0m\n\u001b[1;32m      2\u001b[0m \u001b[0;32mdef\u001b[0m \u001b[0mmake_abs\u001b[0m\u001b[0;34m(\u001b[0m\u001b[0ma_number\u001b[0m\u001b[0;34m)\u001b[0m\u001b[0;34m:\u001b[0m\u001b[0;34m\u001b[0m\u001b[0;34m\u001b[0m\u001b[0m\n\u001b[0;32m----> 3\u001b[0;31m     \u001b[0;32mreturn\u001b[0m \u001b[0mabs\u001b[0m\u001b[0;34m(\u001b[0m\u001b[0ma_number\u001b[0m\u001b[0;34m)\u001b[0m\u001b[0;34m\u001b[0m\u001b[0;34m\u001b[0m\u001b[0m\n\u001b[0m\u001b[1;32m      4\u001b[0m \u001b[0;34m\u001b[0m\u001b[0m\n",
      "\u001b[0;31mTypeError\u001b[0m: bad operand type for abs(): 'list'"
     ]
    }
   ],
   "source": [
    "## Try it on mylist3 - it will break!\n",
    "make_abs(mylist3)"
   ]
  },
  {
   "cell_type": "markdown",
   "metadata": {
    "id": "XSrEIiOOisXf"
   },
   "source": [
    "## We can use the ```map()``` function to tackle this problem.\n",
    "\n",
    "```map()``` takes 2 arguments: a ```function``` and ```iterable like a list```."
   ]
  },
  {
   "cell_type": "code",
   "execution_count": 44,
   "metadata": {
    "id": "jlXq8fI2isXg"
   },
   "outputs": [
    {
     "data": {
      "text/plain": [
       "[0, 1, 2, 3, 4, 5]"
      ]
     },
     "execution_count": 44,
     "metadata": {},
     "output_type": "execute_result"
    }
   ],
   "source": [
    "## try it on make_abs and mylist3\n",
    "updated_list = list(map(make_abs, mylist5))\n",
    "updated_list"
   ]
  },
  {
   "cell_type": "code",
   "execution_count": null,
   "metadata": {
    "id": "Et9oBSbfisXi"
   },
   "outputs": [],
   "source": [
    "## save it into a list\n"
   ]
  },
  {
   "cell_type": "markdown",
   "metadata": {
    "id": "0CsViTZAisXk"
   },
   "source": [
    "## ```map()``` also works for multiple iterables\n",
    "\n",
    "#### remember our ```add_numbers_ret``` function."
   ]
  },
  {
   "cell_type": "code",
   "execution_count": 48,
   "metadata": {
    "id": "cODMzJ8IisXk"
   },
   "outputs": [],
   "source": [
    "## here it is again:\n",
    "\n",
    "def add_numbers(number1, number2):\n",
    "    return (number1 + number2)"
   ]
  },
  {
   "cell_type": "code",
   "execution_count": 49,
   "metadata": {
    "id": "amKppxB6isXn"
   },
   "outputs": [],
   "source": [
    "## two lists\n",
    "a_even = [2, 4, 6, 8]\n",
    "a_odd = [1, 3, 5, 7, 9] ## note this has one more item in the list."
   ]
  },
  {
   "cell_type": "code",
   "execution_count": 50,
   "metadata": {
    "id": "Eq6Rah9gisXp"
   },
   "outputs": [
    {
     "data": {
      "text/plain": [
       "[3, 7, 11, 15]"
      ]
     },
     "execution_count": 50,
     "metadata": {},
     "output_type": "execute_result"
    }
   ],
   "source": [
    "## run map on a_even and a_odd\n",
    "b = list(map(add_numbers, a_even, a_odd))\n",
    "b"
   ]
  },
  {
   "cell_type": "markdown",
   "metadata": {
    "id": "x9xlNCaTisXr"
   },
   "source": [
    "## Functions that call other funcions"
   ]
  },
  {
   "cell_type": "code",
   "execution_count": 51,
   "metadata": {
    "id": "46e6SsNjisXr"
   },
   "outputs": [],
   "source": [
    "## let's create a function that returns the square of a number\n",
    "def sq_me(number):\n",
    "    '''\n",
    "    takes a number, returns its square\n",
    "    '''\n",
    "#     return number * number\n",
    "#     return number**2\n",
    "    return pow(number, 2)\n"
   ]
  },
  {
   "cell_type": "code",
   "execution_count": 52,
   "metadata": {
    "id": "lXVf6yyoisXt"
   },
   "outputs": [
    {
     "data": {
      "text/plain": [
       "81"
      ]
     },
     "execution_count": 52,
     "metadata": {},
     "output_type": "execute_result"
    }
   ],
   "source": [
    "## what is 9 squared?\n",
    "sq_me(9)"
   ]
  },
  {
   "cell_type": "markdown",
   "metadata": {
    "id": "KEs8xN58isXw"
   },
   "source": [
    "### Making a point here with a simple example\n",
    "Let's say we want to add 2 numbers together and then square that result.\n",
    "Instead of writing one \"complex\" function, we can call on our modular functions."
   ]
  },
  {
   "cell_type": "code",
   "execution_count": 53,
   "metadata": {},
   "outputs": [
    {
     "data": {
      "text/plain": [
       "22"
      ]
     },
     "execution_count": 53,
     "metadata": {},
     "output_type": "execute_result"
    }
   ],
   "source": [
    "add_numbers(10, 12)"
   ]
  },
  {
   "cell_type": "code",
   "execution_count": 58,
   "metadata": {
    "id": "02MJSeJeisXw"
   },
   "outputs": [],
   "source": [
    "## a function that calls our modular functions\n",
    "\n",
    "def making_a_point(number1, number2):\n",
    "    '''\n",
    "    uses sq_me to square\n",
    "    uses add_numbers to add 2 numbers\n",
    "    '''\n",
    "    return(sq_me(add_numbers(number1, number2)))"
   ]
  },
  {
   "cell_type": "code",
   "execution_count": 59,
   "metadata": {
    "id": "-JoHUTu0isXy"
   },
   "outputs": [
    {
     "data": {
      "text/plain": [
       "49"
      ]
     },
     "execution_count": 59,
     "metadata": {},
     "output_type": "execute_result"
    }
   ],
   "source": [
    "## call make_point() on 2 and 5\n",
    "making_a_point(2,5)"
   ]
  },
  {
   "cell_type": "code",
   "execution_count": null,
   "metadata": {},
   "outputs": [],
   "source": []
  }
 ],
 "metadata": {
  "celltoolbar": "Slideshow",
  "colab": {
   "collapsed_sections": [
    "KEs8xN58isXw"
   ],
   "name": "week-3 inclass functions-BLANKS.ipynb",
   "provenance": []
  },
  "kernelspec": {
   "display_name": "Python 3",
   "language": "python",
   "name": "python3"
  },
  "language_info": {
   "codemirror_mode": {
    "name": "ipython",
    "version": 3
   },
   "file_extension": ".py",
   "mimetype": "text/x-python",
   "name": "python",
   "nbconvert_exporter": "python",
   "pygments_lexer": "ipython3",
   "version": "3.8.8"
  }
 },
 "nbformat": 4,
 "nbformat_minor": 1
}

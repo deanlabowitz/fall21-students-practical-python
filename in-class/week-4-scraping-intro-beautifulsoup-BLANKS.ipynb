{
 "cells": [
  {
   "cell_type": "code",
   "execution_count": null,
   "metadata": {},
   "outputs": [],
   "source": [
    "pip install icecream"
   ]
  },
  {
   "cell_type": "markdown",
   "metadata": {},
   "source": [
    "### We'll learn to some basic scraping techniques using this mock site <a href=\"https://sandeepmj.github.io/scrape-example-page/demo-text.html\">demo page</a>. \n",
    "\n",
    "The webpage is ```https://sandeepmj.github.io/scrape-example-page/demo-text.html```"
   ]
  },
  {
   "cell_type": "markdown",
   "metadata": {},
   "source": [
    "### All web scraping requires a little sleuthing:\n",
    "\n",
    "* Where and how is the content held on the page?\n",
    "* How can we access it?\n",
    "* Is there a pattern?\n",
    "* Is there anything that breaks the pattern?"
   ]
  },
  {
   "cell_type": "code",
   "execution_count": null,
   "metadata": {},
   "outputs": [],
   "source": [
    "## import library\n",
    "from bs4 import BeautifulSoup ## package to parse HTML and XML\n",
    "import icecream as ic ## for debugging\n",
    "import requests ## The most widely downloaded package - captures content from web\n"
   ]
  },
  {
   "cell_type": "code",
   "execution_count": null,
   "metadata": {},
   "outputs": [],
   "source": [
    "## Requesting web content\n",
    "\n",
    "##scrape url website\n"
   ]
  },
  {
   "cell_type": "code",
   "execution_count": null,
   "metadata": {},
   "outputs": [],
   "source": [
    "## did it work?\n"
   ]
  },
  {
   "cell_type": "code",
   "execution_count": null,
   "metadata": {},
   "outputs": [],
   "source": [
    "## what type of object did we capture?\n"
   ]
  },
  {
   "cell_type": "markdown",
   "metadata": {},
   "source": [
    "## Pull out what we want using\n",
    "\n",
    "- ```response.text``` for string content like HTML, XML etc.\n",
    "- ```response.content``` for binary content like PDFs, images, etc."
   ]
  },
  {
   "cell_type": "code",
   "execution_count": null,
   "metadata": {},
   "outputs": [],
   "source": [
    "## what object does it return\n"
   ]
  },
  {
   "cell_type": "markdown",
   "metadata": {},
   "source": [
    "## Create a BeautifulSoup object\n",
    "<img src=\"img/bs-soup.png\">"
   ]
  },
  {
   "cell_type": "code",
   "execution_count": null,
   "metadata": {},
   "outputs": [],
   "source": [
    "## we add name of our file\n"
   ]
  },
  {
   "cell_type": "code",
   "execution_count": null,
   "metadata": {},
   "outputs": [],
   "source": [
    "## prettify our printout\n"
   ]
  },
  {
   "cell_type": "code",
   "execution_count": null,
   "metadata": {},
   "outputs": [],
   "source": [
    "## What type of file is it?\n"
   ]
  },
  {
   "cell_type": "code",
   "execution_count": null,
   "metadata": {},
   "outputs": [],
   "source": [
    "## get title of page\n"
   ]
  },
  {
   "cell_type": "code",
   "execution_count": null,
   "metadata": {},
   "outputs": [],
   "source": [
    "## What about the h1 tag with the class of title? \n",
    "## How can we have two titles?\n",
    "\n"
   ]
  },
  {
   "cell_type": "markdown",
   "metadata": {},
   "source": [
    "### string v. get_text()\n",
    "\n",
    "In most cases, our final step in a scrape is to convert everything to a string. We don't want all the html. \n",
    "\n",
    "We can use ```.string``` or ```get_text().```\n",
    "\n",
    "- ```get_text()``` is far more powerful because you can add parameters to strip, specify separators, etc.\n",
    "\n",
    "I **only** use ```get_text()```.\n"
   ]
  },
  {
   "cell_type": "code",
   "execution_count": null,
   "metadata": {},
   "outputs": [],
   "source": [
    "## return just a string of the tag:\n"
   ]
  },
  {
   "cell_type": "code",
   "execution_count": null,
   "metadata": {},
   "outputs": [],
   "source": [
    "## get only title text and not html\n"
   ]
  },
  {
   "cell_type": "code",
   "execution_count": null,
   "metadata": {},
   "outputs": [],
   "source": [
    "## use string on soup (returns nothing)\n"
   ]
  },
  {
   "cell_type": "code",
   "execution_count": null,
   "metadata": {},
   "outputs": [],
   "source": [
    "## get text from soup\n"
   ]
  },
  {
   "cell_type": "code",
   "execution_count": null,
   "metadata": {},
   "outputs": [],
   "source": [
    "## get rid of weird characters\n"
   ]
  },
  {
   "cell_type": "code",
   "execution_count": null,
   "metadata": {},
   "outputs": [],
   "source": [
    "## get p tag text\n"
   ]
  },
  {
   "cell_type": "markdown",
   "metadata": {},
   "source": [
    "# Targeting content\n",
    "\n"
   ]
  },
  {
   "cell_type": "markdown",
   "metadata": {},
   "source": [
    "## Searching for IDs\n",
    "\n",
    "```soup(id=\"ID_name\")```"
   ]
  },
  {
   "cell_type": "code",
   "execution_count": null,
   "metadata": {},
   "outputs": [],
   "source": [
    "## SEARCH BY ID for \"animal1\"\n"
   ]
  },
  {
   "cell_type": "code",
   "execution_count": null,
   "metadata": {},
   "outputs": [],
   "source": [
    "## SEARCH BY ID for \"plant1\"\n"
   ]
  },
  {
   "cell_type": "markdown",
   "metadata": {},
   "source": [
    "## Finding ```class```\n",
    "\n",
    "Let's say we want to find the ```p tag``` content for the ```article class``` \n",
    "\n",
    "```find()``` returns the first occurence of any item you are searching for.\n",
    "\n",
    "There are three ways to target our content but only Method 3 is the correct way\n",
    "\n",
    "\n"
   ]
  },
  {
   "cell_type": "code",
   "execution_count": null,
   "metadata": {},
   "outputs": [],
   "source": [
    "## a wide net is not best\n"
   ]
  },
  {
   "cell_type": "markdown",
   "metadata": {},
   "source": [
    "### Method 1. Target the tag only.\n",
    "\n",
    "```soup.find(\"tag_name\")```\n"
   ]
  },
  {
   "cell_type": "code",
   "execution_count": null,
   "metadata": {},
   "outputs": [],
   "source": [
    "## simple but without precision\n",
    "## still too wide a net\n"
   ]
  },
  {
   "cell_type": "markdown",
   "metadata": {},
   "source": [
    "### Method 2. Target the class only\n",
    "\n",
    "\n",
    "\n",
    "\n",
    "- Use ```soup.find(class_=\"class_name\"``` to be clear what class we are looking for.\n",
    "- ```class_``` is not Python or BeautifulSoup. It is simply there to tell us we are looking for a ```class```. Because ```class``` (a type of data) is a Python reserved word, we add the ```_``` to tell us we are referring to an ```HTML class```.\n"
   ]
  },
  {
   "cell_type": "code",
   "execution_count": null,
   "metadata": {},
   "outputs": [],
   "source": [
    "# find the first p tag with the class \"article\"\n",
    "## this is still too wide\n"
   ]
  },
  {
   "cell_type": "markdown",
   "metadata": {},
   "source": [
    "### Method 3. Precision, clarity and simplicity\n",
    "\n",
    "In the previous example, we could have run into trouble in case the ```class = \"article\"``` applied to multiple tags.\n",
    "\n",
    "- Use the ```tag``` and the ```class``` to add precision, clarity and simplicity.\n",
    "\n",
    "```soup.find(\"tag_name\", class_=\"class_name\")```"
   ]
  },
  {
   "cell_type": "code",
   "execution_count": null,
   "metadata": {},
   "outputs": [],
   "source": [
    "# find the first p tag with the class \"article\"\n"
   ]
  },
  {
   "cell_type": "markdown",
   "metadata": {},
   "source": [
    "## ```find_all``` tags, classes\n",
    "\n",
    "- ```find_all``` is **the most widely** used BeautifulSoup command.\n",
    "- Unlike ```find``` it returns **ALL** occurences of a class or tag.\n",
    "- Remember ```find``` returns just the first occurence.\n",
    "- ```soup.find_all(\"tag_name\", class_=\"class_name\")```\n",
    "- It returns all occurences in a **```beautifulSoup object```** that is similiar to a **```list```**."
   ]
  },
  {
   "cell_type": "code",
   "execution_count": null,
   "metadata": {},
   "outputs": [],
   "source": [
    "## Return all p tag content with the class \"article\"\n"
   ]
  },
  {
   "cell_type": "code",
   "execution_count": null,
   "metadata": {},
   "outputs": [],
   "source": [
    "## what type of object is returned\n"
   ]
  },
  {
   "cell_type": "code",
   "execution_count": null,
   "metadata": {},
   "outputs": [],
   "source": [
    "## Return all all content in the sections with the main class\n"
   ]
  },
  {
   "cell_type": "code",
   "execution_count": null,
   "metadata": {},
   "outputs": [],
   "source": [
    "## how many items are in this object\n"
   ]
  },
  {
   "cell_type": "code",
   "execution_count": null,
   "metadata": {},
   "outputs": [],
   "source": [
    "## how many items are there if we targeted only the tag \"section\"\n"
   ]
  },
  {
   "cell_type": "markdown",
   "metadata": {},
   "source": [
    "### Find all life forms on the page"
   ]
  },
  {
   "cell_type": "code",
   "execution_count": null,
   "metadata": {},
   "outputs": [],
   "source": [
    "## code it here\n"
   ]
  },
  {
   "cell_type": "markdown",
   "metadata": {},
   "source": [
    "## The old ways\n",
    "\n",
    "Earlier versions of BeautifulSoup did not use the ```class_``` notation. They used:\n",
    "\n",
    "```soup.find_all(\"tag\", {\"class\": \"class_name\"})```\n",
    "\n",
    "and ever older way:\n",
    "\n",
    "```soup.find_all(\"tag\", attrs={\"class\": \"class_name\"})```\n",
    "\n",
    "FYI since you might still encounter these in your stacking.\n",
    "\n",
    "To recap, the most current/modern way is:\n",
    "\n",
    "```soup.find_all(\"tag_name\", class_=\"class_name\")```"
   ]
  },
  {
   "cell_type": "markdown",
   "metadata": {},
   "source": [
    "# Excluding classes\n",
    "\n",
    "Most modern sites have tags that include multiple classes. \n",
    "\n",
    "What if you want to target a tag with a single class but that class also appears in tags with others that holds other types of content.\n",
    "\n",
    "For example, target the ```animals``` class tag that does not also have the ```life``` class.\n",
    "\n",
    "In this case we use ```.select``` which looks for that tag by itself.\n",
    "\n",
    "```soup.select('[class=\"class_name\"]')```\n"
   ]
  },
  {
   "cell_type": "code",
   "execution_count": null,
   "metadata": {},
   "outputs": [],
   "source": [
    "'''\n",
    "if use find_all to look for the class animals\n",
    "it turns all animals class, along with life class\n",
    "'''\n",
    "\n"
   ]
  },
  {
   "cell_type": "code",
   "execution_count": null,
   "metadata": {},
   "outputs": [],
   "source": [
    "## write code here\n",
    "\n"
   ]
  },
  {
   "cell_type": "markdown",
   "metadata": {},
   "source": [
    "## Storing values\n",
    "\n",
    "We haven't been saving in values in memory. \n"
   ]
  },
  {
   "cell_type": "code",
   "execution_count": null,
   "metadata": {},
   "outputs": [],
   "source": [
    "## Again, save all lifeforms in a object called lifeforms\n"
   ]
  },
  {
   "cell_type": "code",
   "execution_count": null,
   "metadata": {},
   "outputs": [],
   "source": [
    "## what kind of object it it?\n"
   ]
  },
  {
   "cell_type": "markdown",
   "metadata": {},
   "source": [
    "### Print lifeforms. Does it look familiar?"
   ]
  },
  {
   "cell_type": "code",
   "execution_count": null,
   "metadata": {},
   "outputs": [],
   "source": [
    "## print lifeforms\n"
   ]
  },
  {
   "cell_type": "code",
   "execution_count": null,
   "metadata": {},
   "outputs": [],
   "source": [
    "## print it out with a break between each\n",
    "for life in lifeforms:\n",
    "    print(life)\n",
    "    print(\"************\")"
   ]
  },
  {
   "cell_type": "markdown",
   "metadata": {},
   "source": [
    "### You can't just get the text for the lifeforms.\n",
    "### Why? You can't call ```.get_text()``` on a ```<class 'bs4.element.ResultSet'>``` object.\n"
   ]
  },
  {
   "cell_type": "code",
   "execution_count": null,
   "metadata": {},
   "outputs": [],
   "source": [
    "## try it\n"
   ]
  },
  {
   "cell_type": "markdown",
   "metadata": {},
   "source": [
    "## Instead, iterate through and work on each item in the list whic in this case is a ```<class 'bs4.element.Tag'>```"
   ]
  },
  {
   "cell_type": "code",
   "execution_count": null,
   "metadata": {},
   "outputs": [],
   "source": [
    "## see type of object\n"
   ]
  },
  {
   "cell_type": "code",
   "execution_count": null,
   "metadata": {},
   "outputs": [],
   "source": [
    "## just the text, no html\n",
    "## Using for loop\n",
    "  "
   ]
  },
  {
   "cell_type": "code",
   "execution_count": null,
   "metadata": {},
   "outputs": [],
   "source": [
    "## just the text, no html\n",
    "## Using for list comprehension\n",
    "\n"
   ]
  },
  {
   "cell_type": "markdown",
   "metadata": {},
   "source": [
    "## Get the urls for each"
   ]
  },
  {
   "cell_type": "code",
   "execution_count": null,
   "metadata": {},
   "outputs": [],
   "source": [
    "## use for loop\n",
    "\n",
    "    \n"
   ]
  },
  {
   "cell_type": "code",
   "execution_count": null,
   "metadata": {},
   "outputs": [],
   "source": [
    "# using list comprehension\n",
    "\n"
   ]
  },
  {
   "cell_type": "markdown",
   "metadata": {},
   "source": [
    "## Cost\n",
    "\n",
    "Let's grab the cost\n",
    "\n",
    "How do we target the cost?"
   ]
  },
  {
   "cell_type": "code",
   "execution_count": null,
   "metadata": {},
   "outputs": [],
   "source": [
    "## A wide target:\n"
   ]
  },
  {
   "cell_type": "code",
   "execution_count": null,
   "metadata": {},
   "outputs": [],
   "source": [
    "## narrow the target\n"
   ]
  },
  {
   "cell_type": "code",
   "execution_count": null,
   "metadata": {},
   "outputs": [],
   "source": [
    "## using for loop\n"
   ]
  },
  {
   "cell_type": "code",
   "execution_count": null,
   "metadata": {},
   "outputs": [],
   "source": [
    "## using list comprehension\n"
   ]
  },
  {
   "cell_type": "code",
   "execution_count": null,
   "metadata": {},
   "outputs": [],
   "source": [
    "## in your function to clean string values\n",
    "def clean_numbers(some_string_number):\n",
    "  '''\n",
    "  Enter a number or a list of numbers. \n",
    "  The items can be strings, integers, floats or a mix of all. \n",
    "  I will convert it to an integer.\n",
    "  '''\n",
    "  if isinstance(some_string_number, str): \n",
    "    amount = round(float(some_string_number.replace(\"$\",\"\").replace(\",\",\"\")))\n",
    "\n",
    "  else:\n",
    "    amount = round(float(some_string_number))\n",
    "\n",
    "  return amount"
   ]
  },
  {
   "cell_type": "code",
   "execution_count": null,
   "metadata": {},
   "outputs": [],
   "source": [
    "## final cost\n"
   ]
  },
  {
   "cell_type": "markdown",
   "metadata": {},
   "source": [
    "## Prepare to Export\n",
    "\n",
    "You now have one list that holds the name of the lifeform and another that holds the related URL.\n",
    "\n",
    "Let's create a dict call ```life_dict```.\n",
    "\n",
    "Keys are name and url...values are the related values\n"
   ]
  },
  {
   "cell_type": "code",
   "execution_count": null,
   "metadata": {},
   "outputs": [],
   "source": [
    "## create it here"
   ]
  },
  {
   "cell_type": "markdown",
   "metadata": {},
   "source": [
    "## Export as CSV\n",
    "\n",
    "We'll use Pandas to export our data to an external file.\n",
    "\n",
    "We'll cover this in more detail soon, but for now here it is:"
   ]
  },
  {
   "cell_type": "code",
   "execution_count": null,
   "metadata": {},
   "outputs": [],
   "source": [
    "## import pandas\n",
    "import pandas as pd"
   ]
  },
  {
   "cell_type": "code",
   "execution_count": null,
   "metadata": {},
   "outputs": [],
   "source": [
    "## use pandas to write to csv file\n"
   ]
  },
  {
   "cell_type": "markdown",
   "metadata": {},
   "source": [
    "# BeautifulSoup\n",
    "\n",
    "We covered some basic BeautifulSoup functionality:\n",
    "\n",
    "- Remember ```soup``` is just a term we use to store an entire webpage or file. We could call it anything we want.\n",
    "- Searching by ```tags``` like ```title```, ```h1```, ```span``` etc.\n",
    "- Searching by ```class``` or ```id```\n",
    "- Finding all occurences of an item using ```find_all()```\n",
    "- Finding the first occurence of an item using ```find()```\n",
    "- Removing the html and returning just the string by using ```.string``` or ```get_text()```\n",
    "- Grabbing just the URL(s) using ```get(\"href\")```\n",
    "\n",
    "These are the most frequently used BeautifulSoup functions. You can [find many more](https://www.crummy.com/software/BeautifulSoup/bs4/doc/#) in the documentation. \n"
   ]
  }
 ],
 "metadata": {
  "kernelspec": {
   "display_name": "Python 3",
   "language": "python",
   "name": "python3"
  },
  "language_info": {
   "codemirror_mode": {
    "name": "ipython",
    "version": 3
   },
   "file_extension": ".py",
   "mimetype": "text/x-python",
   "name": "python",
   "nbconvert_exporter": "python",
   "pygments_lexer": "ipython3",
   "version": "3.8.8"
  }
 },
 "nbformat": 4,
 "nbformat_minor": 4
}

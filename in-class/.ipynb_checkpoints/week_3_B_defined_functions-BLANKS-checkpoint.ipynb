{
 "cells": [
  {
   "cell_type": "markdown",
   "metadata": {
    "id": "LqFjblutisVw"
   },
   "source": [
    "# Week 3 - Functions"
   ]
  },
  {
   "cell_type": "markdown",
   "metadata": {
    "id": "6Xl8jMnDisVx"
   },
   "source": [
    "The real power in any programming language is the **Function**.\n",
    "\n",
    "A function is:\n",
    "\n",
    "* a little block of script (one line or many) that performs specific task or a series of tasks.\n",
    "* reusable and helps us make our code DRY.\n",
    "* triggered when something \"invokes\" or \"calls\" it.\n",
    "* ideally modular – it performs a narrow task and you call several functions to perform more complex tasks.\n"
   ]
  },
  {
   "cell_type": "markdown",
   "metadata": {
    "id": "4g8iWYR2isVy"
   },
   "source": [
    "### What we'll cover today:\n",
    "\n",
    "* Simple function\n",
    "* Return statements\n",
    "*\n"
   ]
  },
  {
   "cell_type": "code",
   "execution_count": null,
   "metadata": {
    "id": "Nw_oObNVisVy"
   },
   "outputs": [],
   "source": [
    "## Build a function called myFunction that adds 2 numbers together\n",
    "## it should print \"The total is (whatever the number is)!\""
   ]
  },
  {
   "cell_type": "code",
   "execution_count": null,
   "metadata": {
    "id": "4XqKP6R3isV2"
   },
   "outputs": [],
   "source": [
    "## build it here\n",
    "\n"
   ]
  },
  {
   "cell_type": "code",
   "execution_count": null,
   "metadata": {
    "id": "tMueqLJYisV5"
   },
   "outputs": [],
   "source": [
    "## Call myFunction using 4 and 5 as the arguments\n"
   ]
  },
  {
   "cell_type": "code",
   "execution_count": null,
   "metadata": {
    "id": "jp3txfRTisV-"
   },
   "outputs": [],
   "source": [
    "## Call myFunction using 10 and 2 as the arguments\n"
   ]
  },
  {
   "cell_type": "code",
   "execution_count": null,
   "metadata": {
    "id": "m6bmgoa5isWD"
   },
   "outputs": [],
   "source": [
    "## you might forget what arguments are needed for the function to work.\n",
    "## you can add notes that appear on shift-tab as you call the function.\n",
    "## write it here\n"
   ]
  },
  {
   "cell_type": "code",
   "execution_count": null,
   "metadata": {
    "id": "5GHSN2P1isWH"
   },
   "outputs": [],
   "source": [
    "## test it on 3 and 4\n"
   ]
  },
  {
   "cell_type": "markdown",
   "metadata": {
    "id": "IO8U1VBpisWL"
   },
   "source": [
    "### To use or not use functions?\n",
    "\n",
    "Let's compare the two options with a simple example:"
   ]
  },
  {
   "cell_type": "code",
   "execution_count": null,
   "metadata": {
    "id": "pAht-66-isWL"
   },
   "outputs": [],
   "source": [
    "## You have a list of numbers. \n",
    "mylist1 = [1, -5, 22, -44.2, 33, -45]"
   ]
  },
  {
   "cell_type": "code",
   "execution_count": null,
   "metadata": {
    "id": "lzSxWxi-isWQ",
    "scrolled": true
   },
   "outputs": [],
   "source": [
    "## Turn each number into an absolute number.\n",
    "## a for loop works perfectly fine here.\n"
   ]
  },
  {
   "cell_type": "code",
   "execution_count": null,
   "metadata": {
    "id": "vAQQoc4gisWT"
   },
   "outputs": [],
   "source": [
    "## The problem is that your project keeps generating more lists.\n",
    "## Each list of numbers has to be turned into absolute numbers\n",
    "mylist2 = [-56, -34, -75, -111, -22]\n",
    "mylist3 = [-100, -200, 100, -300, -100]\n",
    "mylist4 = [-23, -89, -11, -45, -27]\n",
    "mylist5 = [0, 1, 2, 3, 4, 5]"
   ]
  },
  {
   "cell_type": "markdown",
   "metadata": {
    "id": "Bh9pG6QRisWX"
   },
   "source": [
    "## DRY\n",
    "\n",
    "\n",
    "### Do you keep writing for loops for each list?\n",
    "\n",
    "### No, that's a lot of repetition!\n",
    "### DRY stands for \"Don't Repeat Yourself\""
   ]
  },
  {
   "cell_type": "code",
   "execution_count": null,
   "metadata": {
    "id": "cI2Yp7ouisWY"
   },
   "outputs": [],
   "source": [
    "## Instead we write a function that takes a list,\n",
    "## converts each list item to an absolute number,\n",
    "## and prints out the number\n",
    "\n"
   ]
  },
  {
   "cell_type": "code",
   "execution_count": null,
   "metadata": {
    "id": "Z5W8Gwc4isWb"
   },
   "outputs": [],
   "source": [
    "## Try swapping out different lists into the function:\n"
   ]
  },
  {
   "cell_type": "markdown",
   "metadata": {
    "id": "G4NOV4O0isWf"
   },
   "source": [
    "## Timesaver \n",
    "### Imagine for a moment that your editor tells you that the calculation needs to be updated. Instead of needing the absolute number, you need the absolute number minus 5.\n",
    "\n",
    "### Having used multiple for loops, you'd have to change each one. What if you miss one or two? Either way, it's a chore.\n",
    "\n",
    "### With functions, you just revise the function and the update runs everywhere.\n",
    "\n"
   ]
  },
  {
   "cell_type": "code",
   "execution_count": null,
   "metadata": {
    "id": "uhgZEHriisWg"
   },
   "outputs": [],
   "source": [
    "## So if an editor says to actually multiply the absolute number by 1_000_000,\n",
    "\n"
   ]
  },
  {
   "cell_type": "code",
   "execution_count": null,
   "metadata": {
    "id": "wiSG44-hisWj"
   },
   "outputs": [],
   "source": [
    "## Try swapping out different lists into the function:\n"
   ]
  },
  {
   "cell_type": "markdown",
   "metadata": {
    "id": "nOEX3pEPisWn"
   },
   "source": [
    "## Return Statements\n",
    "\n",
    "### So far we have only printed out values processed by a function. \n",
    "\n",
    "### But we really want to retain the value the function creates. \n",
    "\n",
    "### We can then pass that value to other parts of our calculations and code."
   ]
  },
  {
   "cell_type": "code",
   "execution_count": null,
   "metadata": {
    "id": "vtUK3hqEisWo"
   },
   "outputs": [],
   "source": [
    "## Simple example\n",
    "## A function that adds two numbers together and prints the value:\n"
   ]
  },
  {
   "cell_type": "code",
   "execution_count": null,
   "metadata": {
    "id": "NYPOUHPYisWr"
   },
   "outputs": [],
   "source": [
    "## call the function with the numbers 2 and 4\n"
   ]
  },
  {
   "cell_type": "code",
   "execution_count": null,
   "metadata": {
    "id": "KW-RR26kisWu"
   },
   "outputs": [],
   "source": [
    "## let's try to save it in a variable called myCalc\n"
   ]
  },
  {
   "cell_type": "code",
   "execution_count": null,
   "metadata": {
    "id": "FAjPbbetisWw"
   },
   "outputs": [],
   "source": [
    "## Print myCalc. What does it hold?\n"
   ]
  },
  {
   "cell_type": "markdown",
   "metadata": {
    "id": "1nWPhLX7isW0"
   },
   "source": [
    "### The return Statement"
   ]
  },
  {
   "cell_type": "code",
   "execution_count": null,
   "metadata": {
    "id": "K8-SnWdbisW9"
   },
   "outputs": [],
   "source": [
    "## Tweak our function by adding return statement\n",
    "## instead of printing a value we want to return a value(or values).\n"
   ]
  },
  {
   "cell_type": "code",
   "execution_count": null,
   "metadata": {
    "id": "qqHWY6hDisXA"
   },
   "outputs": [],
   "source": [
    "## call the function add_numbers_ret \n",
    "## and store in variable called myCalc\n"
   ]
  },
  {
   "cell_type": "code",
   "execution_count": null,
   "metadata": {
    "id": "fstAjEs7isXC"
   },
   "outputs": [],
   "source": [
    "## print myCalc\n"
   ]
  },
  {
   "cell_type": "code",
   "execution_count": null,
   "metadata": {
    "id": "CEMgm7GPisXE"
   },
   "outputs": [],
   "source": [
    "## What type is myCalc?\n"
   ]
  },
  {
   "cell_type": "markdown",
   "metadata": {
    "id": "AexgFVAbisXG"
   },
   "source": [
    "## Return multiple values"
   ]
  },
  {
   "cell_type": "code",
   "execution_count": null,
   "metadata": {
    "id": "kayhb9aFisXH"
   },
   "outputs": [],
   "source": [
    "## demo function\n",
    "\n",
    "\n"
   ]
  },
  {
   "cell_type": "code",
   "execution_count": null,
   "metadata": {
    "id": "QSNk1gZRisXJ"
   },
   "outputs": [],
   "source": [
    "name,age,country = getPerson(\"David\", 35, \"France\")\n"
   ]
  },
  {
   "cell_type": "markdown",
   "metadata": {
    "id": "X6S4AmDyisXL"
   },
   "source": [
    "### Let's revise our earlier absolute values converter with a return statement\n",
    "#### Here is the earlier version:\n",
    "<img src=\"https://github.com/sandeepmj/fall20-student-practical-python/blob/master/support_files/abs-function.png?raw=true\" style=\"width: 100%;\">"
   ]
  },
  {
   "cell_type": "code",
   "execution_count": null,
   "metadata": {
    "id": "T8659oO6isXM"
   },
   "outputs": [],
   "source": [
    "## Here it is revised with a return statement\n",
    "\n",
    "        \n",
    "        \n",
    "        "
   ]
  },
  {
   "cell_type": "code",
   "execution_count": null,
   "metadata": {
    "id": "F5zkbh9WisXQ"
   },
   "outputs": [],
   "source": [
    "## Let's actually make that a list comprehension version of the function:\n"
   ]
  },
  {
   "cell_type": "code",
   "execution_count": null,
   "metadata": {
    "id": "bgutKkejisXS"
   },
   "outputs": [],
   "source": [
    "## Let's test it by storing the return value in variable x\n"
   ]
  },
  {
   "cell_type": "code",
   "execution_count": null,
   "metadata": {
    "id": "rG4DOzrtisXU"
   },
   "outputs": [],
   "source": [
    "## What type of data object is it?\n"
   ]
  },
  {
   "cell_type": "markdown",
   "metadata": {
    "id": "v-Fzlv8bisXW"
   },
   "source": [
    "# Make a function more flexible and universal\n",
    "\n",
    "* Currently, we have a function that takes ONLY a list as an argument.\n",
    "* We'd have to write another one for a single number argument."
   ]
  },
  {
   "cell_type": "code",
   "execution_count": null,
   "metadata": {
    "id": "JuEm_at2isXX"
   },
   "outputs": [],
   "source": [
    "## try using return_absolutes_lc on a single number like -10\n",
    "## it will break\n",
    "\n"
   ]
  },
  {
   "cell_type": "markdown",
   "metadata": {
    "id": "0Z17Ai35isXZ"
   },
   "source": [
    "# Universalize our absolute numbers function"
   ]
  },
  {
   "cell_type": "code",
   "execution_count": null,
   "metadata": {
    "id": "T1RZMy6ZisXZ"
   },
   "outputs": [],
   "source": [
    "## call the function make_abs\n"
   ]
  },
  {
   "cell_type": "code",
   "execution_count": null,
   "metadata": {
    "id": "MAGdM0l2isXc"
   },
   "outputs": [],
   "source": [
    "## try it on -10\n"
   ]
  },
  {
   "cell_type": "code",
   "execution_count": null,
   "metadata": {
    "id": "tYFM9eigisXe"
   },
   "outputs": [],
   "source": [
    "## Try it on mylist3 - it will break!\n"
   ]
  },
  {
   "cell_type": "markdown",
   "metadata": {
    "id": "XSrEIiOOisXf"
   },
   "source": [
    "## We can use the ```map()``` function to tackle this problem.\n",
    "\n",
    "```map()``` takes 2 arguments: a ```function``` and ```iterable like a list```."
   ]
  },
  {
   "cell_type": "code",
   "execution_count": null,
   "metadata": {
    "id": "jlXq8fI2isXg"
   },
   "outputs": [],
   "source": [
    "## try it on make_abs and mylist3\n"
   ]
  },
  {
   "cell_type": "code",
   "execution_count": null,
   "metadata": {
    "id": "Et9oBSbfisXi"
   },
   "outputs": [],
   "source": [
    "## save it into a list\n"
   ]
  },
  {
   "cell_type": "markdown",
   "metadata": {
    "id": "0CsViTZAisXk"
   },
   "source": [
    "## ```map()``` also works for multiple iterables\n",
    "\n",
    "#### remember our ```add_numbers_ret``` function."
   ]
  },
  {
   "cell_type": "code",
   "execution_count": null,
   "metadata": {
    "id": "cODMzJ8IisXk"
   },
   "outputs": [],
   "source": [
    "## here it is again:\n",
    "\n",
    "def add_numbers_ret(number1, number2):\n",
    "    return (number1 + number2)"
   ]
  },
  {
   "cell_type": "code",
   "execution_count": null,
   "metadata": {
    "id": "amKppxB6isXn"
   },
   "outputs": [],
   "source": [
    "## two lists\n",
    "a_even = [2, 4, 6, 8]\n",
    "a_odd = [1, 3, 5, 7, 9] ## note this has one more item in the list."
   ]
  },
  {
   "cell_type": "code",
   "execution_count": null,
   "metadata": {
    "id": "Eq6Rah9gisXp"
   },
   "outputs": [],
   "source": [
    "## run map on a_even and a_odd\n",
    "b = list(map(add_numbers_ret, a_even, a_odd))\n",
    "b"
   ]
  },
  {
   "cell_type": "markdown",
   "metadata": {
    "id": "x9xlNCaTisXr"
   },
   "source": [
    "## Functions that call other funcions"
   ]
  },
  {
   "cell_type": "code",
   "execution_count": null,
   "metadata": {
    "id": "46e6SsNjisXr"
   },
   "outputs": [],
   "source": [
    "## let's create a function that returns the square of a number\n",
    "\n"
   ]
  },
  {
   "cell_type": "code",
   "execution_count": null,
   "metadata": {
    "id": "lXVf6yyoisXt"
   },
   "outputs": [],
   "source": [
    "## what is 9 squared?\n"
   ]
  },
  {
   "cell_type": "markdown",
   "metadata": {
    "id": "KEs8xN58isXw"
   },
   "source": [
    "### Making a point here with a simple example\n",
    "Let's say we want to add 2 numbers together and then square that result.\n",
    "Instead of writing one \"complex\" function, we can call on our modular functions."
   ]
  },
  {
   "cell_type": "code",
   "execution_count": null,
   "metadata": {
    "id": "02MJSeJeisXw"
   },
   "outputs": [],
   "source": [
    "## a function that calls our modular functions\n",
    "\n",
    "    "
   ]
  },
  {
   "cell_type": "code",
   "execution_count": null,
   "metadata": {
    "id": "-JoHUTu0isXy"
   },
   "outputs": [],
   "source": [
    "## call make_point() on 2 and 5\n",
    "make_point(2,5)"
   ]
  }
 ],
 "metadata": {
  "celltoolbar": "Slideshow",
  "colab": {
   "collapsed_sections": [
    "KEs8xN58isXw"
   ],
   "name": "week-3 inclass functions-BLANKS.ipynb",
   "provenance": []
  },
  "kernelspec": {
   "display_name": "Python 3",
   "language": "python",
   "name": "python3"
  },
  "language_info": {
   "codemirror_mode": {
    "name": "ipython",
    "version": 3
   },
   "file_extension": ".py",
   "mimetype": "text/x-python",
   "name": "python",
   "nbconvert_exporter": "python",
   "pygments_lexer": "ipython3",
   "version": "3.8.8"
  }
 },
 "nbformat": 4,
 "nbformat_minor": 1
}

{
 "cells": [
  {
   "cell_type": "markdown",
   "metadata": {
    "id": "XI6zto6STb4w"
   },
   "source": [
    "# Week 2 - Flow Control"
   ]
  },
  {
   "cell_type": "markdown",
   "metadata": {
    "id": "30sMtwXFTb4x"
   },
   "source": [
    "#### The following play critical roles:  \n",
    "1. Indentation - running blocks of code.\n",
    "2. Time Delays - pacing the speed of our code.\n",
    "3. For Loops - iterating through data\n",
    "4. For Loops through multiple but related lists\n",
    "5. For Loops through Dictionaries\n",
    "6. Conditional Statements"
   ]
  },
  {
   "cell_type": "markdown",
   "metadata": {
    "id": "cIqZt8HlTb4y"
   },
   "source": [
    "## 1. Indentation\n",
    "\n",
    "* Python is unique in requiring indentations.\n",
    "* Indentations signify the start and end of code that belongs together (code blocks).\n",
    "* Without proper indentation, your code won't do what you expect.\n",
    "* Not working as expected? Check if you have indented correctly!"
   ]
  },
  {
   "cell_type": "markdown",
   "metadata": {
    "id": "lSQdSFGnTb4z"
   },
   "source": [
    "### Basic Flow Example: A Counter"
   ]
  },
  {
   "cell_type": "code",
   "execution_count": null,
   "metadata": {
    "id": "OtxKAi18Tb4z"
   },
   "outputs": [],
   "source": [
    "## Using a While loop build a counter that counts from 1 to 5.\n",
    "## Print the counter numbers in statement that reads \"The count is\" whatever the count is.\n",
    "## Once it reaches 5, it should print \"Done counting to 5!\"\n",
    "\n",
    "\n"
   ]
  },
  {
   "cell_type": "markdown",
   "metadata": {
    "id": "T8x4Mm-sTb43"
   },
   "source": [
    "### You just controlled flow using indentation and a while loop."
   ]
  },
  {
   "cell_type": "markdown",
   "metadata": {
    "id": "IcqF0AJRTb44"
   },
   "source": [
    "<img src=\"https://github.com/sandeepmj/fall20-student-practical-python/raw/dd310ff836feaff1c237bc12469196b9c2cc24b0/support_files/indent1.png\" style=\"width: 70%;\">"
   ]
  },
  {
   "cell_type": "markdown",
   "metadata": {
    "id": "tumkqC1VTb44"
   },
   "source": [
    "<img src=\"https://github.com/sandeepmj/fall20-student-practical-python/raw/dd310ff836feaff1c237bc12469196b9c2cc24b0/support_files/indent2.png\" style=\"width: 70%;\">"
   ]
  },
  {
   "cell_type": "markdown",
   "metadata": {
    "id": "xiJyFtVqTb45"
   },
   "source": [
    "<img src=\"https://github.com/sandeepmj/fall20-student-practical-python/raw/dd310ff836feaff1c237bc12469196b9c2cc24b0/support_files/indent3.png\" style=\"width: 70%;\">"
   ]
  },
  {
   "cell_type": "markdown",
   "metadata": {
    "id": "CSS4A88WTb46"
   },
   "source": [
    "## How fast does our code run?"
   ]
  },
  {
   "cell_type": "code",
   "execution_count": null,
   "metadata": {
    "id": "K3qzy9sfTb46"
   },
   "outputs": [],
   "source": [
    "\n",
    "\n"
   ]
  },
  {
   "cell_type": "markdown",
   "metadata": {
    "id": "DeNYDEZjTb49"
   },
   "source": [
    "## 2. Time Delays\n",
    "\n",
    "**Delay timers** are critical when scraping data from websites for several reasons. The **two** most important reasons are:\n",
    "\n",
    "1. Sometimes your scraper clicks on links and must wait for the content to actually populated on the new page. Your script is likely to run faster than a page can load.\n",
    "\n",
    "\n",
    "2. You don't want your scraper to be mistaken for a hostile attack on a server. You have to slow down the scrapes."
   ]
  },
  {
   "cell_type": "markdown",
   "metadata": {
    "id": "-sWBATesTb49"
   },
   "source": [
    "### Step 1 - Import required libraries"
   ]
  },
  {
   "cell_type": "code",
   "execution_count": null,
   "metadata": {
    "id": "fkP5GwcATb4-"
   },
   "outputs": [],
   "source": [
    "import time # time is required. we will use its sleep function\n",
    "# import datetime as dt ## we already imported this earlier, but you'd need it if starting fresh"
   ]
  },
  {
   "cell_type": "markdown",
   "metadata": {
    "id": "HPIFT2o2Tb5A"
   },
   "source": [
    "#### Let's add a 5-second delay:"
   ]
  },
  {
   "cell_type": "code",
   "execution_count": null,
   "metadata": {
    "id": "HLACyyEzTb5B",
    "scrolled": false
   },
   "outputs": [],
   "source": []
  },
  {
   "cell_type": "markdown",
   "metadata": {
    "id": "l7yf3LbLTb5H"
   },
   "source": [
    "### Randomize\n",
    "\n",
    "Software that tracks traffic to a server might grow suspicious about a hit every nth seconds.\n",
    "\n",
    "Let's **randomize** the time between hits by using ```randint``` from the ```random``` library.\n",
    "\n",
    "\n",
    "You might sometimes see me use ```randrange``` from the ```random``` library: ``` from random import randrange```.\n",
    "\n",
    "#### What's the difference?\n",
    "\n",
    "**Difference 1**\n",
    "\n",
    "```randrange``` is exclusive of the final range value.\n",
    "\n",
    "```randint``` is inclusive of the final range value.\n",
    "\n",
    "**Difference 2**\n",
    "\n",
    "```randrange``` allows you to add a step: ```randrange(start, end, step)```\n",
    "\n",
    "```randint ``` only has start and end: ```randint(start, end)\n"
   ]
  },
  {
   "cell_type": "code",
   "execution_count": null,
   "metadata": {
    "id": "mFonByfzTb5I"
   },
   "outputs": [],
   "source": [
    "from random import randint # import necessary library\n",
    "\n"
   ]
  },
  {
   "cell_type": "code",
   "execution_count": null,
   "metadata": {
    "id": "U5P0r148Tb5L"
   },
   "outputs": [],
   "source": [
    "from random import randrange ## import necessary library\n"
   ]
  },
  {
   "cell_type": "code",
   "execution_count": null,
   "metadata": {
    "id": "neWC6dqZTb5O"
   },
   "outputs": [],
   "source": [
    "# we've already imported random\n"
   ]
  },
  {
   "cell_type": "code",
   "execution_count": null,
   "metadata": {
    "id": "uC3ebnq5Tb5R"
   },
   "outputs": [],
   "source": [
    "## ONE LINE LESS of code; we've already imported from random import randrange \n"
   ]
  },
  {
   "cell_type": "markdown",
   "metadata": {
    "id": "pQAKnJI4Tb5T"
   },
   "source": [
    "## 3. For Loops\n",
    "\n",
    "### For Loops are your best friend - most used Python expression for journalists:\n",
    "\n",
    "### Iterate over:\n",
    "* data stored in a list and run some calculation on each value;\n",
    "* a list of URLs and visit each site to scrape data;\n",
    "* data stored in dictionary keys and values and return what you are looking for.\n"
   ]
  },
  {
   "cell_type": "markdown",
   "metadata": {
    "id": "T6xApuSYTb5U"
   },
   "source": [
    "## A simple ```for loop``` example:"
   ]
  },
  {
   "cell_type": "markdown",
   "metadata": {
    "id": "x6OkxaQUTb5U"
   },
   "source": [
    "<img src=\"https://github.com/sandeepmj/fall20-student-practical-python/raw/dd310ff836feaff1c237bc12469196b9c2cc24b0/support_files/forloop2.png\" style=\"width: 70%;\">"
   ]
  },
  {
   "cell_type": "markdown",
   "metadata": {
    "id": "e-eMP6YpTb5V"
   },
   "source": [
    "<img src=\"https://github.com/sandeepmj/fall20-student-practical-python/raw/dd310ff836feaff1c237bc12469196b9c2cc24b0/support_files/forloop3.png\" style=\"width: 70%;\">"
   ]
  },
  {
   "cell_type": "markdown",
   "metadata": {
    "id": "xpJUszsETb5V"
   },
   "source": [
    "<img src=\"https://github.com/sandeepmj/fall20-student-practical-python/raw/dd310ff836feaff1c237bc12469196b9c2cc24b0/support_files/forloop4.png\" style=\"width: 70%;\">"
   ]
  },
  {
   "cell_type": "markdown",
   "metadata": {
    "id": "9OQpneEbTb5W"
   },
   "source": [
    "<img src=\"https://github.com/sandeepmj/fall20-student-practical-python/raw/dd310ff836feaff1c237bc12469196b9c2cc24b0/support_files/forloop5.png\" style=\"width: 70%;\">"
   ]
  },
  {
   "cell_type": "markdown",
   "metadata": {
    "id": "wOdc0JjFTb5W"
   },
   "source": [
    "<img src=\"https://github.com/sandeepmj/fall20-student-practical-python/raw/dd310ff836feaff1c237bc12469196b9c2cc24b0/support_files/forloop6.png\" style=\"width: 70%;\">"
   ]
  },
  {
   "cell_type": "markdown",
   "metadata": {
    "id": "rXQeK-BBTb5X"
   },
   "source": [
    "<img src=\"https://github.com/sandeepmj/fall20-student-practical-python/raw/dd310ff836feaff1c237bc12469196b9c2cc24b0/support_files/forloop7.png\" style=\"width: 70%;\">"
   ]
  },
  {
   "cell_type": "markdown",
   "metadata": {
    "id": "YO6jmiVzTb5X"
   },
   "source": [
    "<img src=\"https://github.com/sandeepmj/fall20-student-practical-python/raw/dd310ff836feaff1c237bc12469196b9c2cc24b0/support_files/forloop8.png\" style=\"width: 70%;\">"
   ]
  },
  {
   "cell_type": "markdown",
   "metadata": {
    "id": "kA_wT38cTb5Y"
   },
   "source": [
    "<img src=\"https://github.com/sandeepmj/fall20-student-practical-python/raw/dd310ff836feaff1c237bc12469196b9c2cc24b0/support_files/forloop9.png\" style=\"width: 70%;\">"
   ]
  },
  {
   "cell_type": "markdown",
   "metadata": {
    "id": "oSTfRX1KTb5Y"
   },
   "source": [
    "<img src=\"https://github.com/sandeepmj/fall20-student-practical-python/raw/dd310ff836feaff1c237bc12469196b9c2cc24b0/support_files/forloop10.png\" style=\"width: 70%;\">"
   ]
  },
  {
   "cell_type": "markdown",
   "metadata": {
    "id": "KQ5VSmVJTb5Y"
   },
   "source": [
    "<img src=\"https://github.com/sandeepmj/fall20-student-practical-python/raw/dd310ff836feaff1c237bc12469196b9c2cc24b0/support_files/forloop11.png\" style=\"width: 70%;\">"
   ]
  },
  {
   "cell_type": "markdown",
   "metadata": {
    "id": "2s4wNTqWTb5Z"
   },
   "source": [
    "<img src=\"https://github.com/sandeepmj/fall20-student-practical-python/raw/dd310ff836feaff1c237bc12469196b9c2cc24b0/support_files/forloop12.png\" style=\"width: 70%;\">"
   ]
  },
  {
   "cell_type": "markdown",
   "metadata": {
    "id": "mtzDhlNhTb5a"
   },
   "source": [
    "Let's take **For Loops** for test drive:"
   ]
  },
  {
   "cell_type": "code",
   "execution_count": null,
   "metadata": {
    "id": "nUxiCM4ATb5b"
   },
   "outputs": [],
   "source": [
    "## RUN THIS CELL - Use this list of CEO salaries from 1985 \n",
    "ceo_salaries_1985 = [150_000, 201_000, 110_000, 75_000, 92_000, 55_000]"
   ]
  },
  {
   "cell_type": "code",
   "execution_count": null,
   "metadata": {
    "id": "slKIj6I5Tb5d"
   },
   "outputs": [],
   "source": [
    "## Print each salary with in the following format:\n",
    "## \"A CEO earned [some value] in 1985.\"\n"
   ]
  },
  {
   "cell_type": "code",
   "execution_count": null,
   "metadata": {
    "id": "of8edS6oTb5f"
   },
   "outputs": [],
   "source": [
    "## Now update each salary to 2019 dollars.\n",
    "## Print the following info:\n",
    "## \"A CEO's salary of [1985 salary] in 1985 is worth [updated salary] in 2019 dollars.\"\n",
    "## The CPI for 1985 is 107.6\n",
    "## The 2019 CPI is 255.657\n",
    "## The formula is: updated_salary = (oldSalary/oldCPI) * currentCPI\n"
   ]
  },
  {
   "cell_type": "markdown",
   "metadata": {
    "id": "Ha01uz9JTb5h"
   },
   "source": [
    "## 4. For Loops through multiple but related lists"
   ]
  },
  {
   "cell_type": "code",
   "execution_count": 2,
   "metadata": {
    "id": "2PRA8LoaTb5i"
   },
   "outputs": [],
   "source": [
    "##  RUN THIS CELL - You scrape a site and each datapoint is stored in different lists\n",
    "first_names = [\"Irene\", \"Ursula\", \"Elon\", \"Tim\"]\n",
    "last_names = [\"Rosenfeld\", \"Burns\", \"Musk\", \"Cook\"]\n",
    "titles = [\"Chairman and CEO\", \"Chairman and CEO\", \"CEO\", \"CEO\"]\n",
    "companies = [\"Kraft Foods\", \"Xerox\", \"Tesla\", \"Apple\"]\n",
    "industries = [\"Food and Beverage\", \"Process and Document Management\", \"Auto Manufacturing\", \"Consumer Technology\"]"
   ]
  },
  {
   "cell_type": "markdown",
   "metadata": {
    "id": "0QxLIvTmTb5k"
   },
   "source": [
    "#### Use ```zip()``` to zip lists together"
   ]
  },
  {
   "cell_type": "code",
   "execution_count": null,
   "metadata": {
    "id": "cQeH1oC8Tb5k"
   },
   "outputs": [],
   "source": [
    "## with zip\n",
    "## also print what each type of data is.\n",
    "\n"
   ]
  },
  {
   "cell_type": "code",
   "execution_count": null,
   "metadata": {
    "id": "tSDiz6mdNQM2"
   },
   "outputs": [],
   "source": [
    "## zip it and store in a list called ceo_list\n",
    "\n"
   ]
  },
  {
   "cell_type": "code",
   "execution_count": null,
   "metadata": {
    "id": "_O9ino76NaD8"
   },
   "outputs": [],
   "source": [
    "## export to a pandas dataframe"
   ]
  },
  {
   "cell_type": "code",
   "execution_count": null,
   "metadata": {
    "id": "0Cd61WpFOOsW"
   },
   "outputs": [],
   "source": [
    "## export to a csv"
   ]
  },
  {
   "cell_type": "code",
   "execution_count": null,
   "metadata": {
    "id": "UFu35-VLMVOD"
   },
   "outputs": [],
   "source": [
    "## recall that dictionaries are like columns and rows in a csv\n",
    "## let's turn this csv into a dataframe"
   ]
  },
  {
   "cell_type": "markdown",
   "metadata": {},
   "source": [
    "## Another way: turn tuples into lists \n",
    "\n",
    "\n"
   ]
  },
  {
   "cell_type": "code",
   "execution_count": 3,
   "metadata": {},
   "outputs": [
    {
     "name": "stdout",
     "output_type": "stream",
     "text": [
      "['Irene', 'Rosenfeld', 'Chairman and CEO', 'Kraft Foods', 'Food and Beverage']\n",
      "<class 'list'>\n",
      "['Ursula', 'Burns', 'Chairman and CEO', 'Xerox', 'Process and Document Management']\n",
      "<class 'list'>\n",
      "['Elon', 'Musk', 'CEO', 'Tesla', 'Auto Manufacturing']\n",
      "<class 'list'>\n",
      "['Tim', 'Cook', 'CEO', 'Apple', 'Consumer Technology']\n",
      "<class 'list'>\n"
     ]
    },
    {
     "data": {
      "text/plain": [
       "['Tim', 'Cook', 'CEO', 'Apple', 'Consumer Technology']"
      ]
     },
     "execution_count": 3,
     "metadata": {},
     "output_type": "execute_result"
    }
   ],
   "source": [
    "## zip lists into a list of lists\n"
   ]
  },
  {
   "cell_type": "markdown",
   "metadata": {
    "id": "cNeGj672Tb5r"
   },
   "source": [
    "## 5. For Loops through Dictionaries\n"
   ]
  },
  {
   "cell_type": "code",
   "execution_count": null,
   "metadata": {
    "id": "pudFqz8pTb5s"
   },
   "outputs": [],
   "source": [
    "## You have a list of CEO salaries from 1969.\n",
    "sals_1969 = [47_000, 65_000, 39_000, 96_000]"
   ]
  },
  {
   "cell_type": "code",
   "execution_count": null,
   "metadata": {
    "id": "ytiL4ZdnTb5u"
   },
   "outputs": [],
   "source": [
    "## We need the value of these salaries updated for every decade till 2019\n",
    "## Here are the CPIs for each decade in list of dictionaries from 1969 to 2019.\n",
    "\n",
    "decades_cpi = [\n",
    "   {\"year\": 1979, \"cpi\": 72.6,},\n",
    "    {\"year\": 1989, \"cpi\": 124}, \n",
    "    {\"year\": 1999, \"cpi\": 166.6},\n",
    "    {\"year\": 2009, \"cpi\": 214.537},\n",
    "    {\"year\": 2019, \"cpi\": 255.657}\n",
    "              ]\n",
    "\n",
    "## Show the contents of this list of dictionaries\n"
   ]
  },
  {
   "cell_type": "code",
   "execution_count": null,
   "metadata": {
    "id": "pSz_RmzxTb5w"
   },
   "outputs": [],
   "source": [
    "## What datatype is decades_cpi\n"
   ]
  },
  {
   "cell_type": "code",
   "execution_count": null,
   "metadata": {
    "id": "RuUL44n-Tb5x"
   },
   "outputs": [],
   "source": [
    "# Check what type of data each list item is within decades_cpi\n",
    "\n"
   ]
  },
  {
   "cell_type": "code",
   "execution_count": null,
   "metadata": {
    "id": "0WH-9ya5Tb50"
   },
   "outputs": [],
   "source": [
    "## Print out each value in this format:\n",
    "## \"key --> value\"\n"
   ]
  },
  {
   "cell_type": "markdown",
   "metadata": {
    "id": "mT0h26qMTb52"
   },
   "source": [
    "### The key alternates between the strings \"year\" and \"cpi\" in this loop.\n",
    "\n",
    "### How do we actually target the values for \"year\" and \"cpi\" and place them in our calculations?"
   ]
  },
  {
   "cell_type": "code",
   "execution_count": null,
   "metadata": {
    "id": "xsGsyIT_Tb53"
   },
   "outputs": [],
   "source": [
    "## show it here:\n",
    "\n"
   ]
  },
  {
   "cell_type": "code",
   "execution_count": null,
   "metadata": {
    "id": "ff_zwjUiTb54"
   },
   "outputs": [],
   "source": [
    "## Loop through each salary and update its value for each decade\n"
   ]
  },
  {
   "cell_type": "markdown",
   "metadata": {
    "id": "6HUFG4qkTb56"
   },
   "source": [
    "## 6. Conditional Statements"
   ]
  },
  {
   "cell_type": "code",
   "execution_count": null,
   "metadata": {
    "id": "x5teCnAUTb56"
   },
   "outputs": [],
   "source": [
    "## create a list of 10 random numbers anywhere from -100 to 100 \n",
    "##name the list numbers\n"
   ]
  },
  {
   "cell_type": "markdown",
   "metadata": {
    "id": "GGRS_llLTb58"
   },
   "source": [
    "## Create conditional statements that tell us if the last number and the penultimate number are positive or negative.\n",
    "## Print a sentence that reads:\n",
    "```\n",
    "\"The last number [what is it?] is [positive or negative] while \n",
    " the penultimate number [what is it?] is [negative or positive].\"\n",
    "```"
   ]
  },
  {
   "cell_type": "code",
   "execution_count": null,
   "metadata": {
    "id": "fX-0cuPsTb58"
   },
   "outputs": [],
   "source": [
    "## if else statements\n"
   ]
  },
  {
   "cell_type": "markdown",
   "metadata": {
    "id": "rp56atTgTb5-"
   },
   "source": [
    "## Tenary Expression\n",
    "```variable = value1 if some_condition else value2```"
   ]
  },
  {
   "cell_type": "code",
   "execution_count": null,
   "metadata": {
    "id": "cFpBA-9lTb5-"
   },
   "outputs": [],
   "source": [
    "## ternary expression\n",
    "# as ternary expression\n"
   ]
  },
  {
   "cell_type": "markdown",
   "metadata": {
    "id": "Ce4lvFSMTb6A"
   },
   "source": [
    "## Multiple Tenary Expression\n",
    "```variable = value1 if condition1 else value2 if condition2 else value3 ```"
   ]
  },
  {
   "cell_type": "code",
   "execution_count": null,
   "metadata": {
    "id": "EBQ9tIVuTb6A"
   },
   "outputs": [],
   "source": [
    "## A simple example\n"
   ]
  },
  {
   "cell_type": "code",
   "execution_count": null,
   "metadata": {
    "id": "8DBnd8e3Tb6C"
   },
   "outputs": [],
   "source": [
    "'''\n",
    "write a simple if else statement that prints out x is greater than y,\n",
    "or y is greater than x or if they are equal.\n",
    "'''\n"
   ]
  },
  {
   "cell_type": "code",
   "execution_count": null,
   "metadata": {
    "id": "bDWXUD5LTb6D"
   },
   "outputs": [],
   "source": [
    "## Now as a ternary\n"
   ]
  },
  {
   "cell_type": "markdown",
   "metadata": {
    "id": "_OWbkJiyTb6F"
   },
   "source": [
    "## Conditionals as Tuples\n",
    "\n",
    "```(\"False: Does not meet condition\", \"True: Meets condition\")[conditional expression]```"
   ]
  },
  {
   "cell_type": "code",
   "execution_count": null,
   "metadata": {
    "id": "t7p9aifGTb6G"
   },
   "outputs": [],
   "source": [
    "age = 20"
   ]
  },
  {
   "cell_type": "code",
   "execution_count": null,
   "metadata": {
    "id": "3Ske6RBVTb6I"
   },
   "outputs": [],
   "source": [
    "## conditional tuple"
   ]
  },
  {
   "cell_type": "markdown",
   "metadata": {
    "id": "b_2lnqvQTb6K"
   },
   "source": [
    "## Challenge\n",
    "\n",
    "Write a tenary expression to update the first conditional exercise above to deal Zeros. For example if the random list generates:\n",
    "\n",
    "```[46, 30, 31, -56, 18, 57, -90, 81, 0, 0]```\n",
    "\n",
    "It should print out:\n",
    "\n",
    "```The last number (0) is neither negative or positive at zero while the penultimate number (0) is neither negative or positive at zero.```"
   ]
  },
  {
   "cell_type": "code",
   "execution_count": null,
   "metadata": {
    "id": "JjtELyU_Tb6K"
   },
   "outputs": [],
   "source": [
    "## activate the list\n",
    "numbers = [46, 30, 31, -56, 18, 57, -90, 81, 0, 0]"
   ]
  },
  {
   "cell_type": "code",
   "execution_count": null,
   "metadata": {
    "id": "uVdEBk_UTb6L"
   },
   "outputs": [],
   "source": [
    "## write your multiple ternary expression\n"
   ]
  },
  {
   "cell_type": "code",
   "execution_count": null,
   "metadata": {
    "id": "un14_R3ITb6N"
   },
   "outputs": [],
   "source": []
  }
 ],
 "metadata": {
  "celltoolbar": "Slideshow",
  "colab": {
   "collapsed_sections": [
    "T8x4Mm-sTb43",
    "T6xApuSYTb5U"
   ],
   "name": "week-2-inclass-exercises-BLANKS.ipynb",
   "provenance": [
    {
     "file_id": "1DhXxhMrJcwYydB2VNDAPReeAni-DDDHS",
     "timestamp": 1624385199338
    }
   ]
  },
  "kernelspec": {
   "display_name": "Python 3",
   "language": "python",
   "name": "python3"
  },
  "language_info": {
   "codemirror_mode": {
    "name": "ipython",
    "version": 3
   },
   "file_extension": ".py",
   "mimetype": "text/x-python",
   "name": "python",
   "nbconvert_exporter": "python",
   "pygments_lexer": "ipython3",
   "version": "3.8.8"
  }
 },
 "nbformat": 4,
 "nbformat_minor": 1
}

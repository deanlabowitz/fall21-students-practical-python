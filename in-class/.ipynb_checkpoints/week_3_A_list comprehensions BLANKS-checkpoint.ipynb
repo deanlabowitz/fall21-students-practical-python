{
 "cells": [
  {
   "cell_type": "code",
   "execution_count": 1,
   "metadata": {
    "id": "ewAafTSZffPi"
   },
   "outputs": [],
   "source": [
    "## run this list\n",
    "numbers = [0, 1, 2, 3, 4, 5, 6, 7, 8, 9, 10]"
   ]
  },
  {
   "cell_type": "code",
   "execution_count": 2,
   "metadata": {
    "id": "PYQ8RjbGfsT4"
   },
   "outputs": [
    {
     "data": {
      "text/plain": [
       "[0, 10, 20, 30, 40, 50, 60, 70, 80, 90, 100]"
      ]
     },
     "execution_count": 2,
     "metadata": {},
     "output_type": "execute_result"
    }
   ],
   "source": [
    "## use a FOR LOOP (FL) to create a list that holds the numbers times 10\n",
    "tens_ls = []\n",
    "for number in numbers:\n",
    "    tens_ls.append(number*10)\n",
    "    \n",
    "tens_ls"
   ]
  },
  {
   "cell_type": "code",
   "execution_count": null,
   "metadata": {
    "id": "ZuKI0ebYf1ON"
   },
   "outputs": [],
   "source": [
    "## use list comprehension (LC) to create a list that holds the numbers times 10\n",
    "tens = []"
   ]
  },
  {
   "cell_type": "code",
   "execution_count": null,
   "metadata": {
    "id": "R9EJBM96gBWy"
   },
   "outputs": [],
   "source": [
    "## use LC to create a list that holds only the even numbers "
   ]
  },
  {
   "cell_type": "code",
   "execution_count": null,
   "metadata": {
    "id": "23TpWeMAgLOX"
   },
   "outputs": [],
   "source": [
    "## use LC to create a list that holds only the odd numbers "
   ]
  },
  {
   "cell_type": "code",
   "execution_count": null,
   "metadata": {},
   "outputs": [],
   "source": [
    "## use LC to expresss as True or False"
   ]
  }
 ],
 "metadata": {
  "colab": {
   "authorship_tag": "ABX9TyParc7GqVTMmRdkxBfsvSNX",
   "collapsed_sections": [],
   "name": "Copy of week-3 list comprehensions BLANKS.ipynb",
   "provenance": [
    {
     "file_id": "1LcwzZTuxKTFeutnnhl0KoIoAwAN6dKPS",
     "timestamp": 1625014204410
    }
   ]
  },
  "kernelspec": {
   "display_name": "Python 3",
   "language": "python",
   "name": "python3"
  },
  "language_info": {
   "codemirror_mode": {
    "name": "ipython",
    "version": 3
   },
   "file_extension": ".py",
   "mimetype": "text/x-python",
   "name": "python",
   "nbconvert_exporter": "python",
   "pygments_lexer": "ipython3",
   "version": "3.8.8"
  }
 },
 "nbformat": 4,
 "nbformat_minor": 1
}
